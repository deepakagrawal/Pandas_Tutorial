{
  "nbformat": 4,
  "nbformat_minor": 0,
  "metadata": {
    "colab": {
      "name": "1-Python Beginner Workshop.ipynb",
      "version": "0.3.2",
      "provenance": [],
      "include_colab_link": true
    },
    "language_info": {
      "codemirror_mode": {
        "name": "ipython",
        "version": 3
      },
      "file_extension": ".py",
      "mimetype": "text/x-python",
      "name": "python",
      "nbconvert_exporter": "python",
      "pygments_lexer": "ipython3",
      "version": "3.7.3"
    },
    "kernelspec": {
      "display_name": "Python 3",
      "language": "python",
      "name": "python3"
    }
  },
  "cells": [
    {
      "cell_type": "markdown",
      "metadata": {
        "id": "view-in-github",
        "colab_type": "text"
      },
      "source": [
        "<a href=\"https://colab.research.google.com/github/deepakagrawal/Pandas_Tutorial/blob/master/1-Python_Beginner_Workshop.ipynb\" target=\"_parent\"><img src=\"https://colab.research.google.com/assets/colab-badge.svg\" alt=\"Open In Colab\"/></a>"
      ]
    },
    {
      "cell_type": "markdown",
      "metadata": {
        "id": "wb9utnqYM33_",
        "colab_type": "text"
      },
      "source": [
        "# Resources\n",
        "\n",
        "* https://www.python.org/\n",
        "* https://docs.scipy.org/\n",
        "* https://www.python.org/about/gettingstarted/"
      ]
    },
    {
      "cell_type": "markdown",
      "metadata": {
        "id": "pGygauF1M3xA",
        "colab_type": "text"
      },
      "source": [
        "## Installing Python\n",
        "\n",
        "There are many distributions of python available for installation for wide variety of platforms. Some of the most popular distributions are \n",
        "* **Anaconda**,\n",
        "* **Python (x,y)** (Mainly for windows)\n",
        "\n",
        "These distributions come standard with most common libraries needed for Data Science and Optimization\n",
        "\n",
        "In today's workshop we are going to use Anaconda. \n",
        "[64bit](https://repo.anaconda.com/archive/Anaconda3-2019.03-Windows-x86_64.exe)\n"
      ]
    },
    {
      "cell_type": "markdown",
      "metadata": {
        "id": "Ry9HFyzoM3xC",
        "colab_type": "text"
      },
      "source": [
        "# Hello World!!"
      ]
    },
    {
      "cell_type": "code",
      "metadata": {
        "id": "NHIU4hQ3M3xE",
        "colab_type": "code",
        "colab": {}
      },
      "source": [
        "print(\"hello world!!\")\n",
        "# shift + enter to run the code\n",
        "# #meanscomments"
      ],
      "execution_count": 0,
      "outputs": []
    },
    {
      "cell_type": "markdown",
      "metadata": {
        "id": "FJVzWN3PM3xO",
        "colab_type": "text"
      },
      "source": [
        "## Few things about Python\n",
        "* **Python is Interpreted**: Python is processed at runtime by the interpreter. You do not need to compile your program before executing it. This is similar to PERL and PHP.\n",
        "\n",
        "* **Python is Interactive**: You can actually sit at a Python prompt and interact with the interpreter directly to write your programs.\n",
        "\n",
        "* **Python is Object-Oriented**: Python supports Object-Oriented style or technique of programming that encapsulates code within objects.\n",
        "\n",
        "* **Python is a Beginner's Language**: Python is a great language for the beginner-level programmers and supports the development of a wide range of applications from simple text processing to WWW browsers to games.\n",
        "\n",
        "* **Python can be easily integrable**: Python can be integrated with C, C++, COM, ActiveX, CORBA, and Java, R, Spark and many more languages.\n",
        "\n",
        "* **GUI Programming**: Python supports GUI applications that can be created and ported to many system calls, libraries and windows systems, such as Windows MFC, Macintosh, and the X Window system of Unix."
      ]
    },
    {
      "cell_type": "markdown",
      "metadata": {
        "id": "cj0gmhDzM3xP",
        "colab_type": "text"
      },
      "source": [
        "# Input"
      ]
    },
    {
      "cell_type": "code",
      "metadata": {
        "scrolled": true,
        "id": "GJ54QGN9M3xQ",
        "colab_type": "code",
        "colab": {}
      },
      "source": [
        "ipt=input(\"what's your name?\")\n",
        "print(\"User's name is \"+ipt)"
      ],
      "execution_count": 0,
      "outputs": []
    },
    {
      "cell_type": "markdown",
      "metadata": {
        "id": "enfqnnyjM3xW",
        "colab_type": "text"
      },
      "source": [
        "## Multiple Assignments"
      ]
    },
    {
      "cell_type": "code",
      "metadata": {
        "scrolled": true,
        "id": "gzDWNh9zM3xY",
        "colab_type": "code",
        "colab": {}
      },
      "source": [
        "## tips\n",
        "a,b,c = 1,2,3\n",
        "print(a,b,c)"
      ],
      "execution_count": 0,
      "outputs": []
    },
    {
      "cell_type": "code",
      "metadata": {
        "scrolled": true,
        "id": "2qFbmvUKM3xd",
        "colab_type": "code",
        "colab": {}
      },
      "source": [
        "# tips\n",
        "a=b=c=9\n",
        "print(a, b, c)"
      ],
      "execution_count": 0,
      "outputs": []
    },
    {
      "cell_type": "markdown",
      "metadata": {
        "id": "-Q6hEwFhM3xj",
        "colab_type": "text"
      },
      "source": [
        "## Multiple Statements on a Single Line"
      ]
    },
    {
      "cell_type": "code",
      "metadata": {
        "id": "Dx7hzvgGM3xk",
        "colab_type": "code",
        "colab": {}
      },
      "source": [
        "a += 1; b = c+2; c= 0\n",
        "print (a,b,c)"
      ],
      "execution_count": 0,
      "outputs": []
    },
    {
      "cell_type": "markdown",
      "metadata": {
        "id": "o6raZJKEM3xq",
        "colab_type": "text"
      },
      "source": [
        "## Deleting Vatiables"
      ]
    },
    {
      "cell_type": "code",
      "metadata": {
        "id": "BT6-nLR-M3xr",
        "colab_type": "code",
        "colab": {}
      },
      "source": [
        "del a\n",
        "a"
      ],
      "execution_count": 0,
      "outputs": []
    },
    {
      "cell_type": "markdown",
      "metadata": {
        "id": "qi866d35M3xx",
        "colab_type": "text"
      },
      "source": [
        "# Basic Data Types: string, integer, float, boolean"
      ]
    },
    {
      "cell_type": "code",
      "metadata": {
        "id": "wI_io2baM3xy",
        "colab_type": "code",
        "colab": {}
      },
      "source": [
        "#Everything in python is objects\n",
        "#Once class of the variable is known\n",
        "#all of the functions/\n",
        "Var='Hello World!'  ##string\n",
        "Var2=99             ##integer\n",
        "var_3=0.314         ##float\n",
        "var4=True           ##boolean\n",
        "print(Var,Var2,var_3,var4) ## output different variables use , to seperate them"
      ],
      "execution_count": 0,
      "outputs": []
    },
    {
      "cell_type": "code",
      "metadata": {
        "id": "JQkYrLPiM3x4",
        "colab_type": "code",
        "colab": {}
      },
      "source": [
        "## everything is an object\n",
        "print(Var.upper())\n",
        "print(Var.lower())\n",
        "print(Var.count(\"o\"))"
      ],
      "execution_count": 0,
      "outputs": []
    },
    {
      "cell_type": "markdown",
      "metadata": {
        "id": "9jALgWKPM3x9",
        "colab_type": "text"
      },
      "source": [
        "## Check the data types"
      ]
    },
    {
      "cell_type": "code",
      "metadata": {
        "id": "btFJ--BGM3x_",
        "colab_type": "code",
        "colab": {}
      },
      "source": [
        "## use type() function to check the type of variables\n",
        "print(Var,'is',type(Var))\n",
        "print(Var2,'is',type(Var2))\n",
        "print(var_3,'is',type(var_3))\n",
        "print(var4,'is',type(var4))"
      ],
      "execution_count": 0,
      "outputs": []
    },
    {
      "cell_type": "markdown",
      "metadata": {
        "id": "ULS2wnmgM3yF",
        "colab_type": "text"
      },
      "source": [
        "## Convert the data types"
      ]
    },
    {
      "cell_type": "code",
      "metadata": {
        "scrolled": true,
        "id": "9dOMsLzmM3yH",
        "colab_type": "code",
        "colab": {}
      },
      "source": [
        "# use int(x) or str(x) or float(x) or bool(x) to convert respectively\n",
        "print(\"the datatype of Var2 is:\",type(Var2))\n",
        "print(\"the datatype of str(Var2) is:\",type(str(Var2)))\n",
        "print(\"the datatype of float(Var2) is:\",type(float(Var2)))\n",
        "print(\"the datatype of bool(Var2) is:\",type(bool(Var2)))"
      ],
      "execution_count": 0,
      "outputs": []
    },
    {
      "cell_type": "markdown",
      "metadata": {
        "id": "QzhRvw59M3yQ",
        "colab_type": "text"
      },
      "source": [
        "# Compound Data Types: List, Tuple, Dictionary (AKA Sequence Types)"
      ]
    },
    {
      "cell_type": "code",
      "metadata": {
        "id": "2lTe5QuqM3yS",
        "colab_type": "code",
        "colab": {}
      },
      "source": [
        "## can be heterogeneous\n",
        "l=[1,'a',False,0.314]\n",
        "print(l,type(l))\n",
        "t=(1,'a',False,0.314)\n",
        "print(t,type(t))\n",
        "d={\"arp_cd\":'BOS',\"lat_deg\":42,\"lat_min\":21,\"lat_sec\":51,\"lat_hem_cd\":\"N\",\"lng_deg\":71,\\\n",
        "   \"lng_min\":0,\"lng_sec\":20,\"lng_hem_cd\":\"W\"} ## notice the backslash for nextline\n",
        "print(d,type(d))"
      ],
      "execution_count": 0,
      "outputs": []
    },
    {
      "cell_type": "code",
      "metadata": {
        "id": "2SJVJFc6M3yc",
        "colab_type": "code",
        "colab": {}
      },
      "source": [
        "## access values inside of them using index\n",
        "## index start with 0 to lenght-1\n",
        "print(l[0])   ## the first element\n",
        "print(l[-1])  ## the last one element \n",
        "print(t[2])   ## the third element\n",
        "print(t[0:2]) ## first two elements\n",
        "print(t[2:])  ## rest of elements after the second elements"
      ],
      "execution_count": 0,
      "outputs": []
    },
    {
      "cell_type": "markdown",
      "metadata": {
        "id": "jd_GvefUM3yk",
        "colab_type": "text"
      },
      "source": [
        "## List "
      ]
    },
    {
      "cell_type": "code",
      "metadata": {
        "id": "pCub3x-BM3ym",
        "colab_type": "code",
        "colab": {}
      },
      "source": [
        "## sort then if it contains same type of elements\n",
        "l=[1,5,36,263,675,2,4,6]\n",
        "l.sort()\n",
        "print(l)\n",
        "l=['DFW','JFK','LAX','ABQ','MIA']\n",
        "l.sort()\n",
        "print(l)"
      ],
      "execution_count": 0,
      "outputs": []
    },
    {
      "cell_type": "code",
      "metadata": {
        "scrolled": true,
        "id": "lpWlX370M3yv",
        "colab_type": "code",
        "colab": {}
      },
      "source": [
        "## add new element\n",
        "print(\"old list:\",l)\n",
        "l.append(\"MCO\")\n",
        "print('new list:',l)"
      ],
      "execution_count": 0,
      "outputs": []
    },
    {
      "cell_type": "code",
      "metadata": {
        "id": "ZOWNFkJ9M3y5",
        "colab_type": "code",
        "colab": {}
      },
      "source": [
        "## common mistake\n",
        "l=['DFW','JFK','LAX','ABQ','MIA']\n",
        "a = l\n",
        "print(\"list a:\",a)\n",
        "a[2]=\"ORD\"  ## this is how we can access and change the value\n",
        "print(\"list l:\",l)"
      ],
      "execution_count": 0,
      "outputs": []
    },
    {
      "cell_type": "code",
      "metadata": {
        "id": "yAyiP0qmM3zE",
        "colab_type": "code",
        "colab": {}
      },
      "source": [
        "l=['DFW','JFK','LAX','ABQ','MIA']\n",
        "print(\"list l:\",l)\n",
        "a = list(l)\n",
        "print(\"list a:\",a)\n",
        "a[2]=\"ORD\"\n",
        "print(\"list l:\",l)\n",
        "print(\"list a:\",a)"
      ],
      "execution_count": 0,
      "outputs": []
    },
    {
      "cell_type": "code",
      "metadata": {
        "id": "q7sEac6iM3zP",
        "colab_type": "code",
        "colab": {}
      },
      "source": [
        "l=['DFW','JFK','LAX','ABQ','MIA','MIA','LAX']\n",
        "print(len(l))\n",
        "print(set(l))\n",
        "print(len(set(l)))"
      ],
      "execution_count": 0,
      "outputs": []
    },
    {
      "cell_type": "markdown",
      "metadata": {
        "id": "Nxc4vLdZM3zZ",
        "colab_type": "text"
      },
      "source": [
        "## Tuple "
      ]
    },
    {
      "cell_type": "code",
      "metadata": {
        "id": "dVxsmreeM3zb",
        "colab_type": "code",
        "colab": {}
      },
      "source": [
        "t=('DFW','JFK','LAX','ABQ','MIA')\n",
        "print(t)\n",
        "print(type(t))"
      ],
      "execution_count": 0,
      "outputs": []
    },
    {
      "cell_type": "code",
      "metadata": {
        "id": "Ri7sEkPBM3zl",
        "colab_type": "code",
        "colab": {}
      },
      "source": [
        "print(t[3])\n",
        "t[3] = \"ORD\""
      ],
      "execution_count": 0,
      "outputs": []
    },
    {
      "cell_type": "markdown",
      "metadata": {
        "id": "hhkwXJlqM3zr",
        "colab_type": "text"
      },
      "source": [
        "##### why we need use tuple????\n",
        "\n",
        "* security? not really if I know the name of the value, I can overwrite it || I can convert it\n",
        "* check the function of list\n",
        "* check the function of tuple\n",
        "* tuple is much more \"light\" than list\n",
        "* therefore, reading/finding base within a tuple is much faster than within a list\n",
        "* around 7 times\n",
        "###### example:\n",
        "    \n",
        "Therefore, when we are searching inside of a list, change it to tuple, and convert it back to list"
      ]
    },
    {
      "cell_type": "code",
      "metadata": {
        "id": "EbWHCl4LM3zs",
        "colab_type": "code",
        "colab": {}
      },
      "source": [
        "timeit l = [\"fee\", \"fie\", \"fo\", \"fum\"]"
      ],
      "execution_count": 0,
      "outputs": []
    },
    {
      "cell_type": "code",
      "metadata": {
        "id": "fAoaiTbkM3zz",
        "colab_type": "code",
        "colab": {}
      },
      "source": [
        "timeit t = (\"fee\", \"fie\", \"fo\", \"fum\")"
      ],
      "execution_count": 0,
      "outputs": []
    },
    {
      "cell_type": "markdown",
      "metadata": {
        "id": "meQAsyHkM3z4",
        "colab_type": "text"
      },
      "source": [
        "# Dictionary"
      ]
    },
    {
      "cell_type": "code",
      "metadata": {
        "id": "ATOekaOVM3z5",
        "colab_type": "code",
        "colab": {}
      },
      "source": [
        "## how to access the dictionary\n",
        "d={\"org_arp_cd\":'DFW',\"dst_arp_cd\":'LAX',\"lcl_dep_dtm\":'2017-10-12 08:40'}\n",
        "print(d)\n",
        "print(d.keys())\n",
        "print(d.values())\n",
        "print(d[\"org_arp_cd\"])\n",
        "print(\"the value of the first key \" + tuple(d.keys())[0] + \" is =\" + d[tuple(d.keys())[0]])"
      ],
      "execution_count": 0,
      "outputs": []
    },
    {
      "cell_type": "code",
      "metadata": {
        "id": "D8g1CmQtM30K",
        "colab_type": "code",
        "colab": {}
      },
      "source": [
        "new_Dict = {'key1': [[1,2], [3], [4,5,6], [[3,4,5]]]}"
      ],
      "execution_count": 0,
      "outputs": []
    },
    {
      "cell_type": "code",
      "metadata": {
        "id": "oPN7gBsDM30Q",
        "colab_type": "code",
        "colab": {}
      },
      "source": [
        "## change the value\n",
        "d[\"org_arp_cd\"]='JFK'\n",
        "print(d)"
      ],
      "execution_count": 0,
      "outputs": []
    },
    {
      "cell_type": "code",
      "metadata": {
        "id": "XFTWQULNM30V",
        "colab_type": "code",
        "colab": {}
      },
      "source": [
        "##add new keys and values\n",
        "d['lcl_arv_dtm']='2017-10-12 10:22'\n",
        "print(d)"
      ],
      "execution_count": 0,
      "outputs": []
    },
    {
      "cell_type": "code",
      "metadata": {
        "id": "u36NOU3MM30c",
        "colab_type": "code",
        "colab": {}
      },
      "source": [
        "## delet keys\n",
        "del d['lcl_arv_dtm']\n",
        "print(d)"
      ],
      "execution_count": 0,
      "outputs": []
    },
    {
      "cell_type": "code",
      "metadata": {
        "id": "Hfo_NVcpM30j",
        "colab_type": "code",
        "colab": {}
      },
      "source": [
        "## adding new keys and values like this is not efficient\n",
        "##how to create a dictionary with given lists\n",
        "arp_list = [['DFW', 'CLT'], ['ATL', 'DTW'], ['ORD', 'EWR']]\n",
        "aln_list = ['AA', 'DL', 'UA']\n",
        "dict(zip(aln_list,arp_list))\n",
        "## first location put keys, second location put values"
      ],
      "execution_count": 0,
      "outputs": []
    },
    {
      "cell_type": "markdown",
      "metadata": {
        "id": "hI38sY-6M30u",
        "colab_type": "text"
      },
      "source": [
        "# Operators"
      ]
    },
    {
      "cell_type": "markdown",
      "metadata": {
        "id": "p5K3WCGhM30v",
        "colab_type": "text"
      },
      "source": [
        "## Math Operators"
      ]
    },
    {
      "cell_type": "code",
      "metadata": {
        "id": "9XFJ_cTqM30w",
        "colab_type": "code",
        "colab": {}
      },
      "source": [
        "## + - * /\n",
        "a = 4 + 6\n",
        "print(a)\n",
        "a = 5 - 3\n",
        "print(a)\n",
        "a = 5 * 3\n",
        "print(a)\n",
        "a = 5/3\n",
        "print(a)"
      ],
      "execution_count": 0,
      "outputs": []
    },
    {
      "cell_type": "code",
      "metadata": {
        "id": "f9WseXqxM300",
        "colab_type": "code",
        "colab": {}
      },
      "source": [
        "## power   integer division\n",
        "a = 2 ** 10\n",
        "print(a)\n",
        "a = 10//3\n",
        "print(a)"
      ],
      "execution_count": 0,
      "outputs": []
    },
    {
      "cell_type": "code",
      "metadata": {
        "id": "NhLxq5s1M305",
        "colab_type": "code",
        "colab": {}
      },
      "source": [
        "#string\n",
        "print(Var)\n",
        "print(Var+Var)\n",
        "print(Var*4)"
      ],
      "execution_count": 0,
      "outputs": []
    },
    {
      "cell_type": "code",
      "metadata": {
        "id": "7bxC0AenM30-",
        "colab_type": "code",
        "colab": {}
      },
      "source": [
        "# list\n",
        "print(d.keys())\n",
        "print(d.values())\n",
        "print(list(d.keys()) + list(d.values()))\n",
        "print(list(d.values())*10)"
      ],
      "execution_count": 0,
      "outputs": []
    },
    {
      "cell_type": "markdown",
      "metadata": {
        "id": "-UIHXmkcM31E",
        "colab_type": "text"
      },
      "source": [
        "## Comparisons"
      ]
    },
    {
      "cell_type": "code",
      "metadata": {
        "id": "yBm3DFgPM31F",
        "colab_type": "code",
        "colab": {}
      },
      "source": [
        "## <, <=, >, >=, ==, !=, is, is not, in\n",
        "## results from comparisions are boolean\n",
        "a = 2<1\n",
        "print(a)\n",
        "a = 5!=3\n",
        "print(a)\n",
        "a = 5 is not 3\n",
        "print(a)\n",
        "a = 5 is 3\n",
        "print(a)\n",
        "a = \"h\" in \"hello\"\n",
        "print(a)\n",
        "a = 1 in l\n",
        "print(a)"
      ],
      "execution_count": 0,
      "outputs": []
    },
    {
      "cell_type": "code",
      "metadata": {
        "id": "sOtMTZcSM31I",
        "colab_type": "code",
        "colab": {}
      },
      "source": [
        "## what is difference between    ==    and    is\n",
        "l=[1,2,4,5,6]\n",
        "a=l\n",
        "print(a)\n",
        "print(a == l)\n",
        "print(a is l)\n",
        "print(id(a))\n",
        "print(id(l))\n",
        "a=list(l)\n",
        "print(a)\n",
        "print(a == l)\n",
        "print(a is l)\n",
        "print(id(a))\n",
        "print(id(l))\n",
        "## use is only when test if a is None/missing value\n",
        "## use == all the time "
      ],
      "execution_count": 0,
      "outputs": []
    },
    {
      "cell_type": "markdown",
      "metadata": {
        "id": "KOqoQ1MUM31U",
        "colab_type": "text"
      },
      "source": [
        "## Boolean Operations"
      ]
    },
    {
      "cell_type": "code",
      "metadata": {
        "id": "prCKlCBnM31V",
        "colab_type": "code",
        "colab": {}
      },
      "source": [
        "print(2<1 and 5!=3)\n",
        "print(2<1 or 5!=3)\n",
        "a = 2<1 or 5!=3\n",
        "print(a)\n",
        "print(not a)"
      ],
      "execution_count": 0,
      "outputs": []
    },
    {
      "cell_type": "markdown",
      "metadata": {
        "id": "6JDk5lmJM31Z",
        "colab_type": "text"
      },
      "source": [
        "# Control Flows: if, for, while"
      ]
    },
    {
      "cell_type": "markdown",
      "metadata": {
        "id": "QTkWyGrjM31b",
        "colab_type": "text"
      },
      "source": [
        "# if statement "
      ]
    },
    {
      "cell_type": "code",
      "metadata": {
        "id": "HWxP1HsiM31c",
        "colab_type": "code",
        "colab": {}
      },
      "source": [
        "x = int(input(\"please enter an integer:\"))\n",
        "if x<0:\n",
        "    print('negative number')\n",
        "elif x==0:\n",
        "    print('zero')\n",
        "elif x==1:\n",
        "    print('Single')\n",
        "else:\n",
        "    print('More')"
      ],
      "execution_count": 0,
      "outputs": []
    },
    {
      "cell_type": "markdown",
      "metadata": {
        "id": "TTR2eTp5M31g",
        "colab_type": "text"
      },
      "source": [
        "## for statement"
      ]
    },
    {
      "cell_type": "code",
      "metadata": {
        "id": "UIVpObl-M31g",
        "colab_type": "code",
        "colab": {}
      },
      "source": [
        "d={\"org_arp_cd\":['DFW','DFW','LAX'],\"dst_arp_cd\":['LAX','LAX','DFW'],\\\n",
        "   \"lcl_dep_dtm\":['2017-10-12 08:40','2017-10-12 10:00','2017-10-12 09:40']}\n",
        "print(d)\n",
        "for i in d.keys():\n",
        "    print(i, d[i])"
      ],
      "execution_count": 0,
      "outputs": []
    },
    {
      "cell_type": "code",
      "metadata": {
        "scrolled": true,
        "id": "Imur00yPM31n",
        "colab_type": "code",
        "colab": {}
      },
      "source": [
        "for i in d.keys():\n",
        "    for j in d[i]:\n",
        "        if j == \"DFW\":\n",
        "                print(j,i)"
      ],
      "execution_count": 0,
      "outputs": []
    },
    {
      "cell_type": "code",
      "metadata": {
        "id": "pl_oIjllM31t",
        "colab_type": "code",
        "colab": {}
      },
      "source": [
        "for i in range(5):\n",
        "    print(i,l[i])"
      ],
      "execution_count": 0,
      "outputs": []
    },
    {
      "cell_type": "code",
      "metadata": {
        "id": "a3T8CXy6M31z",
        "colab_type": "code",
        "colab": {}
      },
      "source": [
        "for i in range(2,5):\n",
        "    print(i,l[i])"
      ],
      "execution_count": 0,
      "outputs": []
    },
    {
      "cell_type": "code",
      "metadata": {
        "id": "oOgkjd1tM315",
        "colab_type": "code",
        "colab": {}
      },
      "source": [
        "for i in range(0,5,2):\n",
        "    print(i,l[i])"
      ],
      "execution_count": 0,
      "outputs": []
    },
    {
      "cell_type": "markdown",
      "metadata": {
        "id": "Zc0C8BolM31-",
        "colab_type": "text"
      },
      "source": [
        "### List Comprehensions"
      ]
    },
    {
      "cell_type": "code",
      "metadata": {
        "id": "Gftqtqk4M31_",
        "colab_type": "code",
        "colab": {}
      },
      "source": [
        "L = [i**2 for i in range(5)]\n",
        "print(L)"
      ],
      "execution_count": 0,
      "outputs": []
    },
    {
      "cell_type": "code",
      "metadata": {
        "id": "-08kWX99M32E",
        "colab_type": "code",
        "colab": {}
      },
      "source": [
        "L = [i**2 if i<3 else i**0.5 for i in range(5) ]\n",
        "print(L)"
      ],
      "execution_count": 0,
      "outputs": []
    },
    {
      "cell_type": "code",
      "metadata": {
        "id": "3iAEiPP5M32M",
        "colab_type": "code",
        "colab": {}
      },
      "source": [
        "L1 = [i*j for i in range(5) for j in range(5)]\n",
        "L2 = [[i*j for i in range(5)] for j in range(5)]\n",
        "print(L1)\n",
        "print(L2)"
      ],
      "execution_count": 0,
      "outputs": []
    },
    {
      "cell_type": "code",
      "metadata": {
        "id": "hh8NeDZzM32S",
        "colab_type": "code",
        "colab": {}
      },
      "source": [
        "%timeit L= [[i*j for i in range(50)] for j in range(50)]"
      ],
      "execution_count": 0,
      "outputs": []
    },
    {
      "cell_type": "code",
      "metadata": {
        "id": "XUnKtHLFM32Z",
        "colab_type": "code",
        "colab": {}
      },
      "source": [
        "%%timeit \n",
        "L = list()\n",
        "for i in range(50): \n",
        "    for j in range(50):\n",
        "        L.append(i*j)"
      ],
      "execution_count": 0,
      "outputs": []
    },
    {
      "cell_type": "markdown",
      "metadata": {
        "id": "4Hf-hQc7M32e",
        "colab_type": "text"
      },
      "source": [
        "## While"
      ]
    },
    {
      "cell_type": "code",
      "metadata": {
        "id": "tVG4ms1rM32h",
        "colab_type": "code",
        "colab": {}
      },
      "source": [
        "a=0\n",
        "while a<5:\n",
        "    print(a)\n",
        "    a+=1"
      ],
      "execution_count": 0,
      "outputs": []
    },
    {
      "cell_type": "markdown",
      "metadata": {
        "id": "VabNiWaaM32l",
        "colab_type": "text"
      },
      "source": [
        "## break, pass, continue "
      ]
    },
    {
      "cell_type": "code",
      "metadata": {
        "id": "mNouBRyvM32n",
        "colab_type": "code",
        "colab": {}
      },
      "source": [
        "b=0\n",
        "while True:\n",
        "    b+=1\n",
        "    a = input('pass?(y/n)')\n",
        "    if a == 'y':\n",
        "        pass\n",
        "    if a == 'n':\n",
        "        continue\n",
        "    if b>3:\n",
        "        break\n",
        "    print(b)"
      ],
      "execution_count": 0,
      "outputs": []
    },
    {
      "cell_type": "markdown",
      "metadata": {
        "id": "Vz1hFf0cM32u",
        "colab_type": "text"
      },
      "source": [
        "# Function and Class"
      ]
    },
    {
      "cell_type": "markdown",
      "metadata": {
        "id": "hNLuRaNSM32v",
        "colab_type": "text"
      },
      "source": [
        "## Function"
      ]
    },
    {
      "cell_type": "code",
      "metadata": {
        "id": "2z8eeQCBM32w",
        "colab_type": "code",
        "colab": {}
      },
      "source": [
        "from math import cos, sin, asin,acos, sqrt #import modules\n",
        "\n",
        "def hav(x):\n",
        "    return (sin(x/2))**2\n",
        "\n",
        "\n",
        "def haversinedist(x1,x2,y1,y2,r = 3959):\n",
        "    h = hav(x2-x1) + cos(x1)*cos(x2)*hav(y2-y1)\n",
        "    return 2*r*asin(sqrt(h))"
      ],
      "execution_count": 0,
      "outputs": []
    },
    {
      "cell_type": "code",
      "metadata": {
        "id": "wTTkIAboM320",
        "colab_type": "code",
        "colab": {}
      },
      "source": [
        "## DFW-LAX distance\n",
        "haversinedist(0.5742,0.5924,-1.6936,-2.0666)"
      ],
      "execution_count": 0,
      "outputs": []
    },
    {
      "cell_type": "code",
      "metadata": {
        "id": "dRU__JXPM328",
        "colab_type": "code",
        "colab": {}
      },
      "source": [
        "## Inline functions\n",
        "hav = lambda x: (sin(x/2))**2\n",
        "haversinedist = lambda x1,x2,y1,y2: 2*3959*asin(sqrt(hav(x2-x1) + cos(x1)*cos(x2)*hav(y2-y1)))\n",
        "haversinedist(0.5742,0.5924,-1.6936,-2.0666)"
      ],
      "execution_count": 0,
      "outputs": []
    },
    {
      "cell_type": "markdown",
      "metadata": {
        "id": "O6Ak5wNpM33B",
        "colab_type": "text"
      },
      "source": [
        "## Class "
      ]
    },
    {
      "cell_type": "code",
      "metadata": {
        "id": "SkpRSQG5M33C",
        "colab_type": "code",
        "colab": {}
      },
      "source": [
        "class arp:\n",
        "    def __init__(self, arp_cd, lat_rad, lng_rad, wac, country):\n",
        "        self.arp_cd = arp_cd\n",
        "        self.lat_rad = lat_rad\n",
        "        self.lng_rad= lng_rad\n",
        "        self.wac = wac\n",
        "        self.country = country\n",
        "    def Set_arp_cd(self, new_arp_cd):\n",
        "        old_arp_cd = self.arp_cd\n",
        "        self.arp_cd = new_arp_cd\n",
        "        print(\"The arp_cd was chaned from\" + old_arp_cd + \"to\" + self.arp_cd)\n",
        "    def get_arp_cd(self):\n",
        "        return self.arp_cd\n",
        "    def get_cord(self):\n",
        "        return [self.lat_rad,self.lng_rad]\n",
        "    def get_dist(self, airport):\n",
        "        return haversinedist(self.lat_rad,airport.get_cord()[0], self.lng_rad, airport.get_cord()[1])\n",
        "        "
      ],
      "execution_count": 0,
      "outputs": []
    },
    {
      "cell_type": "code",
      "metadata": {
        "id": "-_MKY113M33F",
        "colab_type": "code",
        "colab": {}
      },
      "source": [
        "DFW = arp('DFW',0.5742,-1.6936,74, 'US')\n",
        "LAX = arp('LAX',0.5924,-2.0666,91, 'US')\n",
        "DFW.get_dist(LAX)"
      ],
      "execution_count": 0,
      "outputs": []
    },
    {
      "cell_type": "markdown",
      "metadata": {
        "id": "4TYPbe9-M33J",
        "colab_type": "text"
      },
      "source": [
        "## File I/O"
      ]
    },
    {
      "cell_type": "code",
      "metadata": {
        "id": "ayZUkThYM33M",
        "colab_type": "code",
        "colab": {}
      },
      "source": [
        "outfile = open('test.txt','w')\n",
        "outfile.write(\"Hello World!\")\n",
        "outfile.close()"
      ],
      "execution_count": 0,
      "outputs": []
    },
    {
      "cell_type": "code",
      "metadata": {
        "id": "66ub9SpJM33J",
        "colab_type": "code",
        "colab": {}
      },
      "source": [
        "with open('test.txt','r') as infile:\n",
        "    for line in infile:\n",
        "        print(line)\n",
        "        break\n"
      ],
      "execution_count": 0,
      "outputs": []
    },
    {
      "cell_type": "markdown",
      "metadata": {
        "id": "wWPcM5xCM33Q",
        "colab_type": "text"
      },
      "source": [
        "# Installing modules"
      ]
    },
    {
      "cell_type": "markdown",
      "metadata": {
        "id": "IqWIDM0YM33Q",
        "colab_type": "text"
      },
      "source": [
        "Modules/Libraries/Packages can be installed using several different ways from `command prompt/terminal`\n",
        "\n",
        "* pip install numpy\n",
        "* conda install numpy\n",
        "* download the package binary from http://www.lfd.uci.edu/~gohlke/pythonlibs/\n",
        "* download the source file and run (build and install)\n",
        "  ``python setup.py install``\n",
        "\n",
        "**NOTE: Will not work with enterprise connection**"
      ]
    },
    {
      "cell_type": "markdown",
      "metadata": {
        "id": "2Wc4VhoSM33R",
        "colab_type": "text"
      },
      "source": [
        "## Importing Modules\n",
        "\n",
        "## Numpy "
      ]
    },
    {
      "cell_type": "code",
      "metadata": {
        "id": "vptiXFtaM33S",
        "colab_type": "code",
        "colab": {}
      },
      "source": [
        "import numpy as np"
      ],
      "execution_count": 0,
      "outputs": []
    },
    {
      "cell_type": "code",
      "metadata": {
        "id": "kWld0Je2M33V",
        "colab_type": "code",
        "colab": {}
      },
      "source": [
        "l = [1,2,3,4]\n",
        "print(l)\n",
        "print(l+l)\n",
        "print(np.array(l)+np.array(l))"
      ],
      "execution_count": 0,
      "outputs": []
    },
    {
      "cell_type": "code",
      "metadata": {
        "id": "ma_oICFCM33Z",
        "colab_type": "code",
        "colab": {}
      },
      "source": [
        "print(np.mean(l),np.var(l),np.std(l))"
      ],
      "execution_count": 0,
      "outputs": []
    },
    {
      "cell_type": "code",
      "metadata": {
        "id": "5Jtl5FnvM33d",
        "colab_type": "code",
        "colab": {}
      },
      "source": [
        "## Random Number Generation\n",
        "print(np.random.random([10,10]))"
      ],
      "execution_count": 0,
      "outputs": []
    },
    {
      "cell_type": "code",
      "metadata": {
        "id": "TZLq78_aM33g",
        "colab_type": "code",
        "colab": {}
      },
      "source": [
        "## Create empty array\n",
        "np.empty([10,5])"
      ],
      "execution_count": 0,
      "outputs": []
    },
    {
      "cell_type": "code",
      "metadata": {
        "id": "3lizSVWxM33m",
        "colab_type": "code",
        "colab": {}
      },
      "source": [
        "a = np.random.randint(0,10,[4,5])\n",
        "print(a)\n",
        "print(a.shape)\n",
        "print('########################')\n",
        "b = np.empty_like(a)\n",
        "print(b)\n",
        "print(b.shape)"
      ],
      "execution_count": 0,
      "outputs": []
    },
    {
      "cell_type": "code",
      "metadata": {
        "id": "rlYMRDzeM33w",
        "colab_type": "code",
        "colab": {}
      },
      "source": [
        "print(type(a))\n",
        "print(a.dtype)\n",
        "print(np.random.random([10,5]).dtype)"
      ],
      "execution_count": 0,
      "outputs": []
    },
    {
      "cell_type": "markdown",
      "metadata": {
        "id": "ewVLEMp_M330",
        "colab_type": "text"
      },
      "source": [
        "#### List vs Numpy Array"
      ]
    },
    {
      "cell_type": "markdown",
      "metadata": {
        "id": "AbUenZH1M332",
        "colab_type": "text"
      },
      "source": [
        "* Numpy is written in C\n",
        "* Speed and functionality\n",
        "* NumPy's arrays are more compact than Python lists (low memory usage)"
      ]
    },
    {
      "cell_type": "markdown",
      "metadata": {
        "id": "ViNiWYExM333",
        "colab_type": "text"
      },
      "source": [
        "### None vs Nan vs NA"
      ]
    },
    {
      "cell_type": "code",
      "metadata": {
        "id": "2xDd9JvTM334",
        "colab_type": "code",
        "colab": {}
      },
      "source": [
        "a = None\n",
        "b = np.NAN"
      ],
      "execution_count": 0,
      "outputs": []
    },
    {
      "cell_type": "code",
      "metadata": {
        "id": "JnkPp4Q9M337",
        "colab_type": "code",
        "colab": {}
      },
      "source": [
        "print(type(a))\n",
        "print(type(b))"
      ],
      "execution_count": 0,
      "outputs": []
    },
    {
      "cell_type": "code",
      "metadata": {
        "id": "hNSspc6TN5a2",
        "colab_type": "code",
        "colab": {}
      },
      "source": [
        ""
      ],
      "execution_count": 0,
      "outputs": []
    }
  ]
}