{
  "nbformat": 4,
  "nbformat_minor": 0,
  "metadata": {
    "colab": {
      "name": "Data Wrangling with Python",
      "version": "0.3.2",
      "provenance": [],
      "include_colab_link": true
    },
    "kernelspec": {
      "name": "python3",
      "display_name": "Python 3"
    }
  },
  "cells": [
    {
      "cell_type": "markdown",
      "metadata": {
        "id": "view-in-github",
        "colab_type": "text"
      },
      "source": [
        "<a href=\"https://colab.research.google.com/github/deepakagrawal/Pandas_Tutorial/blob/master/Data_Wrangling_with_Python.ipynb\" target=\"_parent\"><img src=\"https://colab.research.google.com/assets/colab-badge.svg\" alt=\"Open In Colab\"/></a>"
      ]
    },
    {
      "cell_type": "markdown",
      "metadata": {
        "id": "sY7n_oCPZJTV",
        "colab_type": "text"
      },
      "source": [
        "# Python Clinic\n",
        "\n",
        "The objective of python clinic is to \n",
        "- create a platform for all Python enthusiasts  \n",
        "- provide learning resources for all members via this channel and offline. \n",
        "\n",
        "Join the slack channel [#topic-python-ds-ml](https://americanairlines.slack.com/messages/CJ7JNTUR4/)"
      ]
    },
    {
      "cell_type": "markdown",
      "metadata": {
        "id": "VAtz2aAvw7WJ",
        "colab_type": "text"
      },
      "source": [
        "# Python for Data Wrangling\n",
        "\n",
        "We will use Titanic Survival prediction dataset as an example. We will focus on the data preparation step for this model.\n",
        "\n",
        "Today we will cover following topics -\n",
        "\n",
        "* Reading data files into Python\n",
        "* What is a DataFrame?\n",
        "* Accessing Main components of DataFrame\n",
        "* How to add/remove columns/rows?\n",
        "* How to handle `Missing values`?\n",
        "* How to perform groupby/aggregation?\n",
        "* How to apply a function to columns/rows?\n",
        "* How to merge/join datasets?\n",
        "* How to save data?\n",
        "* How to handle large datasets?\n"
      ]
    },
    {
      "cell_type": "markdown",
      "metadata": {
        "id": "ARA0-wAK16Ik",
        "colab_type": "text"
      },
      "source": [
        "## Problem\n",
        "\n",
        "Titanic dataset provides information on the fate of passengers on the Titanic, summarized according to economic status (class), sex, age and survival. "
      ]
    },
    {
      "cell_type": "markdown",
      "metadata": {
        "id": "Nvexp3AW4OWB",
        "colab_type": "text"
      },
      "source": [
        "Let's start by importing some of the libraries we know we will need. \n",
        "\n",
        "* `pandas` -  This is the most important library for data wrangling in python\n",
        "* `numpy` - Provides helpful mathematical functions\n",
        "*`matplotlib` - A data visualization library to create plots \n",
        "* `seaborn` -  A visualization library based on `matplotlib`. Used to create more attractive plots more easily "
      ]
    },
    {
      "cell_type": "code",
      "metadata": {
        "id": "keFasruc57FA",
        "colab_type": "code",
        "colab": {}
      },
      "source": [
        "import pandas as pd\n",
        "import numpy as np\n",
        "import seaborn as sns\n",
        "import matplotlib.pyplot as plt"
      ],
      "execution_count": 0,
      "outputs": []
    },
    {
      "cell_type": "code",
      "metadata": {
        "id": "zdUiCwZg2y5b",
        "colab_type": "code",
        "colab": {}
      },
      "source": [
        "file_path='https://raw.githubusercontent.com/deepakagrawal/Pandas_Tutorial/master/data/titanic.csv'"
      ],
      "execution_count": 0,
      "outputs": []
    },
    {
      "cell_type": "markdown",
      "metadata": {
        "id": "cp37OGXiAZVM",
        "colab_type": "text"
      },
      "source": [
        "## Reading Data\n",
        "### Use pandas to read the data into the dataframe"
      ]
    },
    {
      "cell_type": "code",
      "metadata": {
        "id": "v_1AEenPApEP",
        "colab_type": "code",
        "colab": {}
      },
      "source": [
        "df = pd.read_csv(file_path)\n",
        "\n",
        "## For csv file\n",
        "# df = pd.read_csv(\"file.csv\")"
      ],
      "execution_count": 0,
      "outputs": []
    },
    {
      "cell_type": "markdown",
      "metadata": {
        "id": "8d8P7Ucq4mE0",
        "colab_type": "text"
      },
      "source": [
        "### Reading large data\n",
        "\n",
        "`csv` file format is not ideal data format when handeling data of `>1GB`. In that case file formats such as `parquet` or `hdf5` are more suitable because read/write speeds are higher. Pandas supports all these formats.\n",
        "\n",
        "If `csv` file formar is unavoidable reading data in chunk can help."
      ]
    },
    {
      "cell_type": "code",
      "metadata": {
        "id": "K-Xgq2aY5jbp",
        "colab_type": "code",
        "colab": {
          "base_uri": "https://localhost:8080/",
          "height": 68
        },
        "outputId": "a7222c38-d635-4880-e4f0-da3622963343"
      },
      "source": [
        "df1 = pd.read_csv(file_path, chunksize=500)\n",
        "for chunk in df1:\n",
        "  ## perform operation\n",
        "  print(chunk.shape)"
      ],
      "execution_count": 4,
      "outputs": [
        {
          "output_type": "stream",
          "text": [
            "(500, 14)\n",
            "(500, 14)\n",
            "(309, 14)\n"
          ],
          "name": "stdout"
        }
      ]
    },
    {
      "cell_type": "code",
      "metadata": {
        "id": "YKY0u8pR7FGo",
        "colab_type": "code",
        "colab": {
          "base_uri": "https://localhost:8080/",
          "height": 357
        },
        "outputId": "243e9788-df1e-4a47-cff6-4f34f2b57e63"
      },
      "source": [
        "df1 = pd.read_csv(file_path, memory_map=True)\n",
        "print(df.info())"
      ],
      "execution_count": 5,
      "outputs": [
        {
          "output_type": "stream",
          "text": [
            "<class 'pandas.core.frame.DataFrame'>\n",
            "RangeIndex: 1309 entries, 0 to 1308\n",
            "Data columns (total 14 columns):\n",
            "pclass       1309 non-null int64\n",
            "survived     1309 non-null int64\n",
            "name         1309 non-null object\n",
            "sex          1309 non-null object\n",
            "age          1046 non-null float64\n",
            "sibsp        1309 non-null int64\n",
            "parch        1309 non-null int64\n",
            "ticket       1309 non-null object\n",
            "fare         1308 non-null float64\n",
            "cabin        295 non-null object\n",
            "embarked     1307 non-null object\n",
            "boat         486 non-null object\n",
            "body         121 non-null float64\n",
            "home.dest    745 non-null object\n",
            "dtypes: float64(3), int64(4), object(7)\n",
            "memory usage: 143.2+ KB\n",
            "None\n"
          ],
          "name": "stdout"
        }
      ]
    },
    {
      "cell_type": "markdown",
      "metadata": {
        "id": "249x2VwGeGkP",
        "colab_type": "text"
      },
      "source": [
        "### Reading from Mosaic\n",
        "\n",
        "```python\n",
        "##pyodbc is an open source library which makes accessing ODBC databases simple\n",
        "import pyodbc\n",
        "\n",
        "# getpass gets user name and password\n",
        "import getpass\n",
        "user_id=getpass.getuser()\n",
        "print(\"connecting user : \"+ user_id)\n",
        "###################################################\n",
        "# this assumes that in teradata your connection is saved as \"MOSAIC_PROD\"\n",
        "connection = pyodbc.connect('DSN=MOSAIC_PROD;Uid=' + user_id + ';Pwd=' + getpass.getpass()) \n",
        "dat = pd.read_sql(\"select top 10 * from PROD_REFERENCE_DATA_VWS.AIRPORT_STATION\",con=connection)\n",
        "\n",
        "print(dat)\n",
        "\n",
        "connection.close() \n",
        "```\n"
      ]
    },
    {
      "cell_type": "markdown",
      "metadata": {
        "id": "zwRRh7HH5jGZ",
        "colab_type": "text"
      },
      "source": [
        "For more details please visit [pandas io guide](https://pandas.pydata.org/pandas-docs/stable/user_guide/io.html)\n",
        "\n",
        "For connecting to mosaic from ORION server please visit [here](https://ghe.aa.com/00740677/ORION-python_pkgs)"
      ]
    },
    {
      "cell_type": "markdown",
      "metadata": {
        "id": "g_QFuLvBBE93",
        "colab_type": "text"
      },
      "source": [
        "## Data Exploration\n",
        "Let's take a peek at the dataset and see what does the data look like."
      ]
    },
    {
      "cell_type": "code",
      "metadata": {
        "id": "Onobs9faMjY5",
        "colab_type": "code",
        "colab": {
          "base_uri": "https://localhost:8080/",
          "height": 34
        },
        "outputId": "64ee092b-0246-4d4e-c530-c2209fb54676"
      },
      "source": [
        "df.shape ## Gives us size of the dataset. No. of rows and columns"
      ],
      "execution_count": 6,
      "outputs": [
        {
          "output_type": "execute_result",
          "data": {
            "text/plain": [
              "(1309, 14)"
            ]
          },
          "metadata": {
            "tags": []
          },
          "execution_count": 6
        }
      ]
    },
    {
      "cell_type": "code",
      "metadata": {
        "id": "chUEbEVMBXHv",
        "colab_type": "code",
        "colab": {
          "base_uri": "https://localhost:8080/",
          "height": 204
        },
        "outputId": "b7a2a52f-e469-47f3-cfe2-6f104d8ba2af"
      },
      "source": [
        "df.head()"
      ],
      "execution_count": 7,
      "outputs": [
        {
          "output_type": "execute_result",
          "data": {
            "text/html": [
              "<div>\n",
              "<style scoped>\n",
              "    .dataframe tbody tr th:only-of-type {\n",
              "        vertical-align: middle;\n",
              "    }\n",
              "\n",
              "    .dataframe tbody tr th {\n",
              "        vertical-align: top;\n",
              "    }\n",
              "\n",
              "    .dataframe thead th {\n",
              "        text-align: right;\n",
              "    }\n",
              "</style>\n",
              "<table border=\"1\" class=\"dataframe\">\n",
              "  <thead>\n",
              "    <tr style=\"text-align: right;\">\n",
              "      <th></th>\n",
              "      <th>pclass</th>\n",
              "      <th>survived</th>\n",
              "      <th>name</th>\n",
              "      <th>sex</th>\n",
              "      <th>age</th>\n",
              "      <th>sibsp</th>\n",
              "      <th>parch</th>\n",
              "      <th>ticket</th>\n",
              "      <th>fare</th>\n",
              "      <th>cabin</th>\n",
              "      <th>embarked</th>\n",
              "      <th>boat</th>\n",
              "      <th>body</th>\n",
              "      <th>home.dest</th>\n",
              "    </tr>\n",
              "  </thead>\n",
              "  <tbody>\n",
              "    <tr>\n",
              "      <th>0</th>\n",
              "      <td>1</td>\n",
              "      <td>1</td>\n",
              "      <td>Allen, Miss. Elisabeth Walton</td>\n",
              "      <td>female</td>\n",
              "      <td>29.0000</td>\n",
              "      <td>0</td>\n",
              "      <td>0</td>\n",
              "      <td>24160</td>\n",
              "      <td>211.3375</td>\n",
              "      <td>B5</td>\n",
              "      <td>S</td>\n",
              "      <td>2</td>\n",
              "      <td>NaN</td>\n",
              "      <td>St Louis, MO</td>\n",
              "    </tr>\n",
              "    <tr>\n",
              "      <th>1</th>\n",
              "      <td>1</td>\n",
              "      <td>1</td>\n",
              "      <td>Allison, Master. Hudson Trevor</td>\n",
              "      <td>male</td>\n",
              "      <td>0.9167</td>\n",
              "      <td>1</td>\n",
              "      <td>2</td>\n",
              "      <td>113781</td>\n",
              "      <td>151.5500</td>\n",
              "      <td>C22 C26</td>\n",
              "      <td>S</td>\n",
              "      <td>11</td>\n",
              "      <td>NaN</td>\n",
              "      <td>Montreal, PQ / Chesterville, ON</td>\n",
              "    </tr>\n",
              "    <tr>\n",
              "      <th>2</th>\n",
              "      <td>1</td>\n",
              "      <td>0</td>\n",
              "      <td>Allison, Miss. Helen Loraine</td>\n",
              "      <td>female</td>\n",
              "      <td>2.0000</td>\n",
              "      <td>1</td>\n",
              "      <td>2</td>\n",
              "      <td>113781</td>\n",
              "      <td>151.5500</td>\n",
              "      <td>C22 C26</td>\n",
              "      <td>S</td>\n",
              "      <td>NaN</td>\n",
              "      <td>NaN</td>\n",
              "      <td>Montreal, PQ / Chesterville, ON</td>\n",
              "    </tr>\n",
              "    <tr>\n",
              "      <th>3</th>\n",
              "      <td>1</td>\n",
              "      <td>0</td>\n",
              "      <td>Allison, Mr. Hudson Joshua Creighton</td>\n",
              "      <td>male</td>\n",
              "      <td>30.0000</td>\n",
              "      <td>1</td>\n",
              "      <td>2</td>\n",
              "      <td>113781</td>\n",
              "      <td>151.5500</td>\n",
              "      <td>C22 C26</td>\n",
              "      <td>S</td>\n",
              "      <td>NaN</td>\n",
              "      <td>135.0</td>\n",
              "      <td>Montreal, PQ / Chesterville, ON</td>\n",
              "    </tr>\n",
              "    <tr>\n",
              "      <th>4</th>\n",
              "      <td>1</td>\n",
              "      <td>0</td>\n",
              "      <td>Allison, Mrs. Hudson J C (Bessie Waldo Daniels)</td>\n",
              "      <td>female</td>\n",
              "      <td>25.0000</td>\n",
              "      <td>1</td>\n",
              "      <td>2</td>\n",
              "      <td>113781</td>\n",
              "      <td>151.5500</td>\n",
              "      <td>C22 C26</td>\n",
              "      <td>S</td>\n",
              "      <td>NaN</td>\n",
              "      <td>NaN</td>\n",
              "      <td>Montreal, PQ / Chesterville, ON</td>\n",
              "    </tr>\n",
              "  </tbody>\n",
              "</table>\n",
              "</div>"
            ],
            "text/plain": [
              "   pclass  survived  ...   body                        home.dest\n",
              "0       1         1  ...    NaN                     St Louis, MO\n",
              "1       1         1  ...    NaN  Montreal, PQ / Chesterville, ON\n",
              "2       1         0  ...    NaN  Montreal, PQ / Chesterville, ON\n",
              "3       1         0  ...  135.0  Montreal, PQ / Chesterville, ON\n",
              "4       1         0  ...    NaN  Montreal, PQ / Chesterville, ON\n",
              "\n",
              "[5 rows x 14 columns]"
            ]
          },
          "metadata": {
            "tags": []
          },
          "execution_count": 7
        }
      ]
    },
    {
      "cell_type": "markdown",
      "metadata": {
        "id": "NF3Emhu7BbIp",
        "colab_type": "text"
      },
      "source": [
        "We see that each row of this dataset represent a single passenger. The definition of the columns is given below\n",
        "\n",
        "| Column name | Definition |\n",
        "|------------------------|-----------------|\n",
        "|pclass | Class of Travel (1=1st; 2=2nd; 3=3rd)|\n",
        "|survived | Survived or Not (0= No; 1=Yes)|\n",
        "|name | Passenger Name |\n",
        "|sex | Genger of the passenger|\n",
        "| age | Age of the passenger|\n",
        "| sibsb| Number of Sibling/Spouse aboard|\n",
        "| parch | Number of Parent/Child aboard|\n",
        "|fare | The fare which passenger paid for his/her ticket (British Pound)|\n",
        "|cabin| The cabin which the passenger booked|\n",
        "|embarked| The port in which a passenger has embarked. C - Cherbourg, S - Southampton, Q = Queenstown|\n",
        "|boat| Lifeboat (if survived) |\n",
        "|body | Body number (if did not survive and body was recovered)|\n",
        "|home.dest|Home/Destination|\n",
        "\n"
      ]
    },
    {
      "cell_type": "markdown",
      "metadata": {
        "id": "pS7ofRKpGQAx",
        "colab_type": "text"
      },
      "source": [
        "Our task is to predict whether the passenger survived or not. So the target column is **`Survived`**. Before we even start building the model we need to do some exploratory analysis to see which features might contribute to a passenger surviving or not."
      ]
    },
    {
      "cell_type": "markdown",
      "metadata": {
        "id": "G1vO8q2S6p7l",
        "colab_type": "text"
      },
      "source": [
        "Let's look at the data types of these columns. We use `DataFrame.info` method to print a concise summary of a DataFrame. We can print the column types, number of missing values and memory usage with this command"
      ]
    },
    {
      "cell_type": "code",
      "metadata": {
        "id": "GX7k9fmkGc-m",
        "colab_type": "code",
        "colab": {
          "base_uri": "https://localhost:8080/",
          "height": 340
        },
        "outputId": "5c38bb10-ec8c-432b-dc01-dc2cc981d61e"
      },
      "source": [
        "df.info(memory_usage=True) # This prints a concise summary of a DataFrame."
      ],
      "execution_count": 8,
      "outputs": [
        {
          "output_type": "stream",
          "text": [
            "<class 'pandas.core.frame.DataFrame'>\n",
            "RangeIndex: 1309 entries, 0 to 1308\n",
            "Data columns (total 14 columns):\n",
            "pclass       1309 non-null int64\n",
            "survived     1309 non-null int64\n",
            "name         1309 non-null object\n",
            "sex          1309 non-null object\n",
            "age          1046 non-null float64\n",
            "sibsp        1309 non-null int64\n",
            "parch        1309 non-null int64\n",
            "ticket       1309 non-null object\n",
            "fare         1308 non-null float64\n",
            "cabin        295 non-null object\n",
            "embarked     1307 non-null object\n",
            "boat         486 non-null object\n",
            "body         121 non-null float64\n",
            "home.dest    745 non-null object\n",
            "dtypes: float64(3), int64(4), object(7)\n",
            "memory usage: 143.2+ KB\n"
          ],
          "name": "stdout"
        }
      ]
    },
    {
      "cell_type": "markdown",
      "metadata": {
        "id": "y0FCObh561A5",
        "colab_type": "text"
      },
      "source": [
        "Above results shows us that \n",
        "\n",
        "1. Total 1309 rows and 14 columns in the DataFrame.\n",
        "2. There are 4 columns with int64 entries, 3 columns with float64 and 7 columns are string or other objects\n",
        "3. The total memory used by this dataframe is ~143 KB"
      ]
    },
    {
      "cell_type": "markdown",
      "metadata": {
        "id": "874iqSfx_hsf",
        "colab_type": "text"
      },
      "source": [
        "Now let's look at the summary of the dataset to see some simple statistics"
      ]
    },
    {
      "cell_type": "code",
      "metadata": {
        "id": "YJAMl0yu_ryk",
        "colab_type": "code",
        "colab": {
          "base_uri": "https://localhost:8080/",
          "height": 390
        },
        "outputId": "a71afe67-c829-4aff-8d2a-0ff7146cde8b"
      },
      "source": [
        "df.describe(include='all')"
      ],
      "execution_count": 9,
      "outputs": [
        {
          "output_type": "execute_result",
          "data": {
            "text/html": [
              "<div>\n",
              "<style scoped>\n",
              "    .dataframe tbody tr th:only-of-type {\n",
              "        vertical-align: middle;\n",
              "    }\n",
              "\n",
              "    .dataframe tbody tr th {\n",
              "        vertical-align: top;\n",
              "    }\n",
              "\n",
              "    .dataframe thead th {\n",
              "        text-align: right;\n",
              "    }\n",
              "</style>\n",
              "<table border=\"1\" class=\"dataframe\">\n",
              "  <thead>\n",
              "    <tr style=\"text-align: right;\">\n",
              "      <th></th>\n",
              "      <th>pclass</th>\n",
              "      <th>survived</th>\n",
              "      <th>name</th>\n",
              "      <th>sex</th>\n",
              "      <th>age</th>\n",
              "      <th>sibsp</th>\n",
              "      <th>parch</th>\n",
              "      <th>ticket</th>\n",
              "      <th>fare</th>\n",
              "      <th>cabin</th>\n",
              "      <th>embarked</th>\n",
              "      <th>boat</th>\n",
              "      <th>body</th>\n",
              "      <th>home.dest</th>\n",
              "    </tr>\n",
              "  </thead>\n",
              "  <tbody>\n",
              "    <tr>\n",
              "      <th>count</th>\n",
              "      <td>1309.000000</td>\n",
              "      <td>1309.000000</td>\n",
              "      <td>1309</td>\n",
              "      <td>1309</td>\n",
              "      <td>1046.000000</td>\n",
              "      <td>1309.000000</td>\n",
              "      <td>1309.000000</td>\n",
              "      <td>1309</td>\n",
              "      <td>1308.000000</td>\n",
              "      <td>295</td>\n",
              "      <td>1307</td>\n",
              "      <td>486</td>\n",
              "      <td>121.000000</td>\n",
              "      <td>745</td>\n",
              "    </tr>\n",
              "    <tr>\n",
              "      <th>unique</th>\n",
              "      <td>NaN</td>\n",
              "      <td>NaN</td>\n",
              "      <td>1307</td>\n",
              "      <td>2</td>\n",
              "      <td>NaN</td>\n",
              "      <td>NaN</td>\n",
              "      <td>NaN</td>\n",
              "      <td>929</td>\n",
              "      <td>NaN</td>\n",
              "      <td>186</td>\n",
              "      <td>3</td>\n",
              "      <td>27</td>\n",
              "      <td>NaN</td>\n",
              "      <td>369</td>\n",
              "    </tr>\n",
              "    <tr>\n",
              "      <th>top</th>\n",
              "      <td>NaN</td>\n",
              "      <td>NaN</td>\n",
              "      <td>Connolly, Miss. Kate</td>\n",
              "      <td>male</td>\n",
              "      <td>NaN</td>\n",
              "      <td>NaN</td>\n",
              "      <td>NaN</td>\n",
              "      <td>CA. 2343</td>\n",
              "      <td>NaN</td>\n",
              "      <td>C23 C25 C27</td>\n",
              "      <td>S</td>\n",
              "      <td>13</td>\n",
              "      <td>NaN</td>\n",
              "      <td>New York, NY</td>\n",
              "    </tr>\n",
              "    <tr>\n",
              "      <th>freq</th>\n",
              "      <td>NaN</td>\n",
              "      <td>NaN</td>\n",
              "      <td>2</td>\n",
              "      <td>843</td>\n",
              "      <td>NaN</td>\n",
              "      <td>NaN</td>\n",
              "      <td>NaN</td>\n",
              "      <td>11</td>\n",
              "      <td>NaN</td>\n",
              "      <td>6</td>\n",
              "      <td>914</td>\n",
              "      <td>39</td>\n",
              "      <td>NaN</td>\n",
              "      <td>64</td>\n",
              "    </tr>\n",
              "    <tr>\n",
              "      <th>mean</th>\n",
              "      <td>2.294882</td>\n",
              "      <td>0.381971</td>\n",
              "      <td>NaN</td>\n",
              "      <td>NaN</td>\n",
              "      <td>29.881135</td>\n",
              "      <td>0.498854</td>\n",
              "      <td>0.385027</td>\n",
              "      <td>NaN</td>\n",
              "      <td>33.295479</td>\n",
              "      <td>NaN</td>\n",
              "      <td>NaN</td>\n",
              "      <td>NaN</td>\n",
              "      <td>160.809917</td>\n",
              "      <td>NaN</td>\n",
              "    </tr>\n",
              "    <tr>\n",
              "      <th>std</th>\n",
              "      <td>0.837836</td>\n",
              "      <td>0.486055</td>\n",
              "      <td>NaN</td>\n",
              "      <td>NaN</td>\n",
              "      <td>14.413500</td>\n",
              "      <td>1.041658</td>\n",
              "      <td>0.865560</td>\n",
              "      <td>NaN</td>\n",
              "      <td>51.758668</td>\n",
              "      <td>NaN</td>\n",
              "      <td>NaN</td>\n",
              "      <td>NaN</td>\n",
              "      <td>97.696922</td>\n",
              "      <td>NaN</td>\n",
              "    </tr>\n",
              "    <tr>\n",
              "      <th>min</th>\n",
              "      <td>1.000000</td>\n",
              "      <td>0.000000</td>\n",
              "      <td>NaN</td>\n",
              "      <td>NaN</td>\n",
              "      <td>0.166700</td>\n",
              "      <td>0.000000</td>\n",
              "      <td>0.000000</td>\n",
              "      <td>NaN</td>\n",
              "      <td>0.000000</td>\n",
              "      <td>NaN</td>\n",
              "      <td>NaN</td>\n",
              "      <td>NaN</td>\n",
              "      <td>1.000000</td>\n",
              "      <td>NaN</td>\n",
              "    </tr>\n",
              "    <tr>\n",
              "      <th>25%</th>\n",
              "      <td>2.000000</td>\n",
              "      <td>0.000000</td>\n",
              "      <td>NaN</td>\n",
              "      <td>NaN</td>\n",
              "      <td>21.000000</td>\n",
              "      <td>0.000000</td>\n",
              "      <td>0.000000</td>\n",
              "      <td>NaN</td>\n",
              "      <td>7.895800</td>\n",
              "      <td>NaN</td>\n",
              "      <td>NaN</td>\n",
              "      <td>NaN</td>\n",
              "      <td>72.000000</td>\n",
              "      <td>NaN</td>\n",
              "    </tr>\n",
              "    <tr>\n",
              "      <th>50%</th>\n",
              "      <td>3.000000</td>\n",
              "      <td>0.000000</td>\n",
              "      <td>NaN</td>\n",
              "      <td>NaN</td>\n",
              "      <td>28.000000</td>\n",
              "      <td>0.000000</td>\n",
              "      <td>0.000000</td>\n",
              "      <td>NaN</td>\n",
              "      <td>14.454200</td>\n",
              "      <td>NaN</td>\n",
              "      <td>NaN</td>\n",
              "      <td>NaN</td>\n",
              "      <td>155.000000</td>\n",
              "      <td>NaN</td>\n",
              "    </tr>\n",
              "    <tr>\n",
              "      <th>75%</th>\n",
              "      <td>3.000000</td>\n",
              "      <td>1.000000</td>\n",
              "      <td>NaN</td>\n",
              "      <td>NaN</td>\n",
              "      <td>39.000000</td>\n",
              "      <td>1.000000</td>\n",
              "      <td>0.000000</td>\n",
              "      <td>NaN</td>\n",
              "      <td>31.275000</td>\n",
              "      <td>NaN</td>\n",
              "      <td>NaN</td>\n",
              "      <td>NaN</td>\n",
              "      <td>256.000000</td>\n",
              "      <td>NaN</td>\n",
              "    </tr>\n",
              "    <tr>\n",
              "      <th>max</th>\n",
              "      <td>3.000000</td>\n",
              "      <td>1.000000</td>\n",
              "      <td>NaN</td>\n",
              "      <td>NaN</td>\n",
              "      <td>80.000000</td>\n",
              "      <td>8.000000</td>\n",
              "      <td>9.000000</td>\n",
              "      <td>NaN</td>\n",
              "      <td>512.329200</td>\n",
              "      <td>NaN</td>\n",
              "      <td>NaN</td>\n",
              "      <td>NaN</td>\n",
              "      <td>328.000000</td>\n",
              "      <td>NaN</td>\n",
              "    </tr>\n",
              "  </tbody>\n",
              "</table>\n",
              "</div>"
            ],
            "text/plain": [
              "             pclass     survived  ...        body     home.dest\n",
              "count   1309.000000  1309.000000  ...  121.000000           745\n",
              "unique          NaN          NaN  ...         NaN           369\n",
              "top             NaN          NaN  ...         NaN  New York, NY\n",
              "freq            NaN          NaN  ...         NaN            64\n",
              "mean       2.294882     0.381971  ...  160.809917           NaN\n",
              "std        0.837836     0.486055  ...   97.696922           NaN\n",
              "min        1.000000     0.000000  ...    1.000000           NaN\n",
              "25%        2.000000     0.000000  ...   72.000000           NaN\n",
              "50%        3.000000     0.000000  ...  155.000000           NaN\n",
              "75%        3.000000     1.000000  ...  256.000000           NaN\n",
              "max        3.000000     1.000000  ...  328.000000           NaN\n",
              "\n",
              "[11 rows x 14 columns]"
            ]
          },
          "metadata": {
            "tags": []
          },
          "execution_count": 9
        }
      ]
    },
    {
      "cell_type": "markdown",
      "metadata": {
        "id": "KHbwQlnwAEsn",
        "colab_type": "text"
      },
      "source": [
        "From above results we can see that \n",
        "\n",
        "1. `pclass` column has minimum 1 and maximum 3.\n",
        "2. `survived` column has only minimum 0 and maximum 1. \n",
        "3. There are 1307 unique names. And we see that freq = 2. That means two passengers have multiple records\n",
        "4. There are two values for `sex`. And majority are males (843) rest should be female (466)\n",
        "5. Youngest person Aboard is 0.16 years old and oldest person is 80 years old.\n",
        "6. The minimum number of Siblings/Sposes aboard are 0 and maximum are 8\n",
        "7. The minimum number of Parents/Children aboard are 0 and maximum are 9\n",
        "8. Several passengers were on the same ticket\n",
        "9. The minimum Fare paid was 0 and maximum paid was 512.33\n",
        "10. There are 186 unique cabins\n",
        "11. There are 3 ports the passengers departed from. Contains 2 missing values\n",
        "12. Total of 486 boats were used\n",
        "13. Total of 182 bodies were recovered\n",
        "14. Total of 745 destinations were registered"
      ]
    },
    {
      "cell_type": "markdown",
      "metadata": {
        "id": "AeEWG1OX7QV6",
        "colab_type": "text"
      },
      "source": [
        "Let's look at what's happening with the duplicate names."
      ]
    },
    {
      "cell_type": "code",
      "metadata": {
        "id": "EChkGvGN7aNV",
        "colab_type": "code",
        "colab": {
          "base_uri": "https://localhost:8080/",
          "height": 173
        },
        "outputId": "9a25b9da-1e84-446e-daa2-3c7fc5d1cbbd"
      },
      "source": [
        "df[df.name.isin(df.name[df.name.duplicated()])]"
      ],
      "execution_count": 10,
      "outputs": [
        {
          "output_type": "execute_result",
          "data": {
            "text/html": [
              "<div>\n",
              "<style scoped>\n",
              "    .dataframe tbody tr th:only-of-type {\n",
              "        vertical-align: middle;\n",
              "    }\n",
              "\n",
              "    .dataframe tbody tr th {\n",
              "        vertical-align: top;\n",
              "    }\n",
              "\n",
              "    .dataframe thead th {\n",
              "        text-align: right;\n",
              "    }\n",
              "</style>\n",
              "<table border=\"1\" class=\"dataframe\">\n",
              "  <thead>\n",
              "    <tr style=\"text-align: right;\">\n",
              "      <th></th>\n",
              "      <th>pclass</th>\n",
              "      <th>survived</th>\n",
              "      <th>name</th>\n",
              "      <th>sex</th>\n",
              "      <th>age</th>\n",
              "      <th>sibsp</th>\n",
              "      <th>parch</th>\n",
              "      <th>ticket</th>\n",
              "      <th>fare</th>\n",
              "      <th>cabin</th>\n",
              "      <th>embarked</th>\n",
              "      <th>boat</th>\n",
              "      <th>body</th>\n",
              "      <th>home.dest</th>\n",
              "    </tr>\n",
              "  </thead>\n",
              "  <tbody>\n",
              "    <tr>\n",
              "      <th>725</th>\n",
              "      <td>3</td>\n",
              "      <td>1</td>\n",
              "      <td>Connolly, Miss. Kate</td>\n",
              "      <td>female</td>\n",
              "      <td>22.0</td>\n",
              "      <td>0</td>\n",
              "      <td>0</td>\n",
              "      <td>370373</td>\n",
              "      <td>7.7500</td>\n",
              "      <td>NaN</td>\n",
              "      <td>Q</td>\n",
              "      <td>13</td>\n",
              "      <td>NaN</td>\n",
              "      <td>Ireland</td>\n",
              "    </tr>\n",
              "    <tr>\n",
              "      <th>726</th>\n",
              "      <td>3</td>\n",
              "      <td>0</td>\n",
              "      <td>Connolly, Miss. Kate</td>\n",
              "      <td>female</td>\n",
              "      <td>30.0</td>\n",
              "      <td>0</td>\n",
              "      <td>0</td>\n",
              "      <td>330972</td>\n",
              "      <td>7.6292</td>\n",
              "      <td>NaN</td>\n",
              "      <td>Q</td>\n",
              "      <td>NaN</td>\n",
              "      <td>NaN</td>\n",
              "      <td>Ireland</td>\n",
              "    </tr>\n",
              "    <tr>\n",
              "      <th>924</th>\n",
              "      <td>3</td>\n",
              "      <td>0</td>\n",
              "      <td>Kelly, Mr. James</td>\n",
              "      <td>male</td>\n",
              "      <td>34.5</td>\n",
              "      <td>0</td>\n",
              "      <td>0</td>\n",
              "      <td>330911</td>\n",
              "      <td>7.8292</td>\n",
              "      <td>NaN</td>\n",
              "      <td>Q</td>\n",
              "      <td>NaN</td>\n",
              "      <td>70.0</td>\n",
              "      <td>NaN</td>\n",
              "    </tr>\n",
              "    <tr>\n",
              "      <th>925</th>\n",
              "      <td>3</td>\n",
              "      <td>0</td>\n",
              "      <td>Kelly, Mr. James</td>\n",
              "      <td>male</td>\n",
              "      <td>44.0</td>\n",
              "      <td>0</td>\n",
              "      <td>0</td>\n",
              "      <td>363592</td>\n",
              "      <td>8.0500</td>\n",
              "      <td>NaN</td>\n",
              "      <td>S</td>\n",
              "      <td>NaN</td>\n",
              "      <td>NaN</td>\n",
              "      <td>NaN</td>\n",
              "    </tr>\n",
              "  </tbody>\n",
              "</table>\n",
              "</div>"
            ],
            "text/plain": [
              "     pclass  survived                  name  ... boat  body  home.dest\n",
              "725       3         1  Connolly, Miss. Kate  ...   13   NaN    Ireland\n",
              "726       3         0  Connolly, Miss. Kate  ...  NaN   NaN    Ireland\n",
              "924       3         0      Kelly, Mr. James  ...  NaN  70.0        NaN\n",
              "925       3         0      Kelly, Mr. James  ...  NaN   NaN        NaN\n",
              "\n",
              "[4 rows x 14 columns]"
            ]
          },
          "metadata": {
            "tags": []
          },
          "execution_count": 10
        }
      ]
    },
    {
      "cell_type": "markdown",
      "metadata": {
        "id": "G3S-yFIC8had",
        "colab_type": "text"
      },
      "source": [
        "Since they paid different fare and their ages are different. We can assume that these are different passengers"
      ]
    },
    {
      "cell_type": "markdown",
      "metadata": {
        "id": "-KsCn2ffPTMs",
        "colab_type": "text"
      },
      "source": [
        "### Creating new columns and deleting columns\n",
        "\n",
        "Let's create a column which has the title of the passenger. We can create this column by separating it from the `Name` column. We see that Title is always the first value"
      ]
    },
    {
      "cell_type": "code",
      "metadata": {
        "id": "bqhy4uC0Pl7R",
        "colab_type": "code",
        "colab": {
          "base_uri": "https://localhost:8080/",
          "height": 119
        },
        "outputId": "0869fc41-16d1-45ba-d0e9-1e6f93f4efe6"
      },
      "source": [
        "df.name.head()"
      ],
      "execution_count": 11,
      "outputs": [
        {
          "output_type": "execute_result",
          "data": {
            "text/plain": [
              "0                      Allen, Miss. Elisabeth Walton\n",
              "1                     Allison, Master. Hudson Trevor\n",
              "2                       Allison, Miss. Helen Loraine\n",
              "3               Allison, Mr. Hudson Joshua Creighton\n",
              "4    Allison, Mrs. Hudson J C (Bessie Waldo Daniels)\n",
              "Name: name, dtype: object"
            ]
          },
          "metadata": {
            "tags": []
          },
          "execution_count": 11
        }
      ]
    },
    {
      "cell_type": "code",
      "metadata": {
        "id": "nbcpPqFgPowp",
        "colab_type": "code",
        "colab": {
          "base_uri": "https://localhost:8080/",
          "height": 204
        },
        "outputId": "a54a94e8-8bdd-4350-ba21-a917dd6b57d5"
      },
      "source": [
        "df['title'] = df.name.apply(lambda x: x.split(',')[1].split('.')[0].strip()) # str.stip() removes all leading and trailing whitespaces\n",
        "df.head()"
      ],
      "execution_count": 12,
      "outputs": [
        {
          "output_type": "execute_result",
          "data": {
            "text/html": [
              "<div>\n",
              "<style scoped>\n",
              "    .dataframe tbody tr th:only-of-type {\n",
              "        vertical-align: middle;\n",
              "    }\n",
              "\n",
              "    .dataframe tbody tr th {\n",
              "        vertical-align: top;\n",
              "    }\n",
              "\n",
              "    .dataframe thead th {\n",
              "        text-align: right;\n",
              "    }\n",
              "</style>\n",
              "<table border=\"1\" class=\"dataframe\">\n",
              "  <thead>\n",
              "    <tr style=\"text-align: right;\">\n",
              "      <th></th>\n",
              "      <th>pclass</th>\n",
              "      <th>survived</th>\n",
              "      <th>name</th>\n",
              "      <th>sex</th>\n",
              "      <th>age</th>\n",
              "      <th>sibsp</th>\n",
              "      <th>parch</th>\n",
              "      <th>ticket</th>\n",
              "      <th>fare</th>\n",
              "      <th>cabin</th>\n",
              "      <th>embarked</th>\n",
              "      <th>boat</th>\n",
              "      <th>body</th>\n",
              "      <th>home.dest</th>\n",
              "      <th>title</th>\n",
              "    </tr>\n",
              "  </thead>\n",
              "  <tbody>\n",
              "    <tr>\n",
              "      <th>0</th>\n",
              "      <td>1</td>\n",
              "      <td>1</td>\n",
              "      <td>Allen, Miss. Elisabeth Walton</td>\n",
              "      <td>female</td>\n",
              "      <td>29.0000</td>\n",
              "      <td>0</td>\n",
              "      <td>0</td>\n",
              "      <td>24160</td>\n",
              "      <td>211.3375</td>\n",
              "      <td>B5</td>\n",
              "      <td>S</td>\n",
              "      <td>2</td>\n",
              "      <td>NaN</td>\n",
              "      <td>St Louis, MO</td>\n",
              "      <td>Miss</td>\n",
              "    </tr>\n",
              "    <tr>\n",
              "      <th>1</th>\n",
              "      <td>1</td>\n",
              "      <td>1</td>\n",
              "      <td>Allison, Master. Hudson Trevor</td>\n",
              "      <td>male</td>\n",
              "      <td>0.9167</td>\n",
              "      <td>1</td>\n",
              "      <td>2</td>\n",
              "      <td>113781</td>\n",
              "      <td>151.5500</td>\n",
              "      <td>C22 C26</td>\n",
              "      <td>S</td>\n",
              "      <td>11</td>\n",
              "      <td>NaN</td>\n",
              "      <td>Montreal, PQ / Chesterville, ON</td>\n",
              "      <td>Master</td>\n",
              "    </tr>\n",
              "    <tr>\n",
              "      <th>2</th>\n",
              "      <td>1</td>\n",
              "      <td>0</td>\n",
              "      <td>Allison, Miss. Helen Loraine</td>\n",
              "      <td>female</td>\n",
              "      <td>2.0000</td>\n",
              "      <td>1</td>\n",
              "      <td>2</td>\n",
              "      <td>113781</td>\n",
              "      <td>151.5500</td>\n",
              "      <td>C22 C26</td>\n",
              "      <td>S</td>\n",
              "      <td>NaN</td>\n",
              "      <td>NaN</td>\n",
              "      <td>Montreal, PQ / Chesterville, ON</td>\n",
              "      <td>Miss</td>\n",
              "    </tr>\n",
              "    <tr>\n",
              "      <th>3</th>\n",
              "      <td>1</td>\n",
              "      <td>0</td>\n",
              "      <td>Allison, Mr. Hudson Joshua Creighton</td>\n",
              "      <td>male</td>\n",
              "      <td>30.0000</td>\n",
              "      <td>1</td>\n",
              "      <td>2</td>\n",
              "      <td>113781</td>\n",
              "      <td>151.5500</td>\n",
              "      <td>C22 C26</td>\n",
              "      <td>S</td>\n",
              "      <td>NaN</td>\n",
              "      <td>135.0</td>\n",
              "      <td>Montreal, PQ / Chesterville, ON</td>\n",
              "      <td>Mr</td>\n",
              "    </tr>\n",
              "    <tr>\n",
              "      <th>4</th>\n",
              "      <td>1</td>\n",
              "      <td>0</td>\n",
              "      <td>Allison, Mrs. Hudson J C (Bessie Waldo Daniels)</td>\n",
              "      <td>female</td>\n",
              "      <td>25.0000</td>\n",
              "      <td>1</td>\n",
              "      <td>2</td>\n",
              "      <td>113781</td>\n",
              "      <td>151.5500</td>\n",
              "      <td>C22 C26</td>\n",
              "      <td>S</td>\n",
              "      <td>NaN</td>\n",
              "      <td>NaN</td>\n",
              "      <td>Montreal, PQ / Chesterville, ON</td>\n",
              "      <td>Mrs</td>\n",
              "    </tr>\n",
              "  </tbody>\n",
              "</table>\n",
              "</div>"
            ],
            "text/plain": [
              "   pclass  survived  ...                        home.dest   title\n",
              "0       1         1  ...                     St Louis, MO    Miss\n",
              "1       1         1  ...  Montreal, PQ / Chesterville, ON  Master\n",
              "2       1         0  ...  Montreal, PQ / Chesterville, ON    Miss\n",
              "3       1         0  ...  Montreal, PQ / Chesterville, ON      Mr\n",
              "4       1         0  ...  Montreal, PQ / Chesterville, ON     Mrs\n",
              "\n",
              "[5 rows x 15 columns]"
            ]
          },
          "metadata": {
            "tags": []
          },
          "execution_count": 12
        }
      ]
    },
    {
      "cell_type": "markdown",
      "metadata": {
        "id": "p2O7U_knoZen",
        "colab_type": "text"
      },
      "source": [
        "Now we can remove the name coulmn since we do not need it."
      ]
    },
    {
      "cell_type": "code",
      "metadata": {
        "id": "_vxom1l8of99",
        "colab_type": "code",
        "colab": {
          "base_uri": "https://localhost:8080/",
          "height": 34
        },
        "outputId": "7665ca11-ab2e-4862-a163-a8e2b8ce2de3"
      },
      "source": [
        "df.drop(columns=['name', 'ticket', 'body', 'boat', 'home.dest', 'cabin'], inplace=True)\n",
        "print(df.columns.tolist())"
      ],
      "execution_count": 13,
      "outputs": [
        {
          "output_type": "stream",
          "text": [
            "['pclass', 'survived', 'sex', 'age', 'sibsp', 'parch', 'fare', 'embarked', 'title']\n"
          ],
          "name": "stdout"
        }
      ]
    },
    {
      "cell_type": "markdown",
      "metadata": {
        "id": "gqIMJXo698H3",
        "colab_type": "text"
      },
      "source": [
        "### Creating summary tables (Groupby)"
      ]
    },
    {
      "cell_type": "markdown",
      "metadata": {
        "id": "cFMl7DHMqbjS",
        "colab_type": "text"
      },
      "source": [
        "Let's find the number of passengers based on their Titles and gender"
      ]
    },
    {
      "cell_type": "code",
      "metadata": {
        "id": "cAmEXeSGqwHM",
        "colab_type": "code",
        "colab": {
          "base_uri": "https://localhost:8080/",
          "height": 374
        },
        "outputId": "9632b817-d2ee-4ad7-e103-38d3c3280b16"
      },
      "source": [
        "df.groupby(['sex', 'title']).size()"
      ],
      "execution_count": 14,
      "outputs": [
        {
          "output_type": "execute_result",
          "data": {
            "text/plain": [
              "sex     title       \n",
              "female  Dona              1\n",
              "        Dr                1\n",
              "        Lady              1\n",
              "        Miss            260\n",
              "        Mlle              2\n",
              "        Mme               1\n",
              "        Mrs             197\n",
              "        Ms                2\n",
              "        the Countess      1\n",
              "male    Capt              1\n",
              "        Col               4\n",
              "        Don               1\n",
              "        Dr                7\n",
              "        Jonkheer          1\n",
              "        Major             2\n",
              "        Master           61\n",
              "        Mr              757\n",
              "        Rev               8\n",
              "        Sir               1\n",
              "dtype: int64"
            ]
          },
          "metadata": {
            "tags": []
          },
          "execution_count": 14
        }
      ]
    },
    {
      "cell_type": "markdown",
      "metadata": {
        "id": "VFrKay5NrF_a",
        "colab_type": "text"
      },
      "source": [
        "We can reassign `Mlle`, `Ms` as `Miss` and `Mme` as `Mrs`."
      ]
    },
    {
      "cell_type": "code",
      "metadata": {
        "id": "I8sJLCzZrQ0a",
        "colab_type": "code",
        "colab": {
          "base_uri": "https://localhost:8080/",
          "height": 323
        },
        "outputId": "783ff78d-1b57-4489-b865-cf2338a31cbf"
      },
      "source": [
        "df.loc[df.title.isin(['Mlle', 'Ms']), 'title'] = 'Miss'\n",
        "df.loc[df.title == 'Mme', 'title'] = 'Mrs'\n",
        "df.groupby(['sex', 'title']).size()"
      ],
      "execution_count": 15,
      "outputs": [
        {
          "output_type": "execute_result",
          "data": {
            "text/plain": [
              "sex     title       \n",
              "female  Dona              1\n",
              "        Dr                1\n",
              "        Lady              1\n",
              "        Miss            264\n",
              "        Mrs             198\n",
              "        the Countess      1\n",
              "male    Capt              1\n",
              "        Col               4\n",
              "        Don               1\n",
              "        Dr                7\n",
              "        Jonkheer          1\n",
              "        Major             2\n",
              "        Master           61\n",
              "        Mr              757\n",
              "        Rev               8\n",
              "        Sir               1\n",
              "dtype: int64"
            ]
          },
          "metadata": {
            "tags": []
          },
          "execution_count": 15
        }
      ]
    },
    {
      "cell_type": "markdown",
      "metadata": {
        "id": "68ij5jFjra4E",
        "colab_type": "text"
      },
      "source": [
        "Let's look at by title what is the likelihood of surviving"
      ]
    },
    {
      "cell_type": "code",
      "metadata": {
        "id": "2WkwQyAtsZ-C",
        "colab_type": "code",
        "colab": {
          "base_uri": "https://localhost:8080/",
          "height": 355
        },
        "outputId": "c40cb65e-c698-4e48-a701-de4ae8327072"
      },
      "source": [
        "df[[\"survived\", \"title\"]].groupby(\"title\").mean().plot(kind='bar')"
      ],
      "execution_count": 16,
      "outputs": [
        {
          "output_type": "execute_result",
          "data": {
            "text/plain": [
              "<matplotlib.axes._subplots.AxesSubplot at 0x7faa2f0aa8d0>"
            ]
          },
          "metadata": {
            "tags": []
          },
          "execution_count": 16
        },
        {
          "output_type": "display_data",
          "data": {
            "image/png": "[encoded data removed]",
            "text/plain": [
              "<Figure size 432x288 with 1 Axes>"
            ]
          },
          "metadata": {
            "tags": []
          }
        }
      ]
    },
    {
      "cell_type": "markdown",
      "metadata": {
        "id": "7pP4ijfBtBED",
        "colab_type": "text"
      },
      "source": [
        "We see that passengers with title `Mr` had the lowest survival rate. On the other hand Miss and Mrs had higher survival rate.\n",
        "\n",
        "Now let's look at survival rate by number of family members."
      ]
    },
    {
      "cell_type": "code",
      "metadata": {
        "id": "cHe6kEQ06o5r",
        "colab_type": "code",
        "colab": {
          "base_uri": "https://localhost:8080/",
          "height": 303
        },
        "outputId": "734bc61f-e578-4385-f3a2-c9c5f45adc3f"
      },
      "source": [
        "df[\"total_members\"] = df.sibsp + df.parch + 1\n",
        "df[[\"survived\", \"total_members\"]].groupby('total_members').mean().plot(kind='bar')"
      ],
      "execution_count": 17,
      "outputs": [
        {
          "output_type": "execute_result",
          "data": {
            "text/plain": [
              "<matplotlib.axes._subplots.AxesSubplot at 0x7faa2c76f6a0>"
            ]
          },
          "metadata": {
            "tags": []
          },
          "execution_count": 17
        },
        {
          "output_type": "display_data",
          "data": {
            "image/png": "[encoded data removed]",
            "text/plain": [
              "<Figure size 432x288 with 1 Axes>"
            ]
          },
          "metadata": {
            "tags": []
          }
        }
      ]
    },
    {
      "cell_type": "markdown",
      "metadata": {
        "id": "8vQ-LHAI6-rE",
        "colab_type": "text"
      },
      "source": [
        "We can see passengers with family size more than 4 or single passengers had a low survival rate compared to others.\n"
      ]
    },
    {
      "cell_type": "markdown",
      "metadata": {
        "id": "tp1nM8XNuHSG",
        "colab_type": "text"
      },
      "source": [
        "## Data cleaning"
      ]
    },
    {
      "cell_type": "markdown",
      "metadata": {
        "id": "-Ifmq8zWJb42",
        "colab_type": "text"
      },
      "source": [
        "### Missing values\n",
        "\n",
        "Let's look at the total number of missing values by each column and see how can we handle them"
      ]
    },
    {
      "cell_type": "code",
      "metadata": {
        "id": "fSvHEWItpWf-",
        "colab_type": "code",
        "colab": {
          "base_uri": "https://localhost:8080/",
          "height": 204
        },
        "outputId": "78d03395-f691-4aae-d1fc-37fb7907e4e7"
      },
      "source": [
        "df.isna().sum(axis=0)"
      ],
      "execution_count": 18,
      "outputs": [
        {
          "output_type": "execute_result",
          "data": {
            "text/plain": [
              "pclass             0\n",
              "survived           0\n",
              "sex                0\n",
              "age              263\n",
              "sibsp              0\n",
              "parch              0\n",
              "fare               1\n",
              "embarked           2\n",
              "title              0\n",
              "total_members      0\n",
              "dtype: int64"
            ]
          },
          "metadata": {
            "tags": []
          },
          "execution_count": 18
        }
      ]
    },
    {
      "cell_type": "markdown",
      "metadata": {
        "id": "lrNTy3zOqSSz",
        "colab_type": "text"
      },
      "source": [
        "There are three ways we can handle missing values - \n",
        "\n",
        "* Remove the observation (row) or the column\n",
        "* Impute missing value\n",
        "* Treat missing value as an new categorical level"
      ]
    },
    {
      "cell_type": "markdown",
      "metadata": {
        "id": "aLxuPs7c_I4S",
        "colab_type": "text"
      },
      "source": [
        "##### Embarked\n",
        "Now let's look at the missing values in `embarked` column"
      ]
    },
    {
      "cell_type": "code",
      "metadata": {
        "id": "HP-eygl-CuNj",
        "colab_type": "code",
        "colab": {
          "base_uri": "https://localhost:8080/",
          "height": 111
        },
        "outputId": "f026c770-c8c8-4ebd-9dfd-8554f88b5f8b"
      },
      "source": [
        "df[df.embarked.isna()]"
      ],
      "execution_count": 19,
      "outputs": [
        {
          "output_type": "execute_result",
          "data": {
            "text/html": [
              "<div>\n",
              "<style scoped>\n",
              "    .dataframe tbody tr th:only-of-type {\n",
              "        vertical-align: middle;\n",
              "    }\n",
              "\n",
              "    .dataframe tbody tr th {\n",
              "        vertical-align: top;\n",
              "    }\n",
              "\n",
              "    .dataframe thead th {\n",
              "        text-align: right;\n",
              "    }\n",
              "</style>\n",
              "<table border=\"1\" class=\"dataframe\">\n",
              "  <thead>\n",
              "    <tr style=\"text-align: right;\">\n",
              "      <th></th>\n",
              "      <th>pclass</th>\n",
              "      <th>survived</th>\n",
              "      <th>sex</th>\n",
              "      <th>age</th>\n",
              "      <th>sibsp</th>\n",
              "      <th>parch</th>\n",
              "      <th>fare</th>\n",
              "      <th>embarked</th>\n",
              "      <th>title</th>\n",
              "      <th>total_members</th>\n",
              "    </tr>\n",
              "  </thead>\n",
              "  <tbody>\n",
              "    <tr>\n",
              "      <th>168</th>\n",
              "      <td>1</td>\n",
              "      <td>1</td>\n",
              "      <td>female</td>\n",
              "      <td>38.0</td>\n",
              "      <td>0</td>\n",
              "      <td>0</td>\n",
              "      <td>80.0</td>\n",
              "      <td>NaN</td>\n",
              "      <td>Miss</td>\n",
              "      <td>1</td>\n",
              "    </tr>\n",
              "    <tr>\n",
              "      <th>284</th>\n",
              "      <td>1</td>\n",
              "      <td>1</td>\n",
              "      <td>female</td>\n",
              "      <td>62.0</td>\n",
              "      <td>0</td>\n",
              "      <td>0</td>\n",
              "      <td>80.0</td>\n",
              "      <td>NaN</td>\n",
              "      <td>Mrs</td>\n",
              "      <td>1</td>\n",
              "    </tr>\n",
              "  </tbody>\n",
              "</table>\n",
              "</div>"
            ],
            "text/plain": [
              "     pclass  survived     sex   age  ...  fare  embarked  title total_members\n",
              "168       1         1  female  38.0  ...  80.0       NaN   Miss             1\n",
              "284       1         1  female  62.0  ...  80.0       NaN    Mrs             1\n",
              "\n",
              "[2 rows x 10 columns]"
            ]
          },
          "metadata": {
            "tags": []
          },
          "execution_count": 19
        }
      ]
    },
    {
      "cell_type": "markdown",
      "metadata": {
        "id": "5T6_XW9gC4Fy",
        "colab_type": "text"
      },
      "source": [
        "Let's look at the relationship of `embarked`, `fare` and `survived`"
      ]
    },
    {
      "cell_type": "code",
      "metadata": {
        "id": "krlafYLvkFXp",
        "colab_type": "code",
        "colab": {
          "base_uri": "https://localhost:8080/",
          "height": 173
        },
        "outputId": "b4baf4d3-692b-41a3-f11f-46bb1f54ff38"
      },
      "source": [
        "df[['embarked', 'survived', 'fare']].groupby(['embarked']).mean()"
      ],
      "execution_count": 20,
      "outputs": [
        {
          "output_type": "execute_result",
          "data": {
            "text/html": [
              "<div>\n",
              "<style scoped>\n",
              "    .dataframe tbody tr th:only-of-type {\n",
              "        vertical-align: middle;\n",
              "    }\n",
              "\n",
              "    .dataframe tbody tr th {\n",
              "        vertical-align: top;\n",
              "    }\n",
              "\n",
              "    .dataframe thead th {\n",
              "        text-align: right;\n",
              "    }\n",
              "</style>\n",
              "<table border=\"1\" class=\"dataframe\">\n",
              "  <thead>\n",
              "    <tr style=\"text-align: right;\">\n",
              "      <th></th>\n",
              "      <th>survived</th>\n",
              "      <th>fare</th>\n",
              "    </tr>\n",
              "    <tr>\n",
              "      <th>embarked</th>\n",
              "      <th></th>\n",
              "      <th></th>\n",
              "    </tr>\n",
              "  </thead>\n",
              "  <tbody>\n",
              "    <tr>\n",
              "      <th>C</th>\n",
              "      <td>0.555556</td>\n",
              "      <td>62.336267</td>\n",
              "    </tr>\n",
              "    <tr>\n",
              "      <th>Q</th>\n",
              "      <td>0.357724</td>\n",
              "      <td>12.409012</td>\n",
              "    </tr>\n",
              "    <tr>\n",
              "      <th>S</th>\n",
              "      <td>0.332604</td>\n",
              "      <td>27.418824</td>\n",
              "    </tr>\n",
              "  </tbody>\n",
              "</table>\n",
              "</div>"
            ],
            "text/plain": [
              "          survived       fare\n",
              "embarked                     \n",
              "C         0.555556  62.336267\n",
              "Q         0.357724  12.409012\n",
              "S         0.332604  27.418824"
            ]
          },
          "metadata": {
            "tags": []
          },
          "execution_count": 20
        }
      ]
    },
    {
      "cell_type": "markdown",
      "metadata": {
        "id": "iSMpL7L3kR5n",
        "colab_type": "text"
      },
      "source": [
        "We can see that passengers who embarked from `C` had the highest survival rate and highest fare. Since, the two passengers with missing value for `embarked` have fare of 80 £ and survived so we can impute the missing value as `C`"
      ]
    },
    {
      "cell_type": "code",
      "metadata": {
        "id": "3M83jXhik9De",
        "colab_type": "code",
        "colab": {}
      },
      "source": [
        "df.loc[(df.embarked.isna()), \"embarked\"] = 'C'"
      ],
      "execution_count": 0,
      "outputs": []
    },
    {
      "cell_type": "markdown",
      "metadata": {
        "id": "M9zEUH5k0RiC",
        "colab_type": "text"
      },
      "source": [
        "##### Fare \n",
        "Now Let's look at the record having missing `fare` value"
      ]
    },
    {
      "cell_type": "code",
      "metadata": {
        "id": "TTC0mc3i_m5L",
        "colab_type": "code",
        "colab": {
          "base_uri": "https://localhost:8080/",
          "height": 80
        },
        "outputId": "71d8e6b8-aa6f-44f5-bbf8-93fd2a264a40"
      },
      "source": [
        "df[df.fare.isnull()]"
      ],
      "execution_count": 22,
      "outputs": [
        {
          "output_type": "execute_result",
          "data": {
            "text/html": [
              "<div>\n",
              "<style scoped>\n",
              "    .dataframe tbody tr th:only-of-type {\n",
              "        vertical-align: middle;\n",
              "    }\n",
              "\n",
              "    .dataframe tbody tr th {\n",
              "        vertical-align: top;\n",
              "    }\n",
              "\n",
              "    .dataframe thead th {\n",
              "        text-align: right;\n",
              "    }\n",
              "</style>\n",
              "<table border=\"1\" class=\"dataframe\">\n",
              "  <thead>\n",
              "    <tr style=\"text-align: right;\">\n",
              "      <th></th>\n",
              "      <th>pclass</th>\n",
              "      <th>survived</th>\n",
              "      <th>sex</th>\n",
              "      <th>age</th>\n",
              "      <th>sibsp</th>\n",
              "      <th>parch</th>\n",
              "      <th>fare</th>\n",
              "      <th>embarked</th>\n",
              "      <th>title</th>\n",
              "      <th>total_members</th>\n",
              "    </tr>\n",
              "  </thead>\n",
              "  <tbody>\n",
              "    <tr>\n",
              "      <th>1225</th>\n",
              "      <td>3</td>\n",
              "      <td>0</td>\n",
              "      <td>male</td>\n",
              "      <td>60.5</td>\n",
              "      <td>0</td>\n",
              "      <td>0</td>\n",
              "      <td>NaN</td>\n",
              "      <td>S</td>\n",
              "      <td>Mr</td>\n",
              "      <td>1</td>\n",
              "    </tr>\n",
              "  </tbody>\n",
              "</table>\n",
              "</div>"
            ],
            "text/plain": [
              "      pclass  survived   sex   age  ...  fare  embarked  title total_members\n",
              "1225       3         0  male  60.5  ...   NaN         S     Mr             1\n",
              "\n",
              "[1 rows x 10 columns]"
            ]
          },
          "metadata": {
            "tags": []
          },
          "execution_count": 22
        }
      ]
    },
    {
      "cell_type": "markdown",
      "metadata": {
        "id": "Bpw1ydox_qbK",
        "colab_type": "text"
      },
      "source": [
        "Let's try to imupte the missing fare. Let's see which columns are correlated with fare. "
      ]
    },
    {
      "cell_type": "code",
      "metadata": {
        "id": "fqgk5PmE_0Zk",
        "colab_type": "code",
        "colab": {
          "base_uri": "https://localhost:8080/",
          "height": 453
        },
        "outputId": "9e25fa40-d9b3-4400-8446-a75d6c597e6f"
      },
      "source": [
        "fare_by_class_embarked = df.groupby(['pclass', 'embarked'])['fare'].mean().reset_index()\n",
        "sns.scatterplot(x='pclass', hue='embarked', y='fare', data=df)\n",
        "print(fare_by_class_embarked)"
      ],
      "execution_count": 23,
      "outputs": [
        {
          "output_type": "stream",
          "text": [
            "   pclass embarked        fare\n",
            "0       1        C  106.469871\n",
            "1       1        Q   90.000000\n",
            "2       1        S   72.148094\n",
            "3       2        C   23.300593\n",
            "4       2        Q   11.735114\n",
            "5       2        S   21.206921\n",
            "6       3        C   11.021624\n",
            "7       3        Q   10.390820\n",
            "8       3        S   14.435422\n"
          ],
          "name": "stdout"
        },
        {
          "output_type": "display_data",
          "data": {
            "image/png": "[encoded data removed]",
            "text/plain": [
              "<Figure size 432x288 with 1 Axes>"
            ]
          },
          "metadata": {
            "tags": []
          }
        }
      ]
    },
    {
      "cell_type": "markdown",
      "metadata": {
        "id": "Aryc6McbB9lC",
        "colab_type": "text"
      },
      "source": [
        "We see that for passengers of `pclass`=`3` who embarked from `S` the average fare was 14.43, so we can use that fare to impute the missing fare value."
      ]
    },
    {
      "cell_type": "code",
      "metadata": {
        "id": "crjI78DDCVeM",
        "colab_type": "code",
        "colab": {}
      },
      "source": [
        "df.loc[(df.fare.isnull()) & (df.pclass==3) & (df.embarked==\"S\"), \"fare\"] = df.loc[(df.pclass==3) & (df.embarked==\"S\"), \"fare\"].mean()"
      ],
      "execution_count": 0,
      "outputs": []
    },
    {
      "cell_type": "markdown",
      "metadata": {
        "id": "pzuVbL5RlaMB",
        "colab_type": "text"
      },
      "source": [
        "##### Age\n",
        "Now let's take care of the missing values in `age`. Let's see age distribution first"
      ]
    },
    {
      "cell_type": "code",
      "metadata": {
        "id": "iWq9q0HDlmH6",
        "colab_type": "code",
        "colab": {
          "base_uri": "https://localhost:8080/",
          "height": 286
        },
        "outputId": "de7c406f-cba0-4b39-9168-ccd960ea1506"
      },
      "source": [
        "df.age.plot(kind='hist', edgecolor='black')"
      ],
      "execution_count": 25,
      "outputs": [
        {
          "output_type": "execute_result",
          "data": {
            "text/plain": [
              "<matplotlib.axes._subplots.AxesSubplot at 0x7faa2b464198>"
            ]
          },
          "metadata": {
            "tags": []
          },
          "execution_count": 25
        },
        {
          "output_type": "display_data",
          "data": {
            "image/png": "[encoded data removed]",
            "text/plain": [
              "<Figure size 432x288 with 1 Axes>"
            ]
          },
          "metadata": {
            "tags": []
          }
        }
      ]
    },
    {
      "cell_type": "markdown",
      "metadata": {
        "id": "7al60KgA-gM2",
        "colab_type": "text"
      },
      "source": [
        "**Using seaborn to create visualizations**\n",
        "\n",
        "Let's see similar plot created using `seaborn` library"
      ]
    },
    {
      "cell_type": "code",
      "metadata": {
        "id": "-cujTRt1-m-X",
        "colab_type": "code",
        "colab": {
          "base_uri": "https://localhost:8080/",
          "height": 300
        },
        "outputId": "13fccded-017c-44fc-d4d6-94084dbee496"
      },
      "source": [
        "sns.distplot(df.age[~df.age.isna()])"
      ],
      "execution_count": 26,
      "outputs": [
        {
          "output_type": "execute_result",
          "data": {
            "text/plain": [
              "<matplotlib.axes._subplots.AxesSubplot at 0x7faa2b44b860>"
            ]
          },
          "metadata": {
            "tags": []
          },
          "execution_count": 26
        },
        {
          "output_type": "display_data",
          "data": {
            "image/png": "[encoded data removed]",
            "text/plain": [
              "<Figure size 432x288 with 1 Axes>"
            ]
          },
          "metadata": {
            "tags": []
          }
        }
      ]
    },
    {
      "cell_type": "markdown",
      "metadata": {
        "id": "WkOvK01JoDA6",
        "colab_type": "text"
      },
      "source": [
        "Age can be predicted based of `title` and `sex` of existing customers and imputing the median age value. Let's first create a scatter plot to see the relationship"
      ]
    },
    {
      "cell_type": "code",
      "metadata": {
        "id": "6wTWlwIzoyHk",
        "colab_type": "code",
        "colab": {
          "base_uri": "https://localhost:8080/",
          "height": 581
        },
        "outputId": "66cc2223-869a-4cd2-ca48-262e5b9e636a"
      },
      "source": [
        "labels = df.title.unique()\n",
        "p = sns.scatterplot(x=\"title\", y=\"age\", hue=\"sex\", data=df)\n",
        "p.set_xticklabels(labels, rotation=45, horizontalalignment='right')"
      ],
      "execution_count": 27,
      "outputs": [
        {
          "output_type": "execute_result",
          "data": {
            "text/plain": [
              "[Text(0, 0, 'Miss'),\n",
              " Text(0, 0, 'Master'),\n",
              " Text(0, 0, 'Mr'),\n",
              " Text(0, 0, 'Mrs'),\n",
              " Text(0, 0, 'Col'),\n",
              " Text(0, 0, 'Dr'),\n",
              " Text(0, 0, 'Major'),\n",
              " Text(0, 0, 'Capt'),\n",
              " Text(0, 0, 'Lady'),\n",
              " Text(0, 0, 'Sir'),\n",
              " Text(0, 0, 'Dona'),\n",
              " Text(0, 0, 'Jonkheer'),\n",
              " Text(0, 0, 'the Countess'),\n",
              " Text(0, 0, 'Don'),\n",
              " Text(0, 0, 'Rev')]"
            ]
          },
          "metadata": {
            "tags": []
          },
          "execution_count": 27
        },
        {
          "output_type": "display_data",
          "data": {
            "image/png": "[encoded data removed]",
            "text/plain": [
              "<Figure size 432x288 with 1 Axes>"
            ]
          },
          "metadata": {
            "tags": []
          }
        }
      ]
    },
    {
      "cell_type": "markdown",
      "metadata": {
        "id": "IlB6PzZ3RqhG",
        "colab_type": "text"
      },
      "source": [
        "We see that there is a clear relationship between `age` and the combination of `sex`, `title`. Let's see this relationship using a `pivot table`."
      ]
    },
    {
      "cell_type": "code",
      "metadata": {
        "id": "fCpOri-M4hFe",
        "colab_type": "code",
        "colab": {
          "base_uri": "https://localhost:8080/",
          "height": 323
        },
        "outputId": "445f05f7-7814-4b21-ccb7-ccc2f08cc552"
      },
      "source": [
        "age_pivot_table = df.pivot_table(index=['sex', 'title'], values=['age'], aggfunc='median')\n",
        "print(age_pivot_table)"
      ],
      "execution_count": 28,
      "outputs": [
        {
          "output_type": "stream",
          "text": [
            "                      age\n",
            "sex    title             \n",
            "female Dona          39.0\n",
            "       Dr            49.0\n",
            "       Lady          48.0\n",
            "       Miss          22.0\n",
            "       Mrs           35.0\n",
            "       the Countess  33.0\n",
            "male   Capt          70.0\n",
            "       Col           54.5\n",
            "       Don           40.0\n",
            "       Dr            47.0\n",
            "       Jonkheer      38.0\n",
            "       Major         48.5\n",
            "       Master         4.0\n",
            "       Mr            29.0\n",
            "       Rev           41.5\n",
            "       Sir           49.0\n"
          ],
          "name": "stdout"
        }
      ]
    },
    {
      "cell_type": "markdown",
      "metadata": {
        "id": "ZufvAaQ94j0l",
        "colab_type": "text"
      },
      "source": [
        "**Imputing missing value with merging Dataframes**\n",
        "\n",
        "Now there are 2 ways we can impute the missing values in the `age` column - \n",
        "1. Write a long if else loop to impte the values.\n",
        "2. Use `merge` operation to do it more effectively"
      ]
    },
    {
      "cell_type": "code",
      "metadata": {
        "id": "ye3CxWAJAi7S",
        "colab_type": "code",
        "colab": {
          "base_uri": "https://localhost:8080/",
          "height": 221
        },
        "outputId": "a51200d5-f97a-47fd-b558-c3a625ca95d8"
      },
      "source": [
        "df_age_imputed = df[df.age.isna()].drop(columns='age').merge(age_pivot_table.reset_index(), on=['sex', 'title'], how='left')\n",
        "print(df_age_imputed.shape)\n",
        "df_age_imputed.head()\n"
      ],
      "execution_count": 29,
      "outputs": [
        {
          "output_type": "stream",
          "text": [
            "(263, 10)\n"
          ],
          "name": "stdout"
        },
        {
          "output_type": "execute_result",
          "data": {
            "text/html": [
              "<div>\n",
              "<style scoped>\n",
              "    .dataframe tbody tr th:only-of-type {\n",
              "        vertical-align: middle;\n",
              "    }\n",
              "\n",
              "    .dataframe tbody tr th {\n",
              "        vertical-align: top;\n",
              "    }\n",
              "\n",
              "    .dataframe thead th {\n",
              "        text-align: right;\n",
              "    }\n",
              "</style>\n",
              "<table border=\"1\" class=\"dataframe\">\n",
              "  <thead>\n",
              "    <tr style=\"text-align: right;\">\n",
              "      <th></th>\n",
              "      <th>pclass</th>\n",
              "      <th>survived</th>\n",
              "      <th>sex</th>\n",
              "      <th>sibsp</th>\n",
              "      <th>parch</th>\n",
              "      <th>fare</th>\n",
              "      <th>embarked</th>\n",
              "      <th>title</th>\n",
              "      <th>total_members</th>\n",
              "      <th>age</th>\n",
              "    </tr>\n",
              "  </thead>\n",
              "  <tbody>\n",
              "    <tr>\n",
              "      <th>0</th>\n",
              "      <td>1</td>\n",
              "      <td>0</td>\n",
              "      <td>male</td>\n",
              "      <td>0</td>\n",
              "      <td>0</td>\n",
              "      <td>25.9250</td>\n",
              "      <td>S</td>\n",
              "      <td>Mr</td>\n",
              "      <td>1</td>\n",
              "      <td>29.0</td>\n",
              "    </tr>\n",
              "    <tr>\n",
              "      <th>1</th>\n",
              "      <td>1</td>\n",
              "      <td>1</td>\n",
              "      <td>male</td>\n",
              "      <td>0</td>\n",
              "      <td>0</td>\n",
              "      <td>26.5500</td>\n",
              "      <td>S</td>\n",
              "      <td>Mr</td>\n",
              "      <td>1</td>\n",
              "      <td>29.0</td>\n",
              "    </tr>\n",
              "    <tr>\n",
              "      <th>2</th>\n",
              "      <td>1</td>\n",
              "      <td>0</td>\n",
              "      <td>male</td>\n",
              "      <td>0</td>\n",
              "      <td>0</td>\n",
              "      <td>39.6000</td>\n",
              "      <td>C</td>\n",
              "      <td>Dr</td>\n",
              "      <td>1</td>\n",
              "      <td>47.0</td>\n",
              "    </tr>\n",
              "    <tr>\n",
              "      <th>3</th>\n",
              "      <td>1</td>\n",
              "      <td>0</td>\n",
              "      <td>male</td>\n",
              "      <td>0</td>\n",
              "      <td>0</td>\n",
              "      <td>31.0000</td>\n",
              "      <td>S</td>\n",
              "      <td>Mr</td>\n",
              "      <td>1</td>\n",
              "      <td>29.0</td>\n",
              "    </tr>\n",
              "    <tr>\n",
              "      <th>4</th>\n",
              "      <td>1</td>\n",
              "      <td>1</td>\n",
              "      <td>female</td>\n",
              "      <td>0</td>\n",
              "      <td>0</td>\n",
              "      <td>27.7208</td>\n",
              "      <td>C</td>\n",
              "      <td>Mrs</td>\n",
              "      <td>1</td>\n",
              "      <td>35.0</td>\n",
              "    </tr>\n",
              "  </tbody>\n",
              "</table>\n",
              "</div>"
            ],
            "text/plain": [
              "   pclass  survived     sex  sibsp  ...  embarked  title total_members   age\n",
              "0       1         0    male      0  ...         S     Mr             1  29.0\n",
              "1       1         1    male      0  ...         S     Mr             1  29.0\n",
              "2       1         0    male      0  ...         C     Dr             1  47.0\n",
              "3       1         0    male      0  ...         S     Mr             1  29.0\n",
              "4       1         1  female      0  ...         C    Mrs             1  35.0\n",
              "\n",
              "[5 rows x 10 columns]"
            ]
          },
          "metadata": {
            "tags": []
          },
          "execution_count": 29
        }
      ]
    },
    {
      "cell_type": "code",
      "metadata": {
        "id": "5Tu1Dxw2D8wW",
        "colab_type": "code",
        "colab": {}
      },
      "source": [
        "df = pd.concat([df[~df.age.isna()], df_age_imputed], ignore_index=True, sort=False)"
      ],
      "execution_count": 0,
      "outputs": []
    },
    {
      "cell_type": "markdown",
      "metadata": {
        "id": "ZtA4ef92AuE-",
        "colab_type": "text"
      },
      "source": [
        "Now let's look at the `age` distribution after imputation"
      ]
    },
    {
      "cell_type": "code",
      "metadata": {
        "id": "Hwrv4cPqBzrE",
        "colab_type": "code",
        "colab": {
          "base_uri": "https://localhost:8080/",
          "height": 34
        },
        "outputId": "d117fb8d-d8a5-4c24-dc6b-b301978e1147"
      },
      "source": [
        "df[df.age.isna()].shape"
      ],
      "execution_count": 31,
      "outputs": [
        {
          "output_type": "execute_result",
          "data": {
            "text/plain": [
              "(0, 10)"
            ]
          },
          "metadata": {
            "tags": []
          },
          "execution_count": 31
        }
      ]
    },
    {
      "cell_type": "code",
      "metadata": {
        "id": "kmBPQhWMBtJg",
        "colab_type": "code",
        "colab": {
          "base_uri": "https://localhost:8080/",
          "height": 286
        },
        "outputId": "05dfd7e1-271b-49c5-df22-5362a7eb6638"
      },
      "source": [
        "df.age.plot(kind='hist', edgecolor='black')"
      ],
      "execution_count": 32,
      "outputs": [
        {
          "output_type": "execute_result",
          "data": {
            "text/plain": [
              "<matplotlib.axes._subplots.AxesSubplot at 0x7faa2b2c4940>"
            ]
          },
          "metadata": {
            "tags": []
          },
          "execution_count": 32
        },
        {
          "output_type": "display_data",
          "data": {
            "image/png": "[encoded data removed]",
            "text/plain": [
              "<Figure size 432x288 with 1 Axes>"
            ]
          },
          "metadata": {
            "tags": []
          }
        }
      ]
    },
    {
      "cell_type": "code",
      "metadata": {
        "id": "GYeh6wYlByVX",
        "colab_type": "code",
        "colab": {
          "base_uri": "https://localhost:8080/",
          "height": 300
        },
        "outputId": "11a3def9-5a32-4603-a575-1209b9245701"
      },
      "source": [
        "sns.distplot(df.age)"
      ],
      "execution_count": 33,
      "outputs": [
        {
          "output_type": "execute_result",
          "data": {
            "text/plain": [
              "<matplotlib.axes._subplots.AxesSubplot at 0x7faa2b287be0>"
            ]
          },
          "metadata": {
            "tags": []
          },
          "execution_count": 33
        },
        {
          "output_type": "display_data",
          "data": {
            "image/png": "[encoded data removed]",
            "text/plain": [
              "<Figure size 432x288 with 1 Axes>"
            ]
          },
          "metadata": {
            "tags": []
          }
        }
      ]
    },
    {
      "cell_type": "markdown",
      "metadata": {
        "id": "-vfaDlPaE9-S",
        "colab_type": "text"
      },
      "source": [
        "### Convert objects to numeric\n",
        "\n",
        "Most machine learning libraries in python require that the columns/features used are numeric. Let's see the data types of our data."
      ]
    },
    {
      "cell_type": "code",
      "metadata": {
        "id": "fErm_LyZFbYK",
        "colab_type": "code",
        "colab": {
          "base_uri": "https://localhost:8080/",
          "height": 204
        },
        "outputId": "3c628b84-6ec8-419b-d066-a73ab3e5b67e"
      },
      "source": [
        "df.dtypes"
      ],
      "execution_count": 34,
      "outputs": [
        {
          "output_type": "execute_result",
          "data": {
            "text/plain": [
              "pclass             int64\n",
              "survived           int64\n",
              "sex               object\n",
              "age              float64\n",
              "sibsp              int64\n",
              "parch              int64\n",
              "fare             float64\n",
              "embarked          object\n",
              "title             object\n",
              "total_members      int64\n",
              "dtype: object"
            ]
          },
          "metadata": {
            "tags": []
          },
          "execution_count": 34
        }
      ]
    },
    {
      "cell_type": "markdown",
      "metadata": {
        "id": "UZK4nNVGFca8",
        "colab_type": "text"
      },
      "source": [
        "We can see that `sex`, `embarked`, `title`are categorical values. \n",
        "\n",
        "Note: pandas assumes that string are also object.\n",
        "\n",
        "pandas provides a function to convert categorical variable into dummy/indicator variables"
      ]
    },
    {
      "cell_type": "code",
      "metadata": {
        "id": "Zd-aqf8yGexR",
        "colab_type": "code",
        "colab": {
          "base_uri": "https://localhost:8080/",
          "height": 241
        },
        "outputId": "a0688ea0-22bd-437c-a771-53d4c53d1276"
      },
      "source": [
        "pd.get_dummies(df).head() # by default pandas converts all string/categorical columns to dummy columns. So we should be careful when converting categorical columns to dummy columns."
      ],
      "execution_count": 35,
      "outputs": [
        {
          "output_type": "execute_result",
          "data": {
            "text/html": [
              "<div>\n",
              "<style scoped>\n",
              "    .dataframe tbody tr th:only-of-type {\n",
              "        vertical-align: middle;\n",
              "    }\n",
              "\n",
              "    .dataframe tbody tr th {\n",
              "        vertical-align: top;\n",
              "    }\n",
              "\n",
              "    .dataframe thead th {\n",
              "        text-align: right;\n",
              "    }\n",
              "</style>\n",
              "<table border=\"1\" class=\"dataframe\">\n",
              "  <thead>\n",
              "    <tr style=\"text-align: right;\">\n",
              "      <th></th>\n",
              "      <th>pclass</th>\n",
              "      <th>survived</th>\n",
              "      <th>age</th>\n",
              "      <th>sibsp</th>\n",
              "      <th>parch</th>\n",
              "      <th>fare</th>\n",
              "      <th>total_members</th>\n",
              "      <th>sex_female</th>\n",
              "      <th>sex_male</th>\n",
              "      <th>embarked_C</th>\n",
              "      <th>embarked_Q</th>\n",
              "      <th>embarked_S</th>\n",
              "      <th>title_Capt</th>\n",
              "      <th>title_Col</th>\n",
              "      <th>title_Don</th>\n",
              "      <th>title_Dona</th>\n",
              "      <th>title_Dr</th>\n",
              "      <th>title_Jonkheer</th>\n",
              "      <th>title_Lady</th>\n",
              "      <th>title_Major</th>\n",
              "      <th>title_Master</th>\n",
              "      <th>title_Miss</th>\n",
              "      <th>title_Mr</th>\n",
              "      <th>title_Mrs</th>\n",
              "      <th>title_Rev</th>\n",
              "      <th>title_Sir</th>\n",
              "      <th>title_the Countess</th>\n",
              "    </tr>\n",
              "  </thead>\n",
              "  <tbody>\n",
              "    <tr>\n",
              "      <th>0</th>\n",
              "      <td>1</td>\n",
              "      <td>1</td>\n",
              "      <td>29.0000</td>\n",
              "      <td>0</td>\n",
              "      <td>0</td>\n",
              "      <td>211.3375</td>\n",
              "      <td>1</td>\n",
              "      <td>1</td>\n",
              "      <td>0</td>\n",
              "      <td>0</td>\n",
              "      <td>0</td>\n",
              "      <td>1</td>\n",
              "      <td>0</td>\n",
              "      <td>0</td>\n",
              "      <td>0</td>\n",
              "      <td>0</td>\n",
              "      <td>0</td>\n",
              "      <td>0</td>\n",
              "      <td>0</td>\n",
              "      <td>0</td>\n",
              "      <td>0</td>\n",
              "      <td>1</td>\n",
              "      <td>0</td>\n",
              "      <td>0</td>\n",
              "      <td>0</td>\n",
              "      <td>0</td>\n",
              "      <td>0</td>\n",
              "    </tr>\n",
              "    <tr>\n",
              "      <th>1</th>\n",
              "      <td>1</td>\n",
              "      <td>1</td>\n",
              "      <td>0.9167</td>\n",
              "      <td>1</td>\n",
              "      <td>2</td>\n",
              "      <td>151.5500</td>\n",
              "      <td>4</td>\n",
              "      <td>0</td>\n",
              "      <td>1</td>\n",
              "      <td>0</td>\n",
              "      <td>0</td>\n",
              "      <td>1</td>\n",
              "      <td>0</td>\n",
              "      <td>0</td>\n",
              "      <td>0</td>\n",
              "      <td>0</td>\n",
              "      <td>0</td>\n",
              "      <td>0</td>\n",
              "      <td>0</td>\n",
              "      <td>0</td>\n",
              "      <td>1</td>\n",
              "      <td>0</td>\n",
              "      <td>0</td>\n",
              "      <td>0</td>\n",
              "      <td>0</td>\n",
              "      <td>0</td>\n",
              "      <td>0</td>\n",
              "    </tr>\n",
              "    <tr>\n",
              "      <th>2</th>\n",
              "      <td>1</td>\n",
              "      <td>0</td>\n",
              "      <td>2.0000</td>\n",
              "      <td>1</td>\n",
              "      <td>2</td>\n",
              "      <td>151.5500</td>\n",
              "      <td>4</td>\n",
              "      <td>1</td>\n",
              "      <td>0</td>\n",
              "      <td>0</td>\n",
              "      <td>0</td>\n",
              "      <td>1</td>\n",
              "      <td>0</td>\n",
              "      <td>0</td>\n",
              "      <td>0</td>\n",
              "      <td>0</td>\n",
              "      <td>0</td>\n",
              "      <td>0</td>\n",
              "      <td>0</td>\n",
              "      <td>0</td>\n",
              "      <td>0</td>\n",
              "      <td>1</td>\n",
              "      <td>0</td>\n",
              "      <td>0</td>\n",
              "      <td>0</td>\n",
              "      <td>0</td>\n",
              "      <td>0</td>\n",
              "    </tr>\n",
              "    <tr>\n",
              "      <th>3</th>\n",
              "      <td>1</td>\n",
              "      <td>0</td>\n",
              "      <td>30.0000</td>\n",
              "      <td>1</td>\n",
              "      <td>2</td>\n",
              "      <td>151.5500</td>\n",
              "      <td>4</td>\n",
              "      <td>0</td>\n",
              "      <td>1</td>\n",
              "      <td>0</td>\n",
              "      <td>0</td>\n",
              "      <td>1</td>\n",
              "      <td>0</td>\n",
              "      <td>0</td>\n",
              "      <td>0</td>\n",
              "      <td>0</td>\n",
              "      <td>0</td>\n",
              "      <td>0</td>\n",
              "      <td>0</td>\n",
              "      <td>0</td>\n",
              "      <td>0</td>\n",
              "      <td>0</td>\n",
              "      <td>1</td>\n",
              "      <td>0</td>\n",
              "      <td>0</td>\n",
              "      <td>0</td>\n",
              "      <td>0</td>\n",
              "    </tr>\n",
              "    <tr>\n",
              "      <th>4</th>\n",
              "      <td>1</td>\n",
              "      <td>0</td>\n",
              "      <td>25.0000</td>\n",
              "      <td>1</td>\n",
              "      <td>2</td>\n",
              "      <td>151.5500</td>\n",
              "      <td>4</td>\n",
              "      <td>1</td>\n",
              "      <td>0</td>\n",
              "      <td>0</td>\n",
              "      <td>0</td>\n",
              "      <td>1</td>\n",
              "      <td>0</td>\n",
              "      <td>0</td>\n",
              "      <td>0</td>\n",
              "      <td>0</td>\n",
              "      <td>0</td>\n",
              "      <td>0</td>\n",
              "      <td>0</td>\n",
              "      <td>0</td>\n",
              "      <td>0</td>\n",
              "      <td>0</td>\n",
              "      <td>0</td>\n",
              "      <td>1</td>\n",
              "      <td>0</td>\n",
              "      <td>0</td>\n",
              "      <td>0</td>\n",
              "    </tr>\n",
              "  </tbody>\n",
              "</table>\n",
              "</div>"
            ],
            "text/plain": [
              "   pclass  survived      age  ...  title_Rev  title_Sir  title_the Countess\n",
              "0       1         1  29.0000  ...          0          0                   0\n",
              "1       1         1   0.9167  ...          0          0                   0\n",
              "2       1         0   2.0000  ...          0          0                   0\n",
              "3       1         0  30.0000  ...          0          0                   0\n",
              "4       1         0  25.0000  ...          0          0                   0\n",
              "\n",
              "[5 rows x 27 columns]"
            ]
          },
          "metadata": {
            "tags": []
          },
          "execution_count": 35
        }
      ]
    },
    {
      "cell_type": "code",
      "metadata": {
        "id": "zfhHagb9H5a-",
        "colab_type": "code",
        "colab": {}
      },
      "source": [
        "df = pd.get_dummies(df, columns=['sex', 'embarked', 'title'], drop_first=True)\n",
        "## if we have missing values in our dataset and instead of imputing it we can assign a new dummy level for the same. Example: title_NA\n",
        "## drop_first = True drops the first level. This is sometimes required to maintain linear independence assumption in linear regression. "
      ],
      "execution_count": 0,
      "outputs": []
    },
    {
      "cell_type": "markdown",
      "metadata": {
        "id": "PXEvMH4bcLkC",
        "colab_type": "text"
      },
      "source": [
        "### Saving python objects to pickle\n",
        "\n",
        "Any object in python can be pickled so that it can be saved on disk. For example it can be a list, function, dataframe or a calibrated machine learning model. Let's save the dataframe we have created to a pickle file."
      ]
    },
    {
      "cell_type": "code",
      "metadata": {
        "id": "WgM_ErFdcuB9",
        "colab_type": "code",
        "colab": {}
      },
      "source": [
        "import pickle\n",
        "\n",
        "with open(\"titanic_processed.pkl\", \"wb\") as f:\n",
        "  pickle.dump(df, f)"
      ],
      "execution_count": 0,
      "outputs": []
    },
    {
      "cell_type": "markdown",
      "metadata": {
        "id": "b6SJwBxsI8Jd",
        "colab_type": "text"
      },
      "source": [
        "### Reducing Memory usage\n",
        "\n",
        "Now let's see the memory usage for individual column. \n",
        "\n",
        "**Note:** This is useful if you have a large dataset and not enough RAM to handle it."
      ]
    },
    {
      "cell_type": "code",
      "metadata": {
        "id": "MoBiFdxE8hvY",
        "colab_type": "code",
        "colab": {
          "base_uri": "https://localhost:8080/",
          "height": 442
        },
        "outputId": "046fe2b8-31b6-4328-9c75-20850d047df3"
      },
      "source": [
        "df.memory_usage(index=False)"
      ],
      "execution_count": 38,
      "outputs": [
        {
          "output_type": "execute_result",
          "data": {
            "text/plain": [
              "pclass                10472\n",
              "survived              10472\n",
              "age                   10472\n",
              "sibsp                 10472\n",
              "parch                 10472\n",
              "fare                  10472\n",
              "total_members         10472\n",
              "sex_male               1309\n",
              "embarked_Q             1309\n",
              "embarked_S             1309\n",
              "title_Col              1309\n",
              "title_Don              1309\n",
              "title_Dona             1309\n",
              "title_Dr               1309\n",
              "title_Jonkheer         1309\n",
              "title_Lady             1309\n",
              "title_Major            1309\n",
              "title_Master           1309\n",
              "title_Miss             1309\n",
              "title_Mr               1309\n",
              "title_Mrs              1309\n",
              "title_Rev              1309\n",
              "title_Sir              1309\n",
              "title_the Countess     1309\n",
              "dtype: int64"
            ]
          },
          "metadata": {
            "tags": []
          },
          "execution_count": 38
        }
      ]
    },
    {
      "cell_type": "markdown",
      "metadata": {
        "id": "iuN4NDRs8mFD",
        "colab_type": "text"
      },
      "source": [
        "We can see that all of the columns are using ~10 KB memory. Let's see if we can try to reduce some memory by changing data types of some columns. From the summary results we saw that `Survived` had binary values. Let's see if we convert them to binary how much memory can we save"
      ]
    },
    {
      "cell_type": "code",
      "metadata": {
        "id": "001VSovQ82TB",
        "colab_type": "code",
        "colab": {
          "base_uri": "https://localhost:8080/",
          "height": 34
        },
        "outputId": "3306b4fa-f86c-4e4b-9a9e-d3db2a86e36f"
      },
      "source": [
        "df.survived.astype('int8').memory_usage()"
      ],
      "execution_count": 39,
      "outputs": [
        {
          "output_type": "execute_result",
          "data": {
            "text/plain": [
              "1389"
            ]
          },
          "metadata": {
            "tags": []
          },
          "execution_count": 39
        }
      ]
    },
    {
      "cell_type": "markdown",
      "metadata": {
        "id": "SoMf4F_b9BDv",
        "colab_type": "text"
      },
      "source": [
        "We can see that by converting the `Survived` column to `int8` from `int64` we reduced the memory usage to 1389 B only. Similarly we can convert `pclass`,  `sibsp` and `parch` columns to `int8`. \n",
        "\n",
        "We can also convert `age` and `fare` column to `float32` if we don't need age with more than 3 digits after decimal. Instead of making these changes after read the whole file. We can make these changes at the time of reading the csv file."
      ]
    },
    {
      "cell_type": "code",
      "metadata": {
        "id": "i7JDdHrEH_ho",
        "colab_type": "code",
        "colab": {}
      },
      "source": [
        "df = pd.read_csv(file_path, \n",
        "                 dtype={'survived': 'int8', 'pclass': 'int8', 'age':'float32', 'sibsp': 'int8', 'parch': 'int8', 'fare':'float32', 'sex': 'category', 'pclass': 'category', 'embarked': 'category'})"
      ],
      "execution_count": 0,
      "outputs": []
    },
    {
      "cell_type": "code",
      "metadata": {
        "id": "QmlmIHuaIlc6",
        "colab_type": "code",
        "colab": {
          "base_uri": "https://localhost:8080/",
          "height": 272
        },
        "outputId": "8c977323-a80e-4427-fd50-75c959e25a31"
      },
      "source": [
        "df.memory_usage(index=False)"
      ],
      "execution_count": 42,
      "outputs": [
        {
          "output_type": "execute_result",
          "data": {
            "text/plain": [
              "pclass        1333\n",
              "survived      1309\n",
              "name         10472\n",
              "sex           1325\n",
              "age           5236\n",
              "sibsp         1309\n",
              "parch         1309\n",
              "ticket       10472\n",
              "fare          5236\n",
              "cabin        10472\n",
              "embarked      1413\n",
              "boat         10472\n",
              "body         10472\n",
              "home.dest    10472\n",
              "dtype: int64"
            ]
          },
          "metadata": {
            "tags": []
          },
          "execution_count": 42
        }
      ]
    },
    {
      "cell_type": "code",
      "metadata": {
        "id": "rjp1OfJaIsXD",
        "colab_type": "code",
        "colab": {
          "base_uri": "https://localhost:8080/",
          "height": 340
        },
        "outputId": "0332627b-3974-4f21-a81c-add65e5a0100"
      },
      "source": [
        "df.info()"
      ],
      "execution_count": 43,
      "outputs": [
        {
          "output_type": "stream",
          "text": [
            "<class 'pandas.core.frame.DataFrame'>\n",
            "RangeIndex: 1309 entries, 0 to 1308\n",
            "Data columns (total 14 columns):\n",
            "pclass       1309 non-null category\n",
            "survived     1309 non-null int8\n",
            "name         1309 non-null object\n",
            "sex          1309 non-null category\n",
            "age          1046 non-null float32\n",
            "sibsp        1309 non-null int8\n",
            "parch        1309 non-null int8\n",
            "ticket       1309 non-null object\n",
            "fare         1308 non-null float32\n",
            "cabin        295 non-null object\n",
            "embarked     1307 non-null category\n",
            "boat         486 non-null object\n",
            "body         121 non-null float64\n",
            "home.dest    745 non-null object\n",
            "dtypes: category(3), float32(2), float64(1), int8(3), object(5)\n",
            "memory usage: 79.5+ KB\n"
          ],
          "name": "stdout"
        }
      ]
    },
    {
      "cell_type": "markdown",
      "metadata": {
        "id": "RYit-t3QIp9O",
        "colab_type": "text"
      },
      "source": [
        "We can see that we have reduced the memory used to 79.5 KB"
      ]
    },
    {
      "cell_type": "markdown",
      "metadata": {
        "id": "VD1uDhaRnS-E",
        "colab_type": "text"
      },
      "source": [
        "We see that there are several columns with missing values. e.g. age, fare, cabin, embarked, boat, body and home.dest"
      ]
    },
    {
      "cell_type": "markdown",
      "metadata": {
        "id": "zhy5tx-Fd3qs",
        "colab_type": "text"
      },
      "source": [
        "### Additional Resources\n",
        "\n",
        "https://pandas.pydata.org/pandas-docs/stable/index.html"
      ]
    }
  ]
}