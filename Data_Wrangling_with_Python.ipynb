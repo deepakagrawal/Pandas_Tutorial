{
  "nbformat": 4,
  "nbformat_minor": 0,
  "metadata": {
    "colab": {
      "name": "Data Wrangling with Python",
      "version": "0.3.2",
      "provenance": [],
      "toc_visible": true,
      "include_colab_link": true
    },
    "kernelspec": {
      "name": "python3",
      "display_name": "Python 3"
    }
  },
  "cells": [
    {
      "cell_type": "markdown",
      "metadata": {
        "id": "view-in-github",
        "colab_type": "text"
      },
      "source": [
        "<a href=\"https://colab.research.google.com/github/deepakagrawal/Pandas_Tutorial/blob/master/Data_Wrangling_with_Python.ipynb\" target=\"_parent\"><img src=\"https://colab.research.google.com/assets/colab-badge.svg\" alt=\"Open In Colab\"/></a>"
      ]
    },
    {
      "cell_type": "markdown",
      "metadata": {
        "id": "sY7n_oCPZJTV",
        "colab_type": "text"
      },
      "source": [
        "# Python Clinic\n",
        "\n",
        "The objective of python clinic is to \n",
        "- create a platform for all Python enthusiasts  \n",
        "- provide learning resources for all members via this channel and offline. \n",
        "\n",
        "Join the slack channel [#topic-python-ds-ml](https://americanairlines.slack.com/messages/CJ7JNTUR4/)"
      ]
    },
    {
      "cell_type": "markdown",
      "metadata": {
        "id": "VAtz2aAvw7WJ",
        "colab_type": "text"
      },
      "source": [
        "# Python for Data Wrangling\n",
        "\n",
        "We will use Titanic Survival prediction dataset as an example. We will focus on the data preparation step for this model.\n",
        "\n",
        "Today we will cover following topics -\n",
        "\n",
        "* Reading data files into Python\n",
        "* What is a DataFrame?\n",
        "* Accessing Main componenets of DataFrame\n",
        "* How to handle `Missing values`?\n",
        "* How to add/remove columns/rows?\n",
        "* How to handle large datasets?\n",
        "* How to perform groupby/aggregation?\n",
        "* How to apply a function to columns/rows?\n",
        "* How to merge/join datasets?\n"
      ]
    },
    {
      "cell_type": "markdown",
      "metadata": {
        "id": "ARA0-wAK16Ik",
        "colab_type": "text"
      },
      "source": [
        "## Problem\n",
        "\n",
        "Titanic dataset provides information on the fate of passengers on the Titanic, summarized according to economic status (class), sex, age and survival. "
      ]
    },
    {
      "cell_type": "markdown",
      "metadata": {
        "id": "Nvexp3AW4OWB",
        "colab_type": "text"
      },
      "source": [
        "Let's start by importing some of the libraries we know we will need. \n",
        "\n",
        "* `pandas` -  This is the most important library for data wrangling in python\n",
        "* `numpy` - Provides helpful mathematical functions\n",
        "* `seaborn` - for creating plots and visualizing trends in data"
      ]
    },
    {
      "cell_type": "code",
      "metadata": {
        "id": "keFasruc57FA",
        "colab_type": "code",
        "colab": {}
      },
      "source": [
        "import pandas as pd\n",
        "import numpy as np\n",
        "import seaborn as sns\n",
        "import matplotlib.pyplot as plt"
      ],
      "execution_count": 0,
      "outputs": []
    },
    {
      "cell_type": "code",
      "metadata": {
        "id": "zdUiCwZg2y5b",
        "colab_type": "code",
        "colab": {}
      },
      "source": [
        "file_path='https://raw.githubusercontent.com/deepakagrawal/Pandas_Tutorial/master/data/titanic.csv'"
      ],
      "execution_count": 0,
      "outputs": []
    },
    {
      "cell_type": "markdown",
      "metadata": {
        "id": "cp37OGXiAZVM",
        "colab_type": "text"
      },
      "source": [
        "### Use pandas to read the data into the dataframe"
      ]
    },
    {
      "cell_type": "code",
      "metadata": {
        "id": "v_1AEenPApEP",
        "colab_type": "code",
        "colab": {}
      },
      "source": [
        "df = pd.read_csv(file_path)\n",
        "\n",
        "## For csv file\n",
        "# df = pd.read_csv(\"file.csv\")"
      ],
      "execution_count": 0,
      "outputs": []
    },
    {
      "cell_type": "markdown",
      "metadata": {
        "id": "8d8P7Ucq4mE0",
        "colab_type": "text"
      },
      "source": [
        "#### Reading large data\n",
        "\n",
        "`csv` file format is not ideal data format when handeling data of `>1GB`. In that case file formats such as `parquet` or `hdf5` are more suitable because read/write speeds are higher. Pandas supports all these formats.\n",
        "\n",
        "If `csv` file formar is unavoidable reading data in chunk can help."
      ]
    },
    {
      "cell_type": "code",
      "metadata": {
        "id": "K-Xgq2aY5jbp",
        "colab_type": "code",
        "colab": {}
      },
      "source": [
        "df1 = pd.read_csv(file_path, chunksize=500)\n",
        "for chunk in df1:\n",
        "  ## perform operation\n",
        "  print(chunk.shape)"
      ],
      "execution_count": 0,
      "outputs": []
    },
    {
      "cell_type": "code",
      "metadata": {
        "id": "YKY0u8pR7FGo",
        "colab_type": "code",
        "colab": {}
      },
      "source": [
        "df1 = pd.read_csv(file_path, memory_map=True)\n",
        "print(df.info())"
      ],
      "execution_count": 0,
      "outputs": []
    },
    {
      "cell_type": "markdown",
      "metadata": {
        "id": "249x2VwGeGkP",
        "colab_type": "text"
      },
      "source": [
        "#### Reading from Mosaic"
      ]
    },
    {
      "cell_type": "code",
      "metadata": {
        "id": "AN4dJX97eLa2",
        "colab_type": "code",
        "colab": {}
      },
      "source": [
        "## pyodbc is an open source library which makes accessing ODBC databases simple\n",
        "# import pyodbc\n",
        "\n",
        "## getpass gets user name and password\n",
        "# import getpass\n",
        "# user_id=getpass.getuser()\n",
        "# print(\"connecting user : \"+ user_id)\n",
        "# ###################################################\n",
        "# connection = pyodbc.connect('DSN=MOSAIC_PROD;Uid=' + user_id + ';Pwd=' + getpass.getpass()) ## this assumes that in teradata your connection is saved as \"MOSAIC_PROD\"\n",
        "# dat = pd.read_sql(\"select top 10 * from PROD_REFERENCE_DATA_VWS.AIRPORT_STATION\",con=connection)\n",
        "\n",
        "# print(dat)\n",
        "\n",
        "# connection.close()"
      ],
      "execution_count": 0,
      "outputs": []
    },
    {
      "cell_type": "markdown",
      "metadata": {
        "id": "zwRRh7HH5jGZ",
        "colab_type": "text"
      },
      "source": [
        "For more details please visit [pandas io guide](https://pandas.pydata.org/pandas-docs/stable/user_guide/io.html)\n",
        "\n",
        "For connecting to mosaic from ORION server please visit [here](https://ghe.aa.com/00740677/ORION-python_pkgs)"
      ]
    },
    {
      "cell_type": "markdown",
      "metadata": {
        "id": "g_QFuLvBBE93",
        "colab_type": "text"
      },
      "source": [
        "### Data Frame properties\n",
        "Let's take a peek at the dataset and see what does the data look like."
      ]
    },
    {
      "cell_type": "code",
      "metadata": {
        "id": "Onobs9faMjY5",
        "colab_type": "code",
        "colab": {}
      },
      "source": [
        "df.shape ## Gives us size of the dataset. No. of rows and columns"
      ],
      "execution_count": 0,
      "outputs": []
    },
    {
      "cell_type": "code",
      "metadata": {
        "id": "chUEbEVMBXHv",
        "colab_type": "code",
        "colab": {}
      },
      "source": [
        "df.head()"
      ],
      "execution_count": 0,
      "outputs": []
    },
    {
      "cell_type": "markdown",
      "metadata": {
        "id": "NF3Emhu7BbIp",
        "colab_type": "text"
      },
      "source": [
        "We see that each row of this dataset represent a single passenger. The definition of the columns is given below\n",
        "\n",
        "| Column name | Definition |\n",
        "|------------------------|-----------------|\n",
        "|pclass | Class of Travel (1=1st; 2=2nd; 3=3rd)|\n",
        "|survived | Survived or Not (0= No; 1=Yes)|\n",
        "|name | Passenger Name |\n",
        "|sex | Genger of the passenger|\n",
        "| age | Age of the passenger|\n",
        "| sibsb| Number of Sibling/Spouse aboard|\n",
        "| parch | Number of Parent/Child aboard|\n",
        "|fare | The fare which passenger paid for his/her ticket (British Pound)|\n",
        "|cabin| The cabin which the passenger booked|\n",
        "|embarked| The port in which a passenger has embarked. C - Cherbourg, S - Southampton, Q = Queenstown|\n",
        "|boat| Lifeboat (if survived) |\n",
        "|body | Body number (if did not survive and body was recovered)|\n",
        "|home.dest|Home/Destination|\n",
        "\n"
      ]
    },
    {
      "cell_type": "markdown",
      "metadata": {
        "id": "pS7ofRKpGQAx",
        "colab_type": "text"
      },
      "source": [
        "Our task is to predict whether the passenger survived or not. So the target column is **`Survived`**. Before we even start building the model we need to do some exploratory analysis to see which features might contribute to a passenger surviving or not."
      ]
    },
    {
      "cell_type": "markdown",
      "metadata": {
        "id": "G1vO8q2S6p7l",
        "colab_type": "text"
      },
      "source": [
        "Let's look at the data types of these columns. We use `DataFrame.info` method to print a concise summary of a DataFrame. We can print the column types, number of missing values and memory usage with this command"
      ]
    },
    {
      "cell_type": "code",
      "metadata": {
        "id": "GX7k9fmkGc-m",
        "colab_type": "code",
        "colab": {}
      },
      "source": [
        "df.info(memory_usage=True) # This prints a concise summary of a DataFrame."
      ],
      "execution_count": 0,
      "outputs": []
    },
    {
      "cell_type": "markdown",
      "metadata": {
        "id": "y0FCObh561A5",
        "colab_type": "text"
      },
      "source": [
        "Above results shows us that \n",
        "\n",
        "1. Total 1309 rows and 14 columns in the DataFrame.\n",
        "2. There are 4 columns with int64 entries, 3 columns with float64 and 7 columns are string or other objects\n",
        "3. The total memory used by this dataframe is ~143 KB"
      ]
    },
    {
      "cell_type": "markdown",
      "metadata": {
        "id": "874iqSfx_hsf",
        "colab_type": "text"
      },
      "source": [
        "Now let's look at the summary of the dataset to see some simple statistics"
      ]
    },
    {
      "cell_type": "code",
      "metadata": {
        "id": "YJAMl0yu_ryk",
        "colab_type": "code",
        "colab": {}
      },
      "source": [
        "df.describe(include='all')"
      ],
      "execution_count": 0,
      "outputs": []
    },
    {
      "cell_type": "markdown",
      "metadata": {
        "id": "KHbwQlnwAEsn",
        "colab_type": "text"
      },
      "source": [
        "From above results we can see that \n",
        "\n",
        "1. `pclass` column has minimum 1 and maximum 3.\n",
        "2. `survived` column has only minimum 0 and maximum 1. \n",
        "3. There are 1307 unique names. And we see that freq = 2. That means two passengers have multiple records\n",
        "4. There are two values for `sex`. And majority are males (843) rest should be female (466)\n",
        "5. Youngest person Aboard is 0.16 years old and oldest person is 80 years old.\n",
        "6. The minimum number of Siblings/Sposes aboard are 0 and maximum are 8\n",
        "7. The minimum number of Parents/Children aboard are 0 and maximum are 9\n",
        "8. Several passengers were on the same ticket\n",
        "9. The minimum Fare paid was 0 and maximum paid was 512.33\n",
        "10. There are 186 unique cabins\n",
        "11. There are 3 ports the passengers departed from. Contains 2 missing values\n",
        "12. Total of 486 boats were used\n",
        "13. Total of 182 bodies were recovered\n",
        "14. Total of 745 destinations were registered"
      ]
    },
    {
      "cell_type": "markdown",
      "metadata": {
        "id": "AeEWG1OX7QV6",
        "colab_type": "text"
      },
      "source": [
        "Let's look at what's happening with the duplicate names."
      ]
    },
    {
      "cell_type": "code",
      "metadata": {
        "id": "EChkGvGN7aNV",
        "colab_type": "code",
        "colab": {}
      },
      "source": [
        "df[df.name.isin(df.name[df.name.duplicated()])]"
      ],
      "execution_count": 0,
      "outputs": []
    },
    {
      "cell_type": "markdown",
      "metadata": {
        "id": "G3S-yFIC8had",
        "colab_type": "text"
      },
      "source": [
        "Since they paid different fare and their ages are different. We can assume that these are different passengers"
      ]
    },
    {
      "cell_type": "markdown",
      "metadata": {
        "id": "b6SJwBxsI8Jd",
        "colab_type": "text"
      },
      "source": [
        "### Reducing Memory usage\n",
        "\n",
        "Now let's see the memory usage for individual column. \n",
        "\n",
        "**Note:** This is useful if you have a large dataset and not enough RAM to handle it."
      ]
    },
    {
      "cell_type": "code",
      "metadata": {
        "id": "MoBiFdxE8hvY",
        "colab_type": "code",
        "colab": {}
      },
      "source": [
        "df.memory_usage(index=False)"
      ],
      "execution_count": 0,
      "outputs": []
    },
    {
      "cell_type": "markdown",
      "metadata": {
        "id": "iuN4NDRs8mFD",
        "colab_type": "text"
      },
      "source": [
        "We can see that all of the columns are using ~10 KB memory. Let's see if we can try to reduce some memory by changing data types of some columns. From the summary results we saw that `Survived` had binary values. Let's see if we convert them to binary how much memory can we save"
      ]
    },
    {
      "cell_type": "code",
      "metadata": {
        "id": "001VSovQ82TB",
        "colab_type": "code",
        "colab": {}
      },
      "source": [
        "df.survived.astype('int8').memory_usage()"
      ],
      "execution_count": 0,
      "outputs": []
    },
    {
      "cell_type": "markdown",
      "metadata": {
        "id": "SoMf4F_b9BDv",
        "colab_type": "text"
      },
      "source": [
        "We can see that by converting the `Survived` column to `int8` from `int64` we reduced the memory usage to 1389 B only. Similarly we can convert `pclass`,  `sibsp` and `parch` columns to `int8`. \n",
        "\n",
        "We can also convert `age` and `fare` column to `float32` if we don't need age with more than 3 digits after decimal. Instead of making these changes after read the whole file. We can make these changes at the time of reading the csv file."
      ]
    },
    {
      "cell_type": "markdown",
      "metadata": {
        "id": "aZB4OlsnHygq",
        "colab_type": "text"
      },
      "source": [
        ""
      ]
    },
    {
      "cell_type": "code",
      "metadata": {
        "id": "i7JDdHrEH_ho",
        "colab_type": "code",
        "colab": {}
      },
      "source": [
        "df = pd.read_csv(file_path, \n",
        "                 dtype={'survived': 'int8', 'pclass': 'int8', 'age':'float32', 'sibsp': 'int8', 'parch': 'int8', 'fare':'float32', 'sex': 'category', 'pclass': 'category', 'embarked': 'category'})"
      ],
      "execution_count": 0,
      "outputs": []
    },
    {
      "cell_type": "code",
      "metadata": {
        "id": "QmlmIHuaIlc6",
        "colab_type": "code",
        "colab": {}
      },
      "source": [
        "df.memory_usage(index=False)"
      ],
      "execution_count": 0,
      "outputs": []
    },
    {
      "cell_type": "code",
      "metadata": {
        "id": "rjp1OfJaIsXD",
        "colab_type": "code",
        "colab": {}
      },
      "source": [
        "df.info()"
      ],
      "execution_count": 0,
      "outputs": []
    },
    {
      "cell_type": "markdown",
      "metadata": {
        "id": "RYit-t3QIp9O",
        "colab_type": "text"
      },
      "source": [
        "We can see that we have reduced the memory used to 79.5 KB"
      ]
    },
    {
      "cell_type": "markdown",
      "metadata": {
        "id": "VD1uDhaRnS-E",
        "colab_type": "text"
      },
      "source": [
        "We see that there are several columns with missing values. e.g. age, fare, cabin, embarked, boat, body and home.dest"
      ]
    },
    {
      "cell_type": "markdown",
      "metadata": {
        "id": "-KsCn2ffPTMs",
        "colab_type": "text"
      },
      "source": [
        "### Creating new columns and deleting columns\n",
        "\n",
        "Let's create a column which has the title of the passenger. We can create this column by separating it from the `Name` column. We see that Title is always the first value"
      ]
    },
    {
      "cell_type": "code",
      "metadata": {
        "id": "bqhy4uC0Pl7R",
        "colab_type": "code",
        "colab": {}
      },
      "source": [
        "df.name.head()"
      ],
      "execution_count": 0,
      "outputs": []
    },
    {
      "cell_type": "code",
      "metadata": {
        "id": "nbcpPqFgPowp",
        "colab_type": "code",
        "colab": {}
      },
      "source": [
        "df['title'] = df.name.apply(lambda x: x.split(',')[1].split('.')[0].strip()) # str.stip() removes all leading and trailing whitespaces\n",
        "df.head()"
      ],
      "execution_count": 0,
      "outputs": []
    },
    {
      "cell_type": "markdown",
      "metadata": {
        "id": "p2O7U_knoZen",
        "colab_type": "text"
      },
      "source": [
        "Now we can remove the name coulmn since we do not need it."
      ]
    },
    {
      "cell_type": "code",
      "metadata": {
        "id": "_vxom1l8of99",
        "colab_type": "code",
        "colab": {}
      },
      "source": [
        "df.drop(columns='name', inplace=True)\n",
        "print(df.columns.tolist())"
      ],
      "execution_count": 0,
      "outputs": []
    },
    {
      "cell_type": "markdown",
      "metadata": {
        "id": "gqIMJXo698H3",
        "colab_type": "text"
      },
      "source": [
        "### Creating summary tables (Groupby)"
      ]
    },
    {
      "cell_type": "markdown",
      "metadata": {
        "id": "cFMl7DHMqbjS",
        "colab_type": "text"
      },
      "source": [
        "Let's find the number of passengers based on their Titles and gender"
      ]
    },
    {
      "cell_type": "code",
      "metadata": {
        "id": "cAmEXeSGqwHM",
        "colab_type": "code",
        "colab": {}
      },
      "source": [
        "df.groupby(['sex', 'title']).size()"
      ],
      "execution_count": 0,
      "outputs": []
    },
    {
      "cell_type": "markdown",
      "metadata": {
        "id": "VFrKay5NrF_a",
        "colab_type": "text"
      },
      "source": [
        "We can reassign `Mlle`, `Ms` as `Miss` and `Mme` as `Mrs`."
      ]
    },
    {
      "cell_type": "code",
      "metadata": {
        "id": "I8sJLCzZrQ0a",
        "colab_type": "code",
        "colab": {}
      },
      "source": [
        "df.loc[df.title.isin(['Mlle', 'Ms']), 'title'] = 'Miss'\n",
        "df.loc[df.title == 'Mme', 'title'] = 'Mrs'\n",
        "df.groupby(['sex', 'title']).size()"
      ],
      "execution_count": 0,
      "outputs": []
    },
    {
      "cell_type": "markdown",
      "metadata": {
        "id": "68ij5jFjra4E",
        "colab_type": "text"
      },
      "source": [
        "Let's look at by title what is the likelihood of surviving"
      ]
    },
    {
      "cell_type": "code",
      "metadata": {
        "id": "2WkwQyAtsZ-C",
        "colab_type": "code",
        "colab": {}
      },
      "source": [
        "df[[\"survived\", \"title\"]].groupby(\"title\").mean().plot(kind='bar')"
      ],
      "execution_count": 0,
      "outputs": []
    },
    {
      "cell_type": "markdown",
      "metadata": {
        "id": "7pP4ijfBtBED",
        "colab_type": "text"
      },
      "source": [
        "We see that passengers with title `Mr` had the lowest survival rate. On the other hand Miss and Mrs had higher survival rate.\n",
        "\n",
        "Now let's look at survival rate by number of family members."
      ]
    },
    {
      "cell_type": "code",
      "metadata": {
        "id": "cHe6kEQ06o5r",
        "colab_type": "code",
        "colab": {}
      },
      "source": [
        "df[\"total_members\"] = df.sibsp + df.parch + 1\n",
        "df[[\"survived\", \"total_members\"]].groupby('total_members').mean().plot(kind='bar')"
      ],
      "execution_count": 0,
      "outputs": []
    },
    {
      "cell_type": "markdown",
      "metadata": {
        "id": "8vQ-LHAI6-rE",
        "colab_type": "text"
      },
      "source": [
        "We can see passengers with family size more than 4 or single passengers had a low survival rate compared to others.\n"
      ]
    },
    {
      "cell_type": "markdown",
      "metadata": {
        "id": "-Ifmq8zWJb42",
        "colab_type": "text"
      },
      "source": [
        "### Missing values\n",
        "\n",
        "Let's look at the total number of missing values by each column and see how can we handle them"
      ]
    },
    {
      "cell_type": "code",
      "metadata": {
        "id": "fSvHEWItpWf-",
        "colab_type": "code",
        "colab": {}
      },
      "source": [
        "df.isna().sum(axis=0)"
      ],
      "execution_count": 0,
      "outputs": []
    },
    {
      "cell_type": "markdown",
      "metadata": {
        "id": "lrNTy3zOqSSz",
        "colab_type": "text"
      },
      "source": [
        "Let's remove unnecessary columns. "
      ]
    },
    {
      "cell_type": "code",
      "metadata": {
        "id": "XgDhFU2RqMYJ",
        "colab_type": "code",
        "colab": {}
      },
      "source": [
        "df.drop(columns=['cabin', 'boat', 'body', 'home.dest', 'ticket'], inplace=True)"
      ],
      "execution_count": 0,
      "outputs": []
    },
    {
      "cell_type": "code",
      "metadata": {
        "id": "qFy-3Z38_Bax",
        "colab_type": "code",
        "colab": {}
      },
      "source": [
        "df.columns.tolist()"
      ],
      "execution_count": 0,
      "outputs": []
    },
    {
      "cell_type": "markdown",
      "metadata": {
        "id": "aLxuPs7c_I4S",
        "colab_type": "text"
      },
      "source": [
        "Now let's look at the missing values. "
      ]
    },
    {
      "cell_type": "code",
      "metadata": {
        "id": "TTC0mc3i_m5L",
        "colab_type": "code",
        "colab": {}
      },
      "source": [
        "df[df.fare.isnull()]"
      ],
      "execution_count": 0,
      "outputs": []
    },
    {
      "cell_type": "markdown",
      "metadata": {
        "id": "Bpw1ydox_qbK",
        "colab_type": "text"
      },
      "source": [
        "Let's try to imupte the missing fare. Let's see which columns are correlated with fare. "
      ]
    },
    {
      "cell_type": "code",
      "metadata": {
        "id": "fqgk5PmE_0Zk",
        "colab_type": "code",
        "colab": {}
      },
      "source": [
        "fare_by_class_embarked = df.groupby(['pclass', 'embarked'])['fare'].mean().reset_index()\n",
        "sns.scatterplot(x='pclass', hue='embarked', y='fare', data=df)\n",
        "print(fare_by_class_embarked)"
      ],
      "execution_count": 0,
      "outputs": []
    },
    {
      "cell_type": "markdown",
      "metadata": {
        "id": "Aryc6McbB9lC",
        "colab_type": "text"
      },
      "source": [
        "We see that for passengers of `pclass`=`3` who embarked from `S` the average fare was 14.43, so we can use that fare to impute the missing fare value."
      ]
    },
    {
      "cell_type": "code",
      "metadata": {
        "id": "crjI78DDCVeM",
        "colab_type": "code",
        "colab": {}
      },
      "source": [
        "df.loc[(df.fare.isnull()) & (df.pclass==3) & (df.embarked==\"S\"), \"fare\"] = df.loc[(df.pclass==3) & (df.embarked==\"S\"), \"fare\"].mean()"
      ],
      "execution_count": 0,
      "outputs": []
    },
    {
      "cell_type": "code",
      "metadata": {
        "id": "HP-eygl-CuNj",
        "colab_type": "code",
        "colab": {}
      },
      "source": [
        "df[df.embarked.isna()]"
      ],
      "execution_count": 0,
      "outputs": []
    },
    {
      "cell_type": "markdown",
      "metadata": {
        "id": "5T6_XW9gC4Fy",
        "colab_type": "text"
      },
      "source": [
        "Let's look at the relationship of `embarked`, `fare` and `survived`"
      ]
    },
    {
      "cell_type": "code",
      "metadata": {
        "id": "krlafYLvkFXp",
        "colab_type": "code",
        "colab": {}
      },
      "source": [
        "df[['embarked', 'survived', 'fare']].groupby(['embarked']).mean()"
      ],
      "execution_count": 0,
      "outputs": []
    },
    {
      "cell_type": "markdown",
      "metadata": {
        "id": "iSMpL7L3kR5n",
        "colab_type": "text"
      },
      "source": [
        "We can see that passengers who embarked from `C` had the highest survival rate and highest fare. Since, the two passengers with missing value for `embarked` have fare of 80 £ and survived so we can impute the missing value as `C`"
      ]
    },
    {
      "cell_type": "code",
      "metadata": {
        "id": "3M83jXhik9De",
        "colab_type": "code",
        "colab": {}
      },
      "source": [
        "df.loc[(df.embarked.isna()), \"embarked\"] = 'C'"
      ],
      "execution_count": 0,
      "outputs": []
    },
    {
      "cell_type": "markdown",
      "metadata": {
        "id": "pzuVbL5RlaMB",
        "colab_type": "text"
      },
      "source": [
        "Now let's take care of the missing values in `age`. Let's see age distribution first"
      ]
    },
    {
      "cell_type": "code",
      "metadata": {
        "id": "iWq9q0HDlmH6",
        "colab_type": "code",
        "colab": {}
      },
      "source": [
        "df.age.plot(kind='hist', edgecolor='black')"
      ],
      "execution_count": 0,
      "outputs": []
    },
    {
      "cell_type": "markdown",
      "metadata": {
        "id": "7al60KgA-gM2",
        "colab_type": "text"
      },
      "source": [
        "### Using seaborn to create visualizations\n",
        "\n",
        "Let's see similar plot created using `seaborn` library"
      ]
    },
    {
      "cell_type": "code",
      "metadata": {
        "id": "-cujTRt1-m-X",
        "colab_type": "code",
        "colab": {}
      },
      "source": [
        "sns.distplot(df.age[~df.age.isna()])"
      ],
      "execution_count": 0,
      "outputs": []
    },
    {
      "cell_type": "markdown",
      "metadata": {
        "id": "WkOvK01JoDA6",
        "colab_type": "text"
      },
      "source": [
        "Age can be predicted based of `title` and `sex` of existing customers and imputing the median age value. Let's first create a scatter plot to see the relationship"
      ]
    },
    {
      "cell_type": "code",
      "metadata": {
        "id": "6wTWlwIzoyHk",
        "colab_type": "code",
        "colab": {}
      },
      "source": [
        "labels = df.title.unique()\n",
        "p = sns.scatterplot(x=\"title\", y=\"age\", hue=\"sex\", data=df)\n",
        "p.set_xticklabels(labels, rotation=45, horizontalalignment='right')"
      ],
      "execution_count": 0,
      "outputs": []
    },
    {
      "cell_type": "markdown",
      "metadata": {
        "id": "IlB6PzZ3RqhG",
        "colab_type": "text"
      },
      "source": [
        "We see that there is a clear relationship between `age` and the combination of `sex`, `title`. Let's see this relationship using a `pivot table`."
      ]
    },
    {
      "cell_type": "code",
      "metadata": {
        "id": "fCpOri-M4hFe",
        "colab_type": "code",
        "colab": {}
      },
      "source": [
        "age_pivot_table = df.pivot_table(index=['sex', 'title'], values=['age'], aggfunc='median')\n",
        "print(age_pivot_table)"
      ],
      "execution_count": 0,
      "outputs": []
    },
    {
      "cell_type": "markdown",
      "metadata": {
        "id": "ZufvAaQ94j0l",
        "colab_type": "text"
      },
      "source": [
        "### Merging Dataframes\n",
        "\n",
        "Now there are 2 ways we can impute the missing values in the `age` column - \n",
        "1. Write a long if else loop to impte the values.\n",
        "2. Use `merge` operation to do it more effectively"
      ]
    },
    {
      "cell_type": "code",
      "metadata": {
        "id": "ye3CxWAJAi7S",
        "colab_type": "code",
        "colab": {}
      },
      "source": [
        "df_age_imputed = df[df.age.isna()].drop(columns='age').merge(age_pivot_table.reset_index(), on=['sex', 'title'], how='left')\n",
        "print(df_age_imputed.shape)\n",
        "df_age_imputed.head()\n"
      ],
      "execution_count": 0,
      "outputs": []
    },
    {
      "cell_type": "code",
      "metadata": {
        "id": "5Tu1Dxw2D8wW",
        "colab_type": "code",
        "colab": {}
      },
      "source": [
        "df = pd.concat([df[~df.age.isna()], df_age_imputed], ignore_index=True, sort=False)"
      ],
      "execution_count": 0,
      "outputs": []
    },
    {
      "cell_type": "markdown",
      "metadata": {
        "id": "ZtA4ef92AuE-",
        "colab_type": "text"
      },
      "source": [
        "Now let's look at the `age` distribution after imputation"
      ]
    },
    {
      "cell_type": "code",
      "metadata": {
        "id": "Hwrv4cPqBzrE",
        "colab_type": "code",
        "colab": {}
      },
      "source": [
        "df[df.age.isna()].shape"
      ],
      "execution_count": 0,
      "outputs": []
    },
    {
      "cell_type": "code",
      "metadata": {
        "id": "kmBPQhWMBtJg",
        "colab_type": "code",
        "colab": {}
      },
      "source": [
        "df.age.plot(kind='hist', edgecolor='black')"
      ],
      "execution_count": 0,
      "outputs": []
    },
    {
      "cell_type": "code",
      "metadata": {
        "id": "GYeh6wYlByVX",
        "colab_type": "code",
        "colab": {}
      },
      "source": [
        "sns.distplot(df.age)"
      ],
      "execution_count": 0,
      "outputs": []
    },
    {
      "cell_type": "markdown",
      "metadata": {
        "id": "-vfaDlPaE9-S",
        "colab_type": "text"
      },
      "source": [
        "### Convert objects to numeric\n",
        "\n",
        "Most machine learning libraries in python require that the columns/features used are numeric. Let's see the data types of our data."
      ]
    },
    {
      "cell_type": "code",
      "metadata": {
        "id": "fErm_LyZFbYK",
        "colab_type": "code",
        "colab": {}
      },
      "source": [
        "df.dtypes"
      ],
      "execution_count": 0,
      "outputs": []
    },
    {
      "cell_type": "markdown",
      "metadata": {
        "id": "UZK4nNVGFca8",
        "colab_type": "text"
      },
      "source": [
        "We can see that `sex`, `embarked`, `title`are categorical values. \n",
        "\n",
        "Note: pandas assumes that string are also object.\n",
        "\n",
        "pandas provides a function to convert categorical variable into dummy/indicator variables"
      ]
    },
    {
      "cell_type": "code",
      "metadata": {
        "id": "Zd-aqf8yGexR",
        "colab_type": "code",
        "colab": {}
      },
      "source": [
        "pd.get_dummies(df).head() # by default pandas converts all string/categorical columns to dummy columns. So we should be careful when converting categorical columns to dummy columns."
      ],
      "execution_count": 0,
      "outputs": []
    },
    {
      "cell_type": "code",
      "metadata": {
        "id": "zfhHagb9H5a-",
        "colab_type": "code",
        "colab": {}
      },
      "source": [
        "df = pd.get_dummies(df, columns=['sex', 'embarked', 'title'], drop_first=True)\n",
        "## if we have missing values in our dataset and instead of imputing it we can assign a new dummy level for the same. Example: title_NA\n",
        "## drop_first = True drops the first level. This is sometimes required to maintain linear independence assumption in linear regression. "
      ],
      "execution_count": 0,
      "outputs": []
    },
    {
      "cell_type": "markdown",
      "metadata": {
        "id": "PXEvMH4bcLkC",
        "colab_type": "text"
      },
      "source": [
        "### Saving python objects to pickle\n",
        "\n",
        "Any object in python can be pickled so that it can be saved on disk. For example it can be a list, function, dataframe or a calibrated machine learning model. Let's save the dataframe we have created to a pickle file."
      ]
    },
    {
      "cell_type": "code",
      "metadata": {
        "id": "WgM_ErFdcuB9",
        "colab_type": "code",
        "colab": {}
      },
      "source": [
        "import pickle\n",
        "\n",
        "with open(\"titanic_processed.pkl\", \"wb\") as f:\n",
        "  pickle.dump(df, f)"
      ],
      "execution_count": 0,
      "outputs": []
    },
    {
      "cell_type": "markdown",
      "metadata": {
        "id": "zhy5tx-Fd3qs",
        "colab_type": "text"
      },
      "source": [
        "### Additional Resources\n",
        "\n",
        "https://pandas.pydata.org/pandas-docs/stable/index.html"
      ]
    }
  ]
}