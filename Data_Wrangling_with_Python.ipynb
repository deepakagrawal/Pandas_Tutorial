{
  "nbformat": 4,
  "nbformat_minor": 0,
  "metadata": {
    "colab": {
      "name": "Data Wrangling with Python",
      "version": "0.3.2",
      "provenance": [],
      "include_colab_link": true
    },
    "kernelspec": {
      "name": "python3",
      "display_name": "Python 3"
    }
  },
  "cells": [
    {
      "cell_type": "markdown",
      "metadata": {
        "id": "view-in-github",
        "colab_type": "text"
      },
      "source": [
        "<a href=\"https://colab.research.google.com/github/deepakagrawal/Pandas_Tutorial/blob/master/Data_Wrangling_with_Python.ipynb\" target=\"_parent\"><img src=\"https://colab.research.google.com/assets/colab-badge.svg\" alt=\"Open In Colab\"/></a>"
      ]
    },
    {
      "cell_type": "markdown",
      "metadata": {
        "id": "VAtz2aAvw7WJ",
        "colab_type": "text"
      },
      "source": [
        "## Python for Data Wrangling\n",
        "\n",
        "We will use Titanic Survival prediction dataset as an example. We will focus on the data preparation step for this model.\n",
        "\n",
        "Today we will cover following topics -\n",
        "\n",
        "* Reading data files into Python\n",
        "* What is a DataFrame?\n",
        "* Accessing Main componenets of DataFrame\n",
        "* How to handle `Missing values`?\n",
        "* How to add/remove columns/rows?\n",
        "* How to handle large datasets?\n",
        "* How to perform groupby/aggregation?\n",
        "* How to apply a function to columns/rows?\n",
        "* How to merge/join datasets?\n"
      ]
    },
    {
      "cell_type": "markdown",
      "metadata": {
        "id": "ARA0-wAK16Ik",
        "colab_type": "text"
      },
      "source": [
        "Titanic dataset provides information on the fate of passengers on the Titanic, summarized according to economic status (class), sex, age and survival. \n",
        "\n",
        "Let's start by importing some of the libraries we know we will need. \n",
        "\n",
        "* `pandas` -  This is the most important library for data wrangling in python\n",
        "* `numpy` - Provides helpful mathematical functions\n",
        "* `seaborn` - for creating plots and visualizing trends in data"
      ]
    },
    {
      "cell_type": "code",
      "metadata": {
        "id": "keFasruc57FA",
        "colab_type": "code",
        "colab": {}
      },
      "source": [
        "import pandas as pd\n",
        "import numpy as np\n",
        "import seaborn as sns"
      ],
      "execution_count": 0,
      "outputs": []
    },
    {
      "cell_type": "markdown",
      "metadata": {
        "id": "cp37OGXiAZVM",
        "colab_type": "text"
      },
      "source": [
        "#### Use pandas to read the csv into the dataframe"
      ]
    },
    {
      "cell_type": "code",
      "metadata": {
        "id": "v_1AEenPApEP",
        "colab_type": "code",
        "colab": {}
      },
      "source": [
        "df = pd.read_excel('http://biostat.mc.vanderbilt.edu/wiki/pub/Main/DataSets/titanic3.xls')"
      ],
      "execution_count": 0,
      "outputs": []
    },
    {
      "cell_type": "markdown",
      "metadata": {
        "id": "g_QFuLvBBE93",
        "colab_type": "text"
      },
      "source": [
        "Let's take a peek at the dataset and see what does the data look like."
      ]
    },
    {
      "cell_type": "code",
      "metadata": {
        "id": "Onobs9faMjY5",
        "colab_type": "code",
        "outputId": "40a2f79c-6ed3-447b-ce0c-e7693ff36cdd",
        "colab": {
          "base_uri": "https://localhost:8080/",
          "height": 34
        }
      },
      "source": [
        "df.shape"
      ],
      "execution_count": 0,
      "outputs": [
        {
          "output_type": "execute_result",
          "data": {
            "text/plain": [
              "(1309, 14)"
            ]
          },
          "metadata": {
            "tags": []
          },
          "execution_count": 28
        }
      ]
    },
    {
      "cell_type": "code",
      "metadata": {
        "id": "chUEbEVMBXHv",
        "colab_type": "code",
        "outputId": "5018b565-9774-41f2-fcdf-e45c56d7919d",
        "colab": {
          "base_uri": "https://localhost:8080/",
          "height": 195
        }
      },
      "source": [
        "df.head()"
      ],
      "execution_count": 0,
      "outputs": [
        {
          "output_type": "execute_result",
          "data": {
            "text/html": [
              "<div>\n",
              "<style scoped>\n",
              "    .dataframe tbody tr th:only-of-type {\n",
              "        vertical-align: middle;\n",
              "    }\n",
              "\n",
              "    .dataframe tbody tr th {\n",
              "        vertical-align: top;\n",
              "    }\n",
              "\n",
              "    .dataframe thead th {\n",
              "        text-align: right;\n",
              "    }\n",
              "</style>\n",
              "<table border=\"1\" class=\"dataframe\">\n",
              "  <thead>\n",
              "    <tr style=\"text-align: right;\">\n",
              "      <th></th>\n",
              "      <th>pclass</th>\n",
              "      <th>survived</th>\n",
              "      <th>name</th>\n",
              "      <th>sex</th>\n",
              "      <th>age</th>\n",
              "      <th>sibsp</th>\n",
              "      <th>parch</th>\n",
              "      <th>ticket</th>\n",
              "      <th>fare</th>\n",
              "      <th>cabin</th>\n",
              "      <th>embarked</th>\n",
              "      <th>boat</th>\n",
              "      <th>body</th>\n",
              "      <th>home.dest</th>\n",
              "    </tr>\n",
              "  </thead>\n",
              "  <tbody>\n",
              "    <tr>\n",
              "      <th>0</th>\n",
              "      <td>1</td>\n",
              "      <td>1</td>\n",
              "      <td>Allen, Miss. Elisabeth Walton</td>\n",
              "      <td>female</td>\n",
              "      <td>29.0000</td>\n",
              "      <td>0</td>\n",
              "      <td>0</td>\n",
              "      <td>24160</td>\n",
              "      <td>211.3375</td>\n",
              "      <td>B5</td>\n",
              "      <td>S</td>\n",
              "      <td>2</td>\n",
              "      <td>NaN</td>\n",
              "      <td>St Louis, MO</td>\n",
              "    </tr>\n",
              "    <tr>\n",
              "      <th>1</th>\n",
              "      <td>1</td>\n",
              "      <td>1</td>\n",
              "      <td>Allison, Master. Hudson Trevor</td>\n",
              "      <td>male</td>\n",
              "      <td>0.9167</td>\n",
              "      <td>1</td>\n",
              "      <td>2</td>\n",
              "      <td>113781</td>\n",
              "      <td>151.5500</td>\n",
              "      <td>C22 C26</td>\n",
              "      <td>S</td>\n",
              "      <td>11</td>\n",
              "      <td>NaN</td>\n",
              "      <td>Montreal, PQ / Chesterville, ON</td>\n",
              "    </tr>\n",
              "    <tr>\n",
              "      <th>2</th>\n",
              "      <td>1</td>\n",
              "      <td>0</td>\n",
              "      <td>Allison, Miss. Helen Loraine</td>\n",
              "      <td>female</td>\n",
              "      <td>2.0000</td>\n",
              "      <td>1</td>\n",
              "      <td>2</td>\n",
              "      <td>113781</td>\n",
              "      <td>151.5500</td>\n",
              "      <td>C22 C26</td>\n",
              "      <td>S</td>\n",
              "      <td>NaN</td>\n",
              "      <td>NaN</td>\n",
              "      <td>Montreal, PQ / Chesterville, ON</td>\n",
              "    </tr>\n",
              "    <tr>\n",
              "      <th>3</th>\n",
              "      <td>1</td>\n",
              "      <td>0</td>\n",
              "      <td>Allison, Mr. Hudson Joshua Creighton</td>\n",
              "      <td>male</td>\n",
              "      <td>30.0000</td>\n",
              "      <td>1</td>\n",
              "      <td>2</td>\n",
              "      <td>113781</td>\n",
              "      <td>151.5500</td>\n",
              "      <td>C22 C26</td>\n",
              "      <td>S</td>\n",
              "      <td>NaN</td>\n",
              "      <td>135.0</td>\n",
              "      <td>Montreal, PQ / Chesterville, ON</td>\n",
              "    </tr>\n",
              "    <tr>\n",
              "      <th>4</th>\n",
              "      <td>1</td>\n",
              "      <td>0</td>\n",
              "      <td>Allison, Mrs. Hudson J C (Bessie Waldo Daniels)</td>\n",
              "      <td>female</td>\n",
              "      <td>25.0000</td>\n",
              "      <td>1</td>\n",
              "      <td>2</td>\n",
              "      <td>113781</td>\n",
              "      <td>151.5500</td>\n",
              "      <td>C22 C26</td>\n",
              "      <td>S</td>\n",
              "      <td>NaN</td>\n",
              "      <td>NaN</td>\n",
              "      <td>Montreal, PQ / Chesterville, ON</td>\n",
              "    </tr>\n",
              "  </tbody>\n",
              "</table>\n",
              "</div>"
            ],
            "text/plain": [
              "   pclass  survived  ...   body                        home.dest\n",
              "0       1         1  ...    NaN                     St Louis, MO\n",
              "1       1         1  ...    NaN  Montreal, PQ / Chesterville, ON\n",
              "2       1         0  ...    NaN  Montreal, PQ / Chesterville, ON\n",
              "3       1         0  ...  135.0  Montreal, PQ / Chesterville, ON\n",
              "4       1         0  ...    NaN  Montreal, PQ / Chesterville, ON\n",
              "\n",
              "[5 rows x 14 columns]"
            ]
          },
          "metadata": {
            "tags": []
          },
          "execution_count": 29
        }
      ]
    },
    {
      "cell_type": "markdown",
      "metadata": {
        "id": "NF3Emhu7BbIp",
        "colab_type": "text"
      },
      "source": [
        "We see that each row of this dataset represent a single passenger. The definition of the columns is given below\n",
        "\n",
        "| Column name | Definition |\n",
        "|------------------------|-----------------|\n",
        "|pclass | Class of Travel (1=1st; 2=2nd; 3=3rd)|\n",
        "|survived | Survived or Not (0= No; 1=Yes)|\n",
        "|name | Passenger Name |\n",
        "|sex | Genger of the passenger|\n",
        "| age | Age of the passenger|\n",
        "| sibsb| Number of Sibling/Spouse aboard|\n",
        "| parch | Number of Parent/Child aboard|\n",
        "|fare | The fare which passenger paid for his/her ticket (British Pound)|\n",
        "|cabin| The cabin which the passenger booked|\n",
        "|embarked| The port in which a passenger has embarked. C - Cherbourg, S - Southampton, Q = Queenstown|\n",
        "|boat| Lifeboat (if survived) |\n",
        "|body | Body number (if did not survive and body was recovered)|\n",
        "|home.dest|Home/Destination|\n",
        "\n"
      ]
    },
    {
      "cell_type": "markdown",
      "metadata": {
        "id": "pS7ofRKpGQAx",
        "colab_type": "text"
      },
      "source": [
        "Our task is to predict whether the passenger survived or not. So the target column is **`Survived`**. Before we even start building the model we need to do some exploratory analysis to see which features might contribute to a passenger surviving or not."
      ]
    },
    {
      "cell_type": "markdown",
      "metadata": {
        "id": "G1vO8q2S6p7l",
        "colab_type": "text"
      },
      "source": [
        "Let's look at the data types of these columns. We use `DataFrame.info` method to print a concise summary of a DataFrame. We can print the column types, number of missing values and memory usage with this command"
      ]
    },
    {
      "cell_type": "code",
      "metadata": {
        "id": "GX7k9fmkGc-m",
        "colab_type": "code",
        "outputId": "f440be89-0fb4-420f-a35b-4af497e40e94",
        "colab": {
          "base_uri": "https://localhost:8080/",
          "height": 336
        }
      },
      "source": [
        "df.info(memory_usage=True) # This prints a concise summary of a DataFrame."
      ],
      "execution_count": 0,
      "outputs": [
        {
          "output_type": "stream",
          "text": [
            "<class 'pandas.core.frame.DataFrame'>\n",
            "RangeIndex: 1309 entries, 0 to 1308\n",
            "Data columns (total 14 columns):\n",
            "pclass       1309 non-null int64\n",
            "survived     1309 non-null int64\n",
            "name         1309 non-null object\n",
            "sex          1309 non-null object\n",
            "age          1046 non-null float64\n",
            "sibsp        1309 non-null int64\n",
            "parch        1309 non-null int64\n",
            "ticket       1309 non-null object\n",
            "fare         1308 non-null float64\n",
            "cabin        295 non-null object\n",
            "embarked     1307 non-null object\n",
            "boat         486 non-null object\n",
            "body         121 non-null float64\n",
            "home.dest    745 non-null object\n",
            "dtypes: float64(3), int64(4), object(7)\n",
            "memory usage: 143.2+ KB\n"
          ],
          "name": "stdout"
        }
      ]
    },
    {
      "cell_type": "markdown",
      "metadata": {
        "id": "y0FCObh561A5",
        "colab_type": "text"
      },
      "source": [
        "Above results shows us that \n",
        "\n",
        "1. Total 1309 rows and 14 columns in the DataFrame.\n",
        "2. There are 4 columns with int64 entries, 3 columns with float64 and 7 columns are string or other objects\n",
        "3. The total memory used by this dataframe is ~143 KB"
      ]
    },
    {
      "cell_type": "markdown",
      "metadata": {
        "id": "874iqSfx_hsf",
        "colab_type": "text"
      },
      "source": [
        "Now let's look at the summary of the dataset to see some simple statistics"
      ]
    },
    {
      "cell_type": "code",
      "metadata": {
        "id": "YJAMl0yu_ryk",
        "colab_type": "code",
        "outputId": "b956bbd2-260d-4485-912f-cb52ae5505c4",
        "colab": {
          "base_uri": "https://localhost:8080/",
          "height": 373
        }
      },
      "source": [
        "df.describe(include='all')"
      ],
      "execution_count": 0,
      "outputs": [
        {
          "output_type": "execute_result",
          "data": {
            "text/html": [
              "<div>\n",
              "<style scoped>\n",
              "    .dataframe tbody tr th:only-of-type {\n",
              "        vertical-align: middle;\n",
              "    }\n",
              "\n",
              "    .dataframe tbody tr th {\n",
              "        vertical-align: top;\n",
              "    }\n",
              "\n",
              "    .dataframe thead th {\n",
              "        text-align: right;\n",
              "    }\n",
              "</style>\n",
              "<table border=\"1\" class=\"dataframe\">\n",
              "  <thead>\n",
              "    <tr style=\"text-align: right;\">\n",
              "      <th></th>\n",
              "      <th>pclass</th>\n",
              "      <th>survived</th>\n",
              "      <th>name</th>\n",
              "      <th>sex</th>\n",
              "      <th>age</th>\n",
              "      <th>sibsp</th>\n",
              "      <th>parch</th>\n",
              "      <th>ticket</th>\n",
              "      <th>fare</th>\n",
              "      <th>cabin</th>\n",
              "      <th>embarked</th>\n",
              "      <th>boat</th>\n",
              "      <th>body</th>\n",
              "      <th>home.dest</th>\n",
              "    </tr>\n",
              "  </thead>\n",
              "  <tbody>\n",
              "    <tr>\n",
              "      <th>count</th>\n",
              "      <td>1309.000000</td>\n",
              "      <td>1309.000000</td>\n",
              "      <td>1309</td>\n",
              "      <td>1309</td>\n",
              "      <td>1046.000000</td>\n",
              "      <td>1309.000000</td>\n",
              "      <td>1309.000000</td>\n",
              "      <td>1309</td>\n",
              "      <td>1308.000000</td>\n",
              "      <td>295</td>\n",
              "      <td>1307</td>\n",
              "      <td>486</td>\n",
              "      <td>121.000000</td>\n",
              "      <td>745</td>\n",
              "    </tr>\n",
              "    <tr>\n",
              "      <th>unique</th>\n",
              "      <td>NaN</td>\n",
              "      <td>NaN</td>\n",
              "      <td>1307</td>\n",
              "      <td>2</td>\n",
              "      <td>NaN</td>\n",
              "      <td>NaN</td>\n",
              "      <td>NaN</td>\n",
              "      <td>939</td>\n",
              "      <td>NaN</td>\n",
              "      <td>186</td>\n",
              "      <td>3</td>\n",
              "      <td>28</td>\n",
              "      <td>NaN</td>\n",
              "      <td>369</td>\n",
              "    </tr>\n",
              "    <tr>\n",
              "      <th>top</th>\n",
              "      <td>NaN</td>\n",
              "      <td>NaN</td>\n",
              "      <td>Kelly, Mr. James</td>\n",
              "      <td>male</td>\n",
              "      <td>NaN</td>\n",
              "      <td>NaN</td>\n",
              "      <td>NaN</td>\n",
              "      <td>CA. 2343</td>\n",
              "      <td>NaN</td>\n",
              "      <td>C23 C25 C27</td>\n",
              "      <td>S</td>\n",
              "      <td>13</td>\n",
              "      <td>NaN</td>\n",
              "      <td>New York, NY</td>\n",
              "    </tr>\n",
              "    <tr>\n",
              "      <th>freq</th>\n",
              "      <td>NaN</td>\n",
              "      <td>NaN</td>\n",
              "      <td>2</td>\n",
              "      <td>843</td>\n",
              "      <td>NaN</td>\n",
              "      <td>NaN</td>\n",
              "      <td>NaN</td>\n",
              "      <td>11</td>\n",
              "      <td>NaN</td>\n",
              "      <td>6</td>\n",
              "      <td>914</td>\n",
              "      <td>39</td>\n",
              "      <td>NaN</td>\n",
              "      <td>64</td>\n",
              "    </tr>\n",
              "    <tr>\n",
              "      <th>mean</th>\n",
              "      <td>2.294882</td>\n",
              "      <td>0.381971</td>\n",
              "      <td>NaN</td>\n",
              "      <td>NaN</td>\n",
              "      <td>29.881135</td>\n",
              "      <td>0.498854</td>\n",
              "      <td>0.385027</td>\n",
              "      <td>NaN</td>\n",
              "      <td>33.295479</td>\n",
              "      <td>NaN</td>\n",
              "      <td>NaN</td>\n",
              "      <td>NaN</td>\n",
              "      <td>160.809917</td>\n",
              "      <td>NaN</td>\n",
              "    </tr>\n",
              "    <tr>\n",
              "      <th>std</th>\n",
              "      <td>0.837836</td>\n",
              "      <td>0.486055</td>\n",
              "      <td>NaN</td>\n",
              "      <td>NaN</td>\n",
              "      <td>14.413500</td>\n",
              "      <td>1.041658</td>\n",
              "      <td>0.865560</td>\n",
              "      <td>NaN</td>\n",
              "      <td>51.758668</td>\n",
              "      <td>NaN</td>\n",
              "      <td>NaN</td>\n",
              "      <td>NaN</td>\n",
              "      <td>97.696922</td>\n",
              "      <td>NaN</td>\n",
              "    </tr>\n",
              "    <tr>\n",
              "      <th>min</th>\n",
              "      <td>1.000000</td>\n",
              "      <td>0.000000</td>\n",
              "      <td>NaN</td>\n",
              "      <td>NaN</td>\n",
              "      <td>0.166700</td>\n",
              "      <td>0.000000</td>\n",
              "      <td>0.000000</td>\n",
              "      <td>NaN</td>\n",
              "      <td>0.000000</td>\n",
              "      <td>NaN</td>\n",
              "      <td>NaN</td>\n",
              "      <td>NaN</td>\n",
              "      <td>1.000000</td>\n",
              "      <td>NaN</td>\n",
              "    </tr>\n",
              "    <tr>\n",
              "      <th>25%</th>\n",
              "      <td>2.000000</td>\n",
              "      <td>0.000000</td>\n",
              "      <td>NaN</td>\n",
              "      <td>NaN</td>\n",
              "      <td>21.000000</td>\n",
              "      <td>0.000000</td>\n",
              "      <td>0.000000</td>\n",
              "      <td>NaN</td>\n",
              "      <td>7.895800</td>\n",
              "      <td>NaN</td>\n",
              "      <td>NaN</td>\n",
              "      <td>NaN</td>\n",
              "      <td>72.000000</td>\n",
              "      <td>NaN</td>\n",
              "    </tr>\n",
              "    <tr>\n",
              "      <th>50%</th>\n",
              "      <td>3.000000</td>\n",
              "      <td>0.000000</td>\n",
              "      <td>NaN</td>\n",
              "      <td>NaN</td>\n",
              "      <td>28.000000</td>\n",
              "      <td>0.000000</td>\n",
              "      <td>0.000000</td>\n",
              "      <td>NaN</td>\n",
              "      <td>14.454200</td>\n",
              "      <td>NaN</td>\n",
              "      <td>NaN</td>\n",
              "      <td>NaN</td>\n",
              "      <td>155.000000</td>\n",
              "      <td>NaN</td>\n",
              "    </tr>\n",
              "    <tr>\n",
              "      <th>75%</th>\n",
              "      <td>3.000000</td>\n",
              "      <td>1.000000</td>\n",
              "      <td>NaN</td>\n",
              "      <td>NaN</td>\n",
              "      <td>39.000000</td>\n",
              "      <td>1.000000</td>\n",
              "      <td>0.000000</td>\n",
              "      <td>NaN</td>\n",
              "      <td>31.275000</td>\n",
              "      <td>NaN</td>\n",
              "      <td>NaN</td>\n",
              "      <td>NaN</td>\n",
              "      <td>256.000000</td>\n",
              "      <td>NaN</td>\n",
              "    </tr>\n",
              "    <tr>\n",
              "      <th>max</th>\n",
              "      <td>3.000000</td>\n",
              "      <td>1.000000</td>\n",
              "      <td>NaN</td>\n",
              "      <td>NaN</td>\n",
              "      <td>80.000000</td>\n",
              "      <td>8.000000</td>\n",
              "      <td>9.000000</td>\n",
              "      <td>NaN</td>\n",
              "      <td>512.329200</td>\n",
              "      <td>NaN</td>\n",
              "      <td>NaN</td>\n",
              "      <td>NaN</td>\n",
              "      <td>328.000000</td>\n",
              "      <td>NaN</td>\n",
              "    </tr>\n",
              "  </tbody>\n",
              "</table>\n",
              "</div>"
            ],
            "text/plain": [
              "             pclass     survived  ...        body     home.dest\n",
              "count   1309.000000  1309.000000  ...  121.000000           745\n",
              "unique          NaN          NaN  ...         NaN           369\n",
              "top             NaN          NaN  ...         NaN  New York, NY\n",
              "freq            NaN          NaN  ...         NaN            64\n",
              "mean       2.294882     0.381971  ...  160.809917           NaN\n",
              "std        0.837836     0.486055  ...   97.696922           NaN\n",
              "min        1.000000     0.000000  ...    1.000000           NaN\n",
              "25%        2.000000     0.000000  ...   72.000000           NaN\n",
              "50%        3.000000     0.000000  ...  155.000000           NaN\n",
              "75%        3.000000     1.000000  ...  256.000000           NaN\n",
              "max        3.000000     1.000000  ...  328.000000           NaN\n",
              "\n",
              "[11 rows x 14 columns]"
            ]
          },
          "metadata": {
            "tags": []
          },
          "execution_count": 31
        }
      ]
    },
    {
      "cell_type": "markdown",
      "metadata": {
        "id": "KHbwQlnwAEsn",
        "colab_type": "text"
      },
      "source": [
        "From above results we can see that \n",
        "\n",
        "1. `pclass` column has minimum 1 and maximum 3.\n",
        "2. `survived` column has only minimum 0 and maximum 1. \n",
        "3. There are 1307 unique names. And we see that freq = 2. That means two passengers have multiple records\n",
        "4. There are two values for `sex`. And majority are males (843) rest should be female (466)\n",
        "5. Youngest person Aboard is 0.16 years old and oldest person is 80 years old.\n",
        "6. The minimum number of Siblings/Sposes aboard are 0 and maximum are 8\n",
        "7. The minimum number of Parents/Children aboard are 0 and maximum are 9\n",
        "8. Several passengers were on the same ticket\n",
        "9. The minimum Fare paid was 0 and maximum paid was 512.33\n",
        "10. There are 186 unique cabins\n",
        "11. There are 3 ports the passengers departed from. Contains 2 missing values\n",
        "12. Total of 486 boats were used\n",
        "13. Total of 182 bodies were recovered\n",
        "14. Total of 745 destinations were registered"
      ]
    },
    {
      "cell_type": "markdown",
      "metadata": {
        "id": "AeEWG1OX7QV6",
        "colab_type": "text"
      },
      "source": [
        "Let's look at what's happening with the duplicate names."
      ]
    },
    {
      "cell_type": "code",
      "metadata": {
        "id": "EChkGvGN7aNV",
        "colab_type": "code",
        "outputId": "cafe7bb3-4105-4979-a3e4-a1fee0250d5c",
        "colab": {
          "base_uri": "https://localhost:8080/",
          "height": 166
        }
      },
      "source": [
        "df[df.name.isin(df.name[df.name.duplicated()])]"
      ],
      "execution_count": 0,
      "outputs": [
        {
          "output_type": "execute_result",
          "data": {
            "text/html": [
              "<div>\n",
              "<style scoped>\n",
              "    .dataframe tbody tr th:only-of-type {\n",
              "        vertical-align: middle;\n",
              "    }\n",
              "\n",
              "    .dataframe tbody tr th {\n",
              "        vertical-align: top;\n",
              "    }\n",
              "\n",
              "    .dataframe thead th {\n",
              "        text-align: right;\n",
              "    }\n",
              "</style>\n",
              "<table border=\"1\" class=\"dataframe\">\n",
              "  <thead>\n",
              "    <tr style=\"text-align: right;\">\n",
              "      <th></th>\n",
              "      <th>pclass</th>\n",
              "      <th>survived</th>\n",
              "      <th>name</th>\n",
              "      <th>sex</th>\n",
              "      <th>age</th>\n",
              "      <th>sibsp</th>\n",
              "      <th>parch</th>\n",
              "      <th>ticket</th>\n",
              "      <th>fare</th>\n",
              "      <th>cabin</th>\n",
              "      <th>embarked</th>\n",
              "      <th>boat</th>\n",
              "      <th>body</th>\n",
              "      <th>home.dest</th>\n",
              "    </tr>\n",
              "  </thead>\n",
              "  <tbody>\n",
              "    <tr>\n",
              "      <th>725</th>\n",
              "      <td>3</td>\n",
              "      <td>1</td>\n",
              "      <td>Connolly, Miss. Kate</td>\n",
              "      <td>female</td>\n",
              "      <td>22.0</td>\n",
              "      <td>0</td>\n",
              "      <td>0</td>\n",
              "      <td>370373</td>\n",
              "      <td>7.7500</td>\n",
              "      <td>NaN</td>\n",
              "      <td>Q</td>\n",
              "      <td>13</td>\n",
              "      <td>NaN</td>\n",
              "      <td>Ireland</td>\n",
              "    </tr>\n",
              "    <tr>\n",
              "      <th>726</th>\n",
              "      <td>3</td>\n",
              "      <td>0</td>\n",
              "      <td>Connolly, Miss. Kate</td>\n",
              "      <td>female</td>\n",
              "      <td>30.0</td>\n",
              "      <td>0</td>\n",
              "      <td>0</td>\n",
              "      <td>330972</td>\n",
              "      <td>7.6292</td>\n",
              "      <td>NaN</td>\n",
              "      <td>Q</td>\n",
              "      <td>NaN</td>\n",
              "      <td>NaN</td>\n",
              "      <td>Ireland</td>\n",
              "    </tr>\n",
              "    <tr>\n",
              "      <th>924</th>\n",
              "      <td>3</td>\n",
              "      <td>0</td>\n",
              "      <td>Kelly, Mr. James</td>\n",
              "      <td>male</td>\n",
              "      <td>34.5</td>\n",
              "      <td>0</td>\n",
              "      <td>0</td>\n",
              "      <td>330911</td>\n",
              "      <td>7.8292</td>\n",
              "      <td>NaN</td>\n",
              "      <td>Q</td>\n",
              "      <td>NaN</td>\n",
              "      <td>70.0</td>\n",
              "      <td>NaN</td>\n",
              "    </tr>\n",
              "    <tr>\n",
              "      <th>925</th>\n",
              "      <td>3</td>\n",
              "      <td>0</td>\n",
              "      <td>Kelly, Mr. James</td>\n",
              "      <td>male</td>\n",
              "      <td>44.0</td>\n",
              "      <td>0</td>\n",
              "      <td>0</td>\n",
              "      <td>363592</td>\n",
              "      <td>8.0500</td>\n",
              "      <td>NaN</td>\n",
              "      <td>S</td>\n",
              "      <td>NaN</td>\n",
              "      <td>NaN</td>\n",
              "      <td>NaN</td>\n",
              "    </tr>\n",
              "  </tbody>\n",
              "</table>\n",
              "</div>"
            ],
            "text/plain": [
              "     pclass  survived                  name  ... boat  body  home.dest\n",
              "725       3         1  Connolly, Miss. Kate  ...   13   NaN    Ireland\n",
              "726       3         0  Connolly, Miss. Kate  ...  NaN   NaN    Ireland\n",
              "924       3         0      Kelly, Mr. James  ...  NaN  70.0        NaN\n",
              "925       3         0      Kelly, Mr. James  ...  NaN   NaN        NaN\n",
              "\n",
              "[4 rows x 14 columns]"
            ]
          },
          "metadata": {
            "tags": []
          },
          "execution_count": 42
        }
      ]
    },
    {
      "cell_type": "markdown",
      "metadata": {
        "id": "G3S-yFIC8had",
        "colab_type": "text"
      },
      "source": [
        "Since they paid different fare and their ages are different. We can assume that these are different passengers"
      ]
    },
    {
      "cell_type": "markdown",
      "metadata": {
        "id": "b6SJwBxsI8Jd",
        "colab_type": "text"
      },
      "source": [
        "#### Reducing Memory usage\n",
        "\n",
        "Now let's see the memory usage for individual column. \n",
        "\n",
        "**Note:** This is useful if you have a large dataset and not enough RAM to handle it."
      ]
    },
    {
      "cell_type": "code",
      "metadata": {
        "id": "MoBiFdxE8hvY",
        "colab_type": "code",
        "outputId": "de43ed6c-0516-46f2-e042-3e4f1858af4c",
        "colab": {
          "base_uri": "https://localhost:8080/",
          "height": 269
        }
      },
      "source": [
        "df.memory_usage(index=False)"
      ],
      "execution_count": 0,
      "outputs": [
        {
          "output_type": "execute_result",
          "data": {
            "text/plain": [
              "pclass       10472\n",
              "survived     10472\n",
              "name         10472\n",
              "sex          10472\n",
              "age          10472\n",
              "sibsp        10472\n",
              "parch        10472\n",
              "ticket       10472\n",
              "fare         10472\n",
              "cabin        10472\n",
              "embarked     10472\n",
              "boat         10472\n",
              "body         10472\n",
              "home.dest    10472\n",
              "dtype: int64"
            ]
          },
          "metadata": {
            "tags": []
          },
          "execution_count": 43
        }
      ]
    },
    {
      "cell_type": "markdown",
      "metadata": {
        "id": "iuN4NDRs8mFD",
        "colab_type": "text"
      },
      "source": [
        "We can see that all of the columns are using ~10 KB memory. Let's see if we can try to reduce some memory by changing data types of some columns. From the summary results we saw that `Survived` had binary values. Let's see if we convert them to binary how much memory can we save"
      ]
    },
    {
      "cell_type": "code",
      "metadata": {
        "id": "001VSovQ82TB",
        "colab_type": "code",
        "outputId": "3cff0c5f-8fda-40e4-e09d-b9c313093253",
        "colab": {
          "base_uri": "https://localhost:8080/",
          "height": 34
        }
      },
      "source": [
        "df.survived.astype('int8').memory_usage()"
      ],
      "execution_count": 0,
      "outputs": [
        {
          "output_type": "execute_result",
          "data": {
            "text/plain": [
              "1389"
            ]
          },
          "metadata": {
            "tags": []
          },
          "execution_count": 44
        }
      ]
    },
    {
      "cell_type": "markdown",
      "metadata": {
        "id": "SoMf4F_b9BDv",
        "colab_type": "text"
      },
      "source": [
        "We can see that by converting the `Survived` column to `int8` from `int64` we reduced the memory usage to 1389 B only."
      ]
    },
    {
      "cell_type": "markdown",
      "metadata": {
        "id": "rxe9Y5NE9UBp",
        "colab_type": "text"
      },
      "source": [
        "Similarly we can convert `pclass`,  `sibsp` and `parch` columns to `int8`. We can also convert `age` and `fare` column to `float32` if we don't need age with more than 3 digits after decimal."
      ]
    },
    {
      "cell_type": "markdown",
      "metadata": {
        "id": "aZB4OlsnHygq",
        "colab_type": "text"
      },
      "source": [
        "Instead of making these changes after read the whole file. We can make these changes at the time of reading the csv file."
      ]
    },
    {
      "cell_type": "code",
      "metadata": {
        "id": "i7JDdHrEH_ho",
        "colab_type": "code",
        "colab": {}
      },
      "source": [
        "df = pd.read_excel('http://biostat.mc.vanderbilt.edu/wiki/pub/Main/DataSets/titanic3.xls', \n",
        "                 dtype={'survived': 'int8', 'pclass': 'int8', 'age':'float32', 'sibsp': 'int8', 'parch': 'int8', 'fare':'float32'})"
      ],
      "execution_count": 0,
      "outputs": []
    },
    {
      "cell_type": "code",
      "metadata": {
        "id": "QmlmIHuaIlc6",
        "colab_type": "code",
        "outputId": "eede43c8-88ee-4810-a5e5-6be4b2dfa736",
        "colab": {
          "base_uri": "https://localhost:8080/",
          "height": 269
        }
      },
      "source": [
        "df.memory_usage(index=False)"
      ],
      "execution_count": 0,
      "outputs": [
        {
          "output_type": "execute_result",
          "data": {
            "text/plain": [
              "pclass        1309\n",
              "survived      1309\n",
              "name         10472\n",
              "sex          10472\n",
              "age           5236\n",
              "sibsp         1309\n",
              "parch         1309\n",
              "ticket       10472\n",
              "fare          5236\n",
              "cabin        10472\n",
              "embarked     10472\n",
              "boat         10472\n",
              "body         10472\n",
              "home.dest    10472\n",
              "dtype: int64"
            ]
          },
          "metadata": {
            "tags": []
          },
          "execution_count": 46
        }
      ]
    },
    {
      "cell_type": "code",
      "metadata": {
        "id": "rjp1OfJaIsXD",
        "colab_type": "code",
        "outputId": "6189a3f6-bb51-4e9c-b4dc-0c7bd11d98de",
        "colab": {
          "base_uri": "https://localhost:8080/",
          "height": 336
        }
      },
      "source": [
        "df.info()"
      ],
      "execution_count": 0,
      "outputs": [
        {
          "output_type": "stream",
          "text": [
            "<class 'pandas.core.frame.DataFrame'>\n",
            "RangeIndex: 1309 entries, 0 to 1308\n",
            "Data columns (total 14 columns):\n",
            "pclass       1309 non-null int8\n",
            "survived     1309 non-null int8\n",
            "name         1309 non-null object\n",
            "sex          1309 non-null object\n",
            "age          1046 non-null float32\n",
            "sibsp        1309 non-null int8\n",
            "parch        1309 non-null int8\n",
            "ticket       1309 non-null object\n",
            "fare         1308 non-null float32\n",
            "cabin        295 non-null object\n",
            "embarked     1307 non-null object\n",
            "boat         486 non-null object\n",
            "body         121 non-null float64\n",
            "home.dest    745 non-null object\n",
            "dtypes: float32(2), float64(1), int8(4), object(7)\n",
            "memory usage: 97.2+ KB\n"
          ],
          "name": "stdout"
        }
      ]
    },
    {
      "cell_type": "markdown",
      "metadata": {
        "id": "RYit-t3QIp9O",
        "colab_type": "text"
      },
      "source": [
        "We can see that we have reduced the memory used to 97.2 KB"
      ]
    },
    {
      "cell_type": "markdown",
      "metadata": {
        "id": "VD1uDhaRnS-E",
        "colab_type": "text"
      },
      "source": [
        "We see that there are several columns with missing values. e.g. age, fare, cabin, embarked, boat, body and home.dest"
      ]
    },
    {
      "cell_type": "markdown",
      "metadata": {
        "id": "-KsCn2ffPTMs",
        "colab_type": "text"
      },
      "source": [
        "#### Creating new columns\n",
        "\n",
        "Let's create a column which has the title of the passenger. We can create this column by separating it from the `Name` column. We see that Title is always the first value"
      ]
    },
    {
      "cell_type": "code",
      "metadata": {
        "id": "bqhy4uC0Pl7R",
        "colab_type": "code",
        "outputId": "f0ae79c1-0e25-4948-ed53-ef927b8234fb",
        "colab": {
          "base_uri": "https://localhost:8080/",
          "height": 118
        }
      },
      "source": [
        "df.name.head()"
      ],
      "execution_count": 0,
      "outputs": [
        {
          "output_type": "execute_result",
          "data": {
            "text/plain": [
              "0                      Allen, Miss. Elisabeth Walton\n",
              "1                     Allison, Master. Hudson Trevor\n",
              "2                       Allison, Miss. Helen Loraine\n",
              "3               Allison, Mr. Hudson Joshua Creighton\n",
              "4    Allison, Mrs. Hudson J C (Bessie Waldo Daniels)\n",
              "Name: name, dtype: object"
            ]
          },
          "metadata": {
            "tags": []
          },
          "execution_count": 48
        }
      ]
    },
    {
      "cell_type": "code",
      "metadata": {
        "id": "nbcpPqFgPowp",
        "colab_type": "code",
        "outputId": "6fdc2d45-1d83-4867-a90b-9353cb96601d",
        "colab": {
          "base_uri": "https://localhost:8080/",
          "height": 330
        }
      },
      "source": [
        "df[['title', 'lastname', 'firstname']] = df.name.apply(lambda x: pd.Series({'title': x.split(',')[1].split('.')[0].strip(),\n",
        "                                             'lastname': x.split(',')[0].strip(),\n",
        "                                             'firstname': x.split(',')[1].split('.')[1].strip()})) # str.stip() removes all leading and trailing whitespaces\n",
        "df.head()"
      ],
      "execution_count": 0,
      "outputs": [
        {
          "output_type": "execute_result",
          "data": {
            "text/html": [
              "<div>\n",
              "<style scoped>\n",
              "    .dataframe tbody tr th:only-of-type {\n",
              "        vertical-align: middle;\n",
              "    }\n",
              "\n",
              "    .dataframe tbody tr th {\n",
              "        vertical-align: top;\n",
              "    }\n",
              "\n",
              "    .dataframe thead th {\n",
              "        text-align: right;\n",
              "    }\n",
              "</style>\n",
              "<table border=\"1\" class=\"dataframe\">\n",
              "  <thead>\n",
              "    <tr style=\"text-align: right;\">\n",
              "      <th></th>\n",
              "      <th>pclass</th>\n",
              "      <th>survived</th>\n",
              "      <th>name</th>\n",
              "      <th>sex</th>\n",
              "      <th>age</th>\n",
              "      <th>sibsp</th>\n",
              "      <th>parch</th>\n",
              "      <th>ticket</th>\n",
              "      <th>fare</th>\n",
              "      <th>cabin</th>\n",
              "      <th>embarked</th>\n",
              "      <th>boat</th>\n",
              "      <th>body</th>\n",
              "      <th>home.dest</th>\n",
              "      <th>title</th>\n",
              "      <th>lastname</th>\n",
              "      <th>firstname</th>\n",
              "    </tr>\n",
              "  </thead>\n",
              "  <tbody>\n",
              "    <tr>\n",
              "      <th>0</th>\n",
              "      <td>1</td>\n",
              "      <td>1</td>\n",
              "      <td>Allen, Miss. Elisabeth Walton</td>\n",
              "      <td>female</td>\n",
              "      <td>29.0000</td>\n",
              "      <td>0</td>\n",
              "      <td>0</td>\n",
              "      <td>24160</td>\n",
              "      <td>211.337494</td>\n",
              "      <td>B5</td>\n",
              "      <td>S</td>\n",
              "      <td>2</td>\n",
              "      <td>NaN</td>\n",
              "      <td>St Louis, MO</td>\n",
              "      <td>Miss</td>\n",
              "      <td>Allen</td>\n",
              "      <td>Elisabeth Walton</td>\n",
              "    </tr>\n",
              "    <tr>\n",
              "      <th>1</th>\n",
              "      <td>1</td>\n",
              "      <td>1</td>\n",
              "      <td>Allison, Master. Hudson Trevor</td>\n",
              "      <td>male</td>\n",
              "      <td>0.9167</td>\n",
              "      <td>1</td>\n",
              "      <td>2</td>\n",
              "      <td>113781</td>\n",
              "      <td>151.550003</td>\n",
              "      <td>C22 C26</td>\n",
              "      <td>S</td>\n",
              "      <td>11</td>\n",
              "      <td>NaN</td>\n",
              "      <td>Montreal, PQ / Chesterville, ON</td>\n",
              "      <td>Master</td>\n",
              "      <td>Allison</td>\n",
              "      <td>Hudson Trevor</td>\n",
              "    </tr>\n",
              "    <tr>\n",
              "      <th>2</th>\n",
              "      <td>1</td>\n",
              "      <td>0</td>\n",
              "      <td>Allison, Miss. Helen Loraine</td>\n",
              "      <td>female</td>\n",
              "      <td>2.0000</td>\n",
              "      <td>1</td>\n",
              "      <td>2</td>\n",
              "      <td>113781</td>\n",
              "      <td>151.550003</td>\n",
              "      <td>C22 C26</td>\n",
              "      <td>S</td>\n",
              "      <td>NaN</td>\n",
              "      <td>NaN</td>\n",
              "      <td>Montreal, PQ / Chesterville, ON</td>\n",
              "      <td>Miss</td>\n",
              "      <td>Allison</td>\n",
              "      <td>Helen Loraine</td>\n",
              "    </tr>\n",
              "    <tr>\n",
              "      <th>3</th>\n",
              "      <td>1</td>\n",
              "      <td>0</td>\n",
              "      <td>Allison, Mr. Hudson Joshua Creighton</td>\n",
              "      <td>male</td>\n",
              "      <td>30.0000</td>\n",
              "      <td>1</td>\n",
              "      <td>2</td>\n",
              "      <td>113781</td>\n",
              "      <td>151.550003</td>\n",
              "      <td>C22 C26</td>\n",
              "      <td>S</td>\n",
              "      <td>NaN</td>\n",
              "      <td>135.0</td>\n",
              "      <td>Montreal, PQ / Chesterville, ON</td>\n",
              "      <td>Mr</td>\n",
              "      <td>Allison</td>\n",
              "      <td>Hudson Joshua Creighton</td>\n",
              "    </tr>\n",
              "    <tr>\n",
              "      <th>4</th>\n",
              "      <td>1</td>\n",
              "      <td>0</td>\n",
              "      <td>Allison, Mrs. Hudson J C (Bessie Waldo Daniels)</td>\n",
              "      <td>female</td>\n",
              "      <td>25.0000</td>\n",
              "      <td>1</td>\n",
              "      <td>2</td>\n",
              "      <td>113781</td>\n",
              "      <td>151.550003</td>\n",
              "      <td>C22 C26</td>\n",
              "      <td>S</td>\n",
              "      <td>NaN</td>\n",
              "      <td>NaN</td>\n",
              "      <td>Montreal, PQ / Chesterville, ON</td>\n",
              "      <td>Mrs</td>\n",
              "      <td>Allison</td>\n",
              "      <td>Hudson J C (Bessie Waldo Daniels)</td>\n",
              "    </tr>\n",
              "  </tbody>\n",
              "</table>\n",
              "</div>"
            ],
            "text/plain": [
              "   pclass  survived  ... lastname                          firstname\n",
              "0       1         1  ...    Allen                   Elisabeth Walton\n",
              "1       1         1  ...  Allison                      Hudson Trevor\n",
              "2       1         0  ...  Allison                      Helen Loraine\n",
              "3       1         0  ...  Allison            Hudson Joshua Creighton\n",
              "4       1         0  ...  Allison  Hudson J C (Bessie Waldo Daniels)\n",
              "\n",
              "[5 rows x 17 columns]"
            ]
          },
          "metadata": {
            "tags": []
          },
          "execution_count": 49
        }
      ]
    },
    {
      "cell_type": "markdown",
      "metadata": {
        "id": "p2O7U_knoZen",
        "colab_type": "text"
      },
      "source": [
        "Now we can remove the name coulmn since we do not need it."
      ]
    },
    {
      "cell_type": "code",
      "metadata": {
        "id": "_vxom1l8of99",
        "colab_type": "code",
        "outputId": "68b879da-68cb-4fd6-d544-39764bc1287a",
        "colab": {
          "base_uri": "https://localhost:8080/",
          "height": 34
        }
      },
      "source": [
        "df.drop(columns='name', inplace=True)\n",
        "print(df.columns.tolist())"
      ],
      "execution_count": 0,
      "outputs": [
        {
          "output_type": "stream",
          "text": [
            "['pclass', 'survived', 'sex', 'age', 'sibsp', 'parch', 'ticket', 'fare', 'cabin', 'embarked', 'boat', 'body', 'home.dest', 'title', 'lastname', 'firstname']\n"
          ],
          "name": "stdout"
        }
      ]
    },
    {
      "cell_type": "markdown",
      "metadata": {
        "id": "cFMl7DHMqbjS",
        "colab_type": "text"
      },
      "source": [
        "Let's find the number of passengers based on their Titles and gender"
      ]
    },
    {
      "cell_type": "code",
      "metadata": {
        "id": "cAmEXeSGqwHM",
        "colab_type": "code",
        "outputId": "db9f1334-5c57-4b94-d1d8-b0148a6e8af9",
        "colab": {
          "base_uri": "https://localhost:8080/",
          "height": 370
        }
      },
      "source": [
        "df.groupby(['sex', 'title']).size()"
      ],
      "execution_count": 0,
      "outputs": [
        {
          "output_type": "execute_result",
          "data": {
            "text/plain": [
              "sex     title       \n",
              "female  Dona              1\n",
              "        Dr                1\n",
              "        Lady              1\n",
              "        Miss            260\n",
              "        Mlle              2\n",
              "        Mme               1\n",
              "        Mrs             197\n",
              "        Ms                2\n",
              "        the Countess      1\n",
              "male    Capt              1\n",
              "        Col               4\n",
              "        Don               1\n",
              "        Dr                7\n",
              "        Jonkheer          1\n",
              "        Major             2\n",
              "        Master           61\n",
              "        Mr              757\n",
              "        Rev               8\n",
              "        Sir               1\n",
              "dtype: int64"
            ]
          },
          "metadata": {
            "tags": []
          },
          "execution_count": 51
        }
      ]
    },
    {
      "cell_type": "markdown",
      "metadata": {
        "id": "VFrKay5NrF_a",
        "colab_type": "text"
      },
      "source": [
        "We can reassign `Mlle`, `Ms` as `Miss` and `Mme` as `Mrs`."
      ]
    },
    {
      "cell_type": "code",
      "metadata": {
        "id": "I8sJLCzZrQ0a",
        "colab_type": "code",
        "outputId": "d34123b7-6a33-4159-c454-896bf93c6a98",
        "colab": {
          "base_uri": "https://localhost:8080/",
          "height": 319
        }
      },
      "source": [
        "df.loc[df.title.isin(['Mlle', 'Ms']), 'title'] = 'Miss'\n",
        "df.loc[df.title == 'Mme', 'title'] = 'Mrs'\n",
        "df.groupby(['sex', 'title']).size()"
      ],
      "execution_count": 0,
      "outputs": [
        {
          "output_type": "execute_result",
          "data": {
            "text/plain": [
              "sex     title       \n",
              "female  Dona              1\n",
              "        Dr                1\n",
              "        Lady              1\n",
              "        Miss            264\n",
              "        Mrs             198\n",
              "        the Countess      1\n",
              "male    Capt              1\n",
              "        Col               4\n",
              "        Don               1\n",
              "        Dr                7\n",
              "        Jonkheer          1\n",
              "        Major             2\n",
              "        Master           61\n",
              "        Mr              757\n",
              "        Rev               8\n",
              "        Sir               1\n",
              "dtype: int64"
            ]
          },
          "metadata": {
            "tags": []
          },
          "execution_count": 52
        }
      ]
    },
    {
      "cell_type": "markdown",
      "metadata": {
        "id": "68ij5jFjra4E",
        "colab_type": "text"
      },
      "source": [
        "Let's look at by title what is the likelihood of surviving"
      ]
    },
    {
      "cell_type": "code",
      "metadata": {
        "id": "2WkwQyAtsZ-C",
        "colab_type": "code",
        "outputId": "895909c1-e0d4-49b0-f096-917c22bc7b91",
        "colab": {
          "base_uri": "https://localhost:8080/",
          "height": 354
        }
      },
      "source": [
        "df[[\"survived\", \"title\"]].groupby(\"title\").mean().plot(kind='bar')"
      ],
      "execution_count": 0,
      "outputs": [
        {
          "output_type": "execute_result",
          "data": {
            "text/plain": [
              "<matplotlib.axes._subplots.AxesSubplot at 0x7f4ffa553a20>"
            ]
          },
          "metadata": {
            "tags": []
          },
          "execution_count": 53
        },
        {
          "output_type": "display_data",
          "data": {
            "image/png": "[encoded data removed]",
            "text/plain": [
              "<Figure size 432x288 with 1 Axes>"
            ]
          },
          "metadata": {
            "tags": []
          }
        }
      ]
    },
    {
      "cell_type": "markdown",
      "metadata": {
        "id": "7pP4ijfBtBED",
        "colab_type": "text"
      },
      "source": [
        "We see that passengers with title `Mr` had the lowest survival rate. On the other hand Miss and Mrs had higher survival rate.\n",
        "\n",
        "Now let's look at survival rate by number of family members."
      ]
    },
    {
      "cell_type": "code",
      "metadata": {
        "id": "cHe6kEQ06o5r",
        "colab_type": "code",
        "outputId": "4d9dcc2e-6da8-4a73-a9d2-e267e91d0f7e",
        "colab": {
          "base_uri": "https://localhost:8080/",
          "height": 302
        }
      },
      "source": [
        "df[\"total_members\"] = df.sibsp + df.parch + 1\n",
        "df[[\"survived\", \"total_members\"]].groupby('total_members').mean().plot(kind='bar')"
      ],
      "execution_count": 0,
      "outputs": [
        {
          "output_type": "execute_result",
          "data": {
            "text/plain": [
              "<matplotlib.axes._subplots.AxesSubplot at 0x7f4ffac38748>"
            ]
          },
          "metadata": {
            "tags": []
          },
          "execution_count": 54
        },
        {
          "output_type": "display_data",
          "data": {
            "image/png": "[encoded data removed]",
            "text/plain": [
              "<Figure size 432x288 with 1 Axes>"
            ]
          },
          "metadata": {
            "tags": []
          }
        }
      ]
    },
    {
      "cell_type": "markdown",
      "metadata": {
        "id": "8vQ-LHAI6-rE",
        "colab_type": "text"
      },
      "source": [
        "We can see passengers with family size more than 4 or single passengers had a low survival rate compared to others.\n"
      ]
    },
    {
      "cell_type": "markdown",
      "metadata": {
        "id": "-Ifmq8zWJb42",
        "colab_type": "text"
      },
      "source": [
        "#### Missing values\n",
        "\n",
        "Let's look at the total number of missing values by each column and see how can we handle them"
      ]
    },
    {
      "cell_type": "code",
      "metadata": {
        "id": "fSvHEWItpWf-",
        "colab_type": "code",
        "outputId": "ac2de184-aced-4b56-d22e-6b9df2f6636a",
        "colab": {
          "base_uri": "https://localhost:8080/",
          "height": 302
        }
      },
      "source": [
        "df.isna().sum(axis=0)"
      ],
      "execution_count": 0,
      "outputs": [
        {
          "output_type": "execute_result",
          "data": {
            "text/plain": [
              "pclass          0\n",
              "survived        0\n",
              "sex             0\n",
              "age           263\n",
              "sibsp           0\n",
              "parch           0\n",
              "ticket          0\n",
              "fare            1\n",
              "cabin        1014\n",
              "embarked        2\n",
              "boat          823\n",
              "body         1188\n",
              "home.dest     564\n",
              "title           0\n",
              "lastname        0\n",
              "firstname       0\n",
              "dtype: int64"
            ]
          },
          "metadata": {
            "tags": []
          },
          "execution_count": 15
        }
      ]
    },
    {
      "cell_type": "markdown",
      "metadata": {
        "id": "lrNTy3zOqSSz",
        "colab_type": "text"
      },
      "source": [
        "Let's remove unnecessary columns. "
      ]
    },
    {
      "cell_type": "code",
      "metadata": {
        "id": "XgDhFU2RqMYJ",
        "colab_type": "code",
        "colab": {}
      },
      "source": [
        "df.drop(columns=['cabin', 'boat', 'body', 'home.dest'], inplace=True)"
      ],
      "execution_count": 0,
      "outputs": []
    },
    {
      "cell_type": "code",
      "metadata": {
        "id": "qFy-3Z38_Bax",
        "colab_type": "code",
        "outputId": "31004c09-64ed-4a4f-b6c5-3e29ae1e80f3",
        "colab": {
          "base_uri": "https://localhost:8080/",
          "height": 235
        }
      },
      "source": [
        "df.columns.tolist()"
      ],
      "execution_count": 0,
      "outputs": [
        {
          "output_type": "execute_result",
          "data": {
            "text/plain": [
              "['pclass',\n",
              " 'survived',\n",
              " 'sex',\n",
              " 'age',\n",
              " 'sibsp',\n",
              " 'parch',\n",
              " 'ticket',\n",
              " 'fare',\n",
              " 'embarked',\n",
              " 'title',\n",
              " 'lastname',\n",
              " 'firstname',\n",
              " 'total_members']"
            ]
          },
          "metadata": {
            "tags": []
          },
          "execution_count": 58
        }
      ]
    },
    {
      "cell_type": "markdown",
      "metadata": {
        "id": "aLxuPs7c_I4S",
        "colab_type": "text"
      },
      "source": [
        "Now let's look at the missing values. "
      ]
    },
    {
      "cell_type": "code",
      "metadata": {
        "id": "TTC0mc3i_m5L",
        "colab_type": "code",
        "outputId": "0e10f8f0-1675-41b8-bc16-818212f8c6fb",
        "colab": {
          "base_uri": "https://localhost:8080/",
          "height": 77
        }
      },
      "source": [
        "df[df.fare.isnull()]"
      ],
      "execution_count": 0,
      "outputs": [
        {
          "output_type": "execute_result",
          "data": {
            "text/html": [
              "<div>\n",
              "<style scoped>\n",
              "    .dataframe tbody tr th:only-of-type {\n",
              "        vertical-align: middle;\n",
              "    }\n",
              "\n",
              "    .dataframe tbody tr th {\n",
              "        vertical-align: top;\n",
              "    }\n",
              "\n",
              "    .dataframe thead th {\n",
              "        text-align: right;\n",
              "    }\n",
              "</style>\n",
              "<table border=\"1\" class=\"dataframe\">\n",
              "  <thead>\n",
              "    <tr style=\"text-align: right;\">\n",
              "      <th></th>\n",
              "      <th>pclass</th>\n",
              "      <th>survived</th>\n",
              "      <th>sex</th>\n",
              "      <th>age</th>\n",
              "      <th>sibsp</th>\n",
              "      <th>parch</th>\n",
              "      <th>ticket</th>\n",
              "      <th>fare</th>\n",
              "      <th>embarked</th>\n",
              "      <th>title</th>\n",
              "      <th>lastname</th>\n",
              "      <th>firstname</th>\n",
              "      <th>total_members</th>\n",
              "    </tr>\n",
              "  </thead>\n",
              "  <tbody>\n",
              "    <tr>\n",
              "      <th>1225</th>\n",
              "      <td>3</td>\n",
              "      <td>0</td>\n",
              "      <td>male</td>\n",
              "      <td>60.5</td>\n",
              "      <td>0</td>\n",
              "      <td>0</td>\n",
              "      <td>3701</td>\n",
              "      <td>NaN</td>\n",
              "      <td>S</td>\n",
              "      <td>Mr</td>\n",
              "      <td>Storey</td>\n",
              "      <td>Thomas</td>\n",
              "      <td>1</td>\n",
              "    </tr>\n",
              "  </tbody>\n",
              "</table>\n",
              "</div>"
            ],
            "text/plain": [
              "      pclass  survived   sex   age  ...  title  lastname firstname  total_members\n",
              "1225       3         0  male  60.5  ...     Mr    Storey    Thomas              1\n",
              "\n",
              "[1 rows x 13 columns]"
            ]
          },
          "metadata": {
            "tags": []
          },
          "execution_count": 59
        }
      ]
    },
    {
      "cell_type": "markdown",
      "metadata": {
        "id": "Bpw1ydox_qbK",
        "colab_type": "text"
      },
      "source": [
        "Let's try to imupte the missing fare. Let's see which columns are correlated with fare. "
      ]
    },
    {
      "cell_type": "code",
      "metadata": {
        "id": "fqgk5PmE_0Zk",
        "colab_type": "code",
        "outputId": "776b3dbc-a247-4caf-9020-c5163a1b1417",
        "colab": {
          "base_uri": "https://localhost:8080/",
          "height": 357
        }
      },
      "source": [
        "fare_by_class_embarked = df.groupby(['pclass', 'embarked'])['fare'].mean().reset_index()\n",
        "sns.pairplot(fare_by_class_embarked, y_vars=['fare'], x_vars=['pclass', 'embarked'])\n",
        "print(fare_by_class_embarked)"
      ],
      "execution_count": 0,
      "outputs": [
        {
          "output_type": "stream",
          "text": [
            "   pclass embarked        fare\n",
            "0       1        C  106.845329\n",
            "1       1        Q   90.000000\n",
            "2       1        S   72.148094\n",
            "3       2        C   23.300592\n",
            "4       2        Q   11.735114\n",
            "5       2        S   21.206921\n",
            "6       3        C   11.021624\n",
            "7       3        Q   10.390821\n",
            "8       3        S   14.435422\n"
          ],
          "name": "stdout"
        },
        {
          "output_type": "display_data",
          "data": {
            "image/png": "[encoded data removed]",
            "text/plain": [
              "<Figure size 360x180 with 2 Axes>"
            ]
          },
          "metadata": {
            "tags": []
          }
        }
      ]
    },
    {
      "cell_type": "markdown",
      "metadata": {
        "id": "Aryc6McbB9lC",
        "colab_type": "text"
      },
      "source": [
        "We see that for passengers of `pclass`=`3` who embarked from `S` the average fare was 14.43, so we can use that fare to impute the missing fare value."
      ]
    },
    {
      "cell_type": "code",
      "metadata": {
        "id": "crjI78DDCVeM",
        "colab_type": "code",
        "colab": {}
      },
      "source": [
        "df.loc[(df.fare.isnull()) & (df.pclass==3) & (df.embarked==\"S\"), \"fare\"] = df.loc[(df.pclass==3) & (df.embarked==\"S\"), \"fare\"].mean()"
      ],
      "execution_count": 0,
      "outputs": []
    },
    {
      "cell_type": "code",
      "metadata": {
        "id": "HP-eygl-CuNj",
        "colab_type": "code",
        "outputId": "5a99f8be-9b3f-47c2-f83d-22cf64cc93ad",
        "colab": {
          "base_uri": "https://localhost:8080/",
          "height": 106
        }
      },
      "source": [
        "df[df.embarked.isna()]"
      ],
      "execution_count": 0,
      "outputs": [
        {
          "output_type": "execute_result",
          "data": {
            "text/html": [
              "<div>\n",
              "<style scoped>\n",
              "    .dataframe tbody tr th:only-of-type {\n",
              "        vertical-align: middle;\n",
              "    }\n",
              "\n",
              "    .dataframe tbody tr th {\n",
              "        vertical-align: top;\n",
              "    }\n",
              "\n",
              "    .dataframe thead th {\n",
              "        text-align: right;\n",
              "    }\n",
              "</style>\n",
              "<table border=\"1\" class=\"dataframe\">\n",
              "  <thead>\n",
              "    <tr style=\"text-align: right;\">\n",
              "      <th></th>\n",
              "      <th>pclass</th>\n",
              "      <th>survived</th>\n",
              "      <th>sex</th>\n",
              "      <th>age</th>\n",
              "      <th>sibsp</th>\n",
              "      <th>parch</th>\n",
              "      <th>ticket</th>\n",
              "      <th>fare</th>\n",
              "      <th>embarked</th>\n",
              "      <th>title</th>\n",
              "      <th>lastname</th>\n",
              "      <th>firstname</th>\n",
              "      <th>total_members</th>\n",
              "    </tr>\n",
              "  </thead>\n",
              "  <tbody>\n",
              "    <tr>\n",
              "      <th>168</th>\n",
              "      <td>1</td>\n",
              "      <td>1</td>\n",
              "      <td>female</td>\n",
              "      <td>38.0</td>\n",
              "      <td>0</td>\n",
              "      <td>0</td>\n",
              "      <td>113572</td>\n",
              "      <td>80.0</td>\n",
              "      <td>NaN</td>\n",
              "      <td>Miss</td>\n",
              "      <td>Icard</td>\n",
              "      <td>Amelie</td>\n",
              "      <td>1</td>\n",
              "    </tr>\n",
              "    <tr>\n",
              "      <th>284</th>\n",
              "      <td>1</td>\n",
              "      <td>1</td>\n",
              "      <td>female</td>\n",
              "      <td>62.0</td>\n",
              "      <td>0</td>\n",
              "      <td>0</td>\n",
              "      <td>113572</td>\n",
              "      <td>80.0</td>\n",
              "      <td>NaN</td>\n",
              "      <td>Mrs</td>\n",
              "      <td>Stone</td>\n",
              "      <td>George Nelson (Martha Evelyn)</td>\n",
              "      <td>1</td>\n",
              "    </tr>\n",
              "  </tbody>\n",
              "</table>\n",
              "</div>"
            ],
            "text/plain": [
              "     pclass  survived  ...                      firstname  total_members\n",
              "168       1         1  ...                         Amelie              1\n",
              "284       1         1  ...  George Nelson (Martha Evelyn)              1\n",
              "\n",
              "[2 rows x 13 columns]"
            ]
          },
          "metadata": {
            "tags": []
          },
          "execution_count": 67
        }
      ]
    },
    {
      "cell_type": "markdown",
      "metadata": {
        "id": "5T6_XW9gC4Fy",
        "colab_type": "text"
      },
      "source": [
        "Let's look at the relationship of `embarked`, `fare` and `survived`"
      ]
    },
    {
      "cell_type": "code",
      "metadata": {
        "id": "krlafYLvkFXp",
        "colab_type": "code",
        "outputId": "22b6407c-0188-45e4-b4b8-cdfa96277592",
        "colab": {
          "base_uri": "https://localhost:8080/",
          "height": 166
        }
      },
      "source": [
        "df[['embarked', 'survived', 'fare']].groupby(['embarked']).mean()"
      ],
      "execution_count": 0,
      "outputs": [
        {
          "output_type": "execute_result",
          "data": {
            "text/html": [
              "<div>\n",
              "<style scoped>\n",
              "    .dataframe tbody tr th:only-of-type {\n",
              "        vertical-align: middle;\n",
              "    }\n",
              "\n",
              "    .dataframe tbody tr th {\n",
              "        vertical-align: top;\n",
              "    }\n",
              "\n",
              "    .dataframe thead th {\n",
              "        text-align: right;\n",
              "    }\n",
              "</style>\n",
              "<table border=\"1\" class=\"dataframe\">\n",
              "  <thead>\n",
              "    <tr style=\"text-align: right;\">\n",
              "      <th></th>\n",
              "      <th>survived</th>\n",
              "      <th>fare</th>\n",
              "    </tr>\n",
              "    <tr>\n",
              "      <th>embarked</th>\n",
              "      <th></th>\n",
              "      <th></th>\n",
              "    </tr>\n",
              "  </thead>\n",
              "  <tbody>\n",
              "    <tr>\n",
              "      <th>C</th>\n",
              "      <td>0.555556</td>\n",
              "      <td>62.336269</td>\n",
              "    </tr>\n",
              "    <tr>\n",
              "      <th>Q</th>\n",
              "      <td>0.357724</td>\n",
              "      <td>12.409012</td>\n",
              "    </tr>\n",
              "    <tr>\n",
              "      <th>S</th>\n",
              "      <td>0.332604</td>\n",
              "      <td>27.404619</td>\n",
              "    </tr>\n",
              "  </tbody>\n",
              "</table>\n",
              "</div>"
            ],
            "text/plain": [
              "          survived       fare\n",
              "embarked                     \n",
              "C         0.555556  62.336269\n",
              "Q         0.357724  12.409012\n",
              "S         0.332604  27.404619"
            ]
          },
          "metadata": {
            "tags": []
          },
          "execution_count": 69
        }
      ]
    },
    {
      "cell_type": "markdown",
      "metadata": {
        "id": "iSMpL7L3kR5n",
        "colab_type": "text"
      },
      "source": [
        "We can see that passengers who embarked from `C` had the highest survival rate and highest fare. Since, the two passengers with missing value for `embarked` have fare of 80 £ and survived so we can impute the missing value as `C`"
      ]
    },
    {
      "cell_type": "code",
      "metadata": {
        "id": "3M83jXhik9De",
        "colab_type": "code",
        "colab": {}
      },
      "source": [
        "df.loc[(df.embarked.isna()), \"embarked\"] = 'C'"
      ],
      "execution_count": 0,
      "outputs": []
    },
    {
      "cell_type": "markdown",
      "metadata": {
        "id": "pzuVbL5RlaMB",
        "colab_type": "text"
      },
      "source": [
        "Now let's take care of the missing values in `age`. Let's see age distribution first"
      ]
    },
    {
      "cell_type": "code",
      "metadata": {
        "id": "iWq9q0HDlmH6",
        "colab_type": "code",
        "colab": {}
      },
      "source": [
        "?df.age.plot(kind='hist', linew)"
      ],
      "execution_count": 0,
      "outputs": []
    },
    {
      "cell_type": "code",
      "metadata": {
        "id": "CRc_x9jVGeq4",
        "colab_type": "code",
        "colab": {}
      },
      "source": [
        "print(df.Sex.apply(lambda x: True if x==\"female\" else False).memory_usage())"
      ],
      "execution_count": 0,
      "outputs": []
    }
  ]
}